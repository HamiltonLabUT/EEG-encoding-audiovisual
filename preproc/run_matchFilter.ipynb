{
 "cells": [
  {
   "cell_type": "markdown",
   "metadata": {},
   "source": [
    "# Audiovisual manipulation task match filter "
   ]
  },
  {
   "cell_type": "code",
   "execution_count": 1,
   "metadata": {},
   "outputs": [],
   "source": [
    "from audiotask_preprocessing import *"
   ]
  },
  {
   "cell_type": "code",
   "execution_count": 2,
   "metadata": {},
   "outputs": [],
   "source": [
    "user = 'maansidesai'\n",
    "datadir = f'/Users/{user}/Box/MovieTrailersTask/Data/EEG/Participants/'\n",
    "subject = input('Please enter subject ID: (e.g. MT0002)')\n",
    "block = 1\n",
    "\n",
    "stim_dir = f'/Users/{user}/Box/AV_mixtures_MT/Stimuli'"
   ]
  },
  {
   "cell_type": "code",
   "execution_count": 3,
   "metadata": {},
   "outputs": [
    {
     "name": "stdout",
     "output_type": "stream",
     "text": [
      "aud_vhdr file: /Users/maansidesai/Box/MovieTrailersTask/Data/EEG/Participants//MT0025/audio/MT0025_B1_Audio.vhdr\n"
     ]
    }
   ],
   "source": [
    "#get vhdr filename\n",
    "filename = get_filename(datadir, subject, block, 'aud_vhdr', subtype=None)"
   ]
  },
  {
   "cell_type": "code",
   "execution_count": 4,
   "metadata": {},
   "outputs": [
    {
     "name": "stdout",
     "output_type": "stream",
     "text": [
      "aud_vhdr file: /Users/maansidesai/Box/MovieTrailersTask/Data/EEG/Participants//MT0025/audio/MT0025_B1_Audio.vhdr\n",
      "Extracting parameters from /Users/maansidesai/Box/MovieTrailersTask/Data/EEG/Participants//MT0025/audio/MT0025_B1_Audio.vhdr...\n",
      "Setting channel info structure...\n"
     ]
    },
    {
     "name": "stderr",
     "output_type": "stream",
     "text": [
      "/Users/maansidesai/Desktop/git/audiovisual_trailers/preproc/audiotask_preprocessing.py:148: RuntimeWarning: No coordinate information found for channels ['Aux1']. Setting channel types to misc. To avoid this warning, set channel types explicitly.\n",
      "  raw = mne.io.read_raw_brainvision(aud_vhdr_name, preload=True)  # slow\n"
     ]
    },
    {
     "name": "stdout",
     "output_type": "stream",
     "text": [
      "Reading 0 ... 86274999  =      0.000 ...  3451.000 secs...\n",
      "Creating RawArray with float64 data, n_channels=1, n_times=86275000\n",
      "    Range : 0 ... 86274999 =      0.000 ...  3451.000 secs\n",
      "Ready.\n",
      "aud_hf5 file: /Users/maansidesai/Box/MovieTrailersTask/Data/EEG/Participants//MT0025/audio/MT0025_B1_Audio.hf5\n"
     ]
    }
   ],
   "source": [
    "sound =  EEGaud_to_hf5(datadir, subject, block, sampling_fs = 25000.)"
   ]
  },
  {
   "cell_type": "code",
   "execution_count": 5,
   "metadata": {},
   "outputs": [
    {
     "name": "stdout",
     "output_type": "stream",
     "text": [
      "aud_hf5 file: /Users/maansidesai/Box/MovieTrailersTask/Data/EEG/Participants//MT0025/audio/MT0025_B1_Audio.hf5\n"
     ]
    }
   ],
   "source": [
    "aud_hf5_name = get_filename(datadir, subject, block, 'aud_hf5', subtype=None)\n",
    "\n",
    "with h5py.File(aud_hf5_name, 'r') as hf: # Open the file for reading\n",
    "    aud_dat = hf['aud_dat'][:]"
   ]
  },
  {
   "cell_type": "code",
   "execution_count": 11,
   "metadata": {},
   "outputs": [
    {
     "name": "stdout",
     "output_type": "stream",
     "text": [
      "aud_wav file: /Users/maansidesai/Box/MovieTrailersTask/Data/EEG/Participants//MT0025/audio/MT0025_B1_16kHz.wav\n",
      "Original audio size: 86275000\n",
      "Original audio length: 3451 sec\n",
      "Resampling from 25000 to 16000\n",
      "Resampled audio size: 55216000\n",
      "Resampled audio length: 3451 sec\n",
      "Saved to /Users/maansidesai/Box/MovieTrailersTask/Data/EEG/Participants//MT0025/audio/MT0025_B1_16kHz.wav\n"
     ]
    }
   ],
   "source": [
    "#Now export audio information from EEG experiment to .wav file\n",
    "fs=25000\n",
    "new_filename = get_filename(datadir, subject, block, 'aud_wav', subtype=16000.)\n",
    "new_sound = resample(aud_dat, fs, new_filename, new_fs=16000)"
   ]
  },
  {
   "cell_type": "code",
   "execution_count": 14,
   "metadata": {},
   "outputs": [
    {
     "name": "stdout",
     "output_type": "stream",
     "text": [
      "['/Users/maansidesai/Box/AV_mixtures_MT/Stimuli/MovieTrailers/bighero6-tlr3_a720p.wav', '/Users/maansidesai/Box/AV_mixtures_MT/Stimuli/MovieTrailers/bighero6-tlr3_a720p_visualonly_notif.wav', '/Users/maansidesai/Box/AV_mixtures_MT/Stimuli/MovieTrailers/deep-trailer-1_a720p.wav', '/Users/maansidesai/Box/AV_mixtures_MT/Stimuli/MovieTrailers/deep-trailer-1_a720p_visualonly_notif.wav', '/Users/maansidesai/Box/AV_mixtures_MT/Stimuli/MovieTrailers/ferdinand-trailer-2_a720p.wav', '/Users/maansidesai/Box/AV_mixtures_MT/Stimuli/MovieTrailers/ferdinand-trailer-2_a720p_visualonly_notif.wav', '/Users/maansidesai/Box/AV_mixtures_MT/Stimuli/MovieTrailers/insideout-tlr2zzyy32_a720p.wav', '/Users/maansidesai/Box/AV_mixtures_MT/Stimuli/MovieTrailers/insideout-tlr2zzyy32_a720p_visualonly_notif.wav', '/Users/maansidesai/Box/AV_mixtures_MT/Stimuli/MovieTrailers/insideout-usca-tlr2_a720p.wav', '/Users/maansidesai/Box/AV_mixtures_MT/Stimuli/MovieTrailers/insideout-usca-tlr2_a720p_visualonly_notif.wav', '/Users/maansidesai/Box/AV_mixtures_MT/Stimuli/MovieTrailers/paddington-2-trailer-1_a720p.wav', '/Users/maansidesai/Box/AV_mixtures_MT/Stimuli/MovieTrailers/paddington-2-trailer-1_a720p_visualonly_notif.wav', '/Users/maansidesai/Box/AV_mixtures_MT/Stimuli/MovieTrailers/pele-tlr1_a720p.wav', '/Users/maansidesai/Box/AV_mixtures_MT/Stimuli/MovieTrailers/pele-tlr1_a720p_visualonly_notif.wav', '/Users/maansidesai/Box/AV_mixtures_MT/Stimuli/MovieTrailers/thelittleprince-tlr_a720p.wav', '/Users/maansidesai/Box/AV_mixtures_MT/Stimuli/MovieTrailers/thelittleprince-tlr_a720p_visualonly_notif.wav']\n"
     ]
    }
   ],
   "source": [
    "\n",
    "template_set = 'MovieTrailers'\n",
    "template_dir = '%s/MovieTrailers/' %stim_dir\n",
    "template_files = glob.glob(os.path.join(template_dir, '*.wav'))\n",
    "print(template_files)\n",
    "\n",
    "\n"
   ]
  },
  {
   "cell_type": "code",
   "execution_count": 15,
   "metadata": {},
   "outputs": [
    {
     "name": "stdout",
     "output_type": "stream",
     "text": [
      "aud_wav file: /Users/maansidesai/Box/MovieTrailersTask/Data/EEG/Participants//MT0025/audio/MT0025_B1_16kHz.wav\n",
      "/Users/maansidesai/Box/MovieTrailersTask/Data/EEG/Participants//MT0025/audio/MT0025_B1_16kHz.wav\n",
      "event_file file: /Users/maansidesai/Box/MovieTrailersTask/Data/EEG/Participants//MT0025/audio/MT0025_B1_MovieTrailers_events.txt\n",
      "corr_file file: /Users/maansidesai/Box/MovieTrailersTask/Data/EEG/Participants//MT0025/audio/MT0025_B1_MovieTrailers_corr.txt\n",
      "----------\n",
      "Comparing template files to stimulus audio...\n",
      "----------\n",
      "Stim file: /Users/maansidesai/Box/MovieTrailersTask/Data/EEG/Participants//MT0025/audio/MT0025_B1_16kHz.wav\n",
      "Template set: MovieTrailers\n",
      "Template-stim correlation threshold: 0.5\n",
      "Maximum number of repetitions per template: 3\n",
      "----------\n",
      "Stim aud shape: 55216000\n",
      "Number of template files: 16\n",
      "----------\n",
      "['/Users/maansidesai/Box/AV_mixtures_MT/Stimuli/MovieTrailers/bighero6-tlr3_a720p.wav', '/Users/maansidesai/Box/AV_mixtures_MT/Stimuli/MovieTrailers/bighero6-tlr3_a720p_visualonly_notif.wav', '/Users/maansidesai/Box/AV_mixtures_MT/Stimuli/MovieTrailers/deep-trailer-1_a720p.wav', '/Users/maansidesai/Box/AV_mixtures_MT/Stimuli/MovieTrailers/deep-trailer-1_a720p_visualonly_notif.wav', '/Users/maansidesai/Box/AV_mixtures_MT/Stimuli/MovieTrailers/ferdinand-trailer-2_a720p.wav', '/Users/maansidesai/Box/AV_mixtures_MT/Stimuli/MovieTrailers/ferdinand-trailer-2_a720p_visualonly_notif.wav', '/Users/maansidesai/Box/AV_mixtures_MT/Stimuli/MovieTrailers/insideout-tlr2zzyy32_a720p.wav', '/Users/maansidesai/Box/AV_mixtures_MT/Stimuli/MovieTrailers/insideout-tlr2zzyy32_a720p_visualonly_notif.wav', '/Users/maansidesai/Box/AV_mixtures_MT/Stimuli/MovieTrailers/insideout-usca-tlr2_a720p.wav', '/Users/maansidesai/Box/AV_mixtures_MT/Stimuli/MovieTrailers/insideout-usca-tlr2_a720p_visualonly_notif.wav', '/Users/maansidesai/Box/AV_mixtures_MT/Stimuli/MovieTrailers/paddington-2-trailer-1_a720p.wav', '/Users/maansidesai/Box/AV_mixtures_MT/Stimuli/MovieTrailers/paddington-2-trailer-1_a720p_visualonly_notif.wav', '/Users/maansidesai/Box/AV_mixtures_MT/Stimuli/MovieTrailers/pele-tlr1_a720p.wav', '/Users/maansidesai/Box/AV_mixtures_MT/Stimuli/MovieTrailers/pele-tlr1_a720p_visualonly_notif.wav', '/Users/maansidesai/Box/AV_mixtures_MT/Stimuli/MovieTrailers/thelittleprince-tlr_a720p.wav', '/Users/maansidesai/Box/AV_mixtures_MT/Stimuli/MovieTrailers/thelittleprince-tlr_a720p_visualonly_notif.wav']\n",
      "Searching for template 0/16 (0.0)\n",
      "bighero6-tlr3_a720p.wav\n",
      "(2500697,)\n",
      "(2500697, 1)\n",
      "***Found a match for sentence (1936.320-2092.614), rep 1, r=0.655\n",
      "(2500697,)\n",
      "(2500697, 1)\n",
      "***Found a match for sentence (1467.410-1623.704), rep 2, r=0.650\n",
      "(2500697,)\n",
      "(2500697, 1)\n",
      "Could not find a match for rep 3, best correlation was r=0.015 at 150.640-306.933\n",
      "Skipping the rest for this sentence...\n",
      "/Users/maansidesai/Box/AV_mixtures_MT/Stimuli/MovieTrailers/bighero6-tlr3_a720p.wav, number of events = 3\n",
      "----------\n",
      "Searching for template 1/16 (0.0625)\n",
      "bighero6-tlr3_a720p_visualonly_notif.wav\n",
      "(12296,)\n",
      "(12296, 1)\n",
      "Could not find a match for rep 1, best correlation was r=0.204 at 1417.768-1418.536\n",
      "Skipping the rest for this sentence...\n",
      "/Users/maansidesai/Box/AV_mixtures_MT/Stimuli/MovieTrailers/bighero6-tlr3_a720p_visualonly_notif.wav, number of events = 1\n",
      "----------\n",
      "Searching for template 2/16 (0.125)\n",
      "deep-trailer-1_a720p.wav\n",
      "(1958650,)\n",
      "(1958650, 1)\n",
      "Could not find a match for rep 1, best correlation was r=0.433 at 12.875-135.290\n",
      "Skipping the rest for this sentence...\n",
      "/Users/maansidesai/Box/AV_mixtures_MT/Stimuli/MovieTrailers/deep-trailer-1_a720p.wav, number of events = 1\n",
      "----------\n",
      "Searching for template 3/16 (0.1875)\n",
      "deep-trailer-1_a720p_visualonly_notif.wav\n",
      "(22429,)\n",
      "(22429, 1)\n",
      "Could not find a match for rep 1, best correlation was r=0.316 at 552.859-554.261\n",
      "Skipping the rest for this sentence...\n",
      "/Users/maansidesai/Box/AV_mixtures_MT/Stimuli/MovieTrailers/deep-trailer-1_a720p_visualonly_notif.wav, number of events = 1\n",
      "----------\n",
      "Searching for template 4/16 (0.25)\n",
      "ferdinand-trailer-2_a720p.wav\n",
      "(2394071,)\n",
      "(2394071, 1)\n",
      "***Found a match for sentence (585.867-735.497), rep 1, r=0.500\n",
      "(2394071,)\n",
      "(2394071, 1)\n",
      "Could not find a match for rep 2, best correlation was r=0.494 at 428.505-578.135\n",
      "Skipping the rest for this sentence...\n",
      "/Users/maansidesai/Box/AV_mixtures_MT/Stimuli/MovieTrailers/ferdinand-trailer-2_a720p.wav, number of events = 2\n",
      "----------\n",
      "Searching for template 5/16 (0.3125)\n",
      "ferdinand-trailer-2_a720p_visualonly_notif.wav\n",
      "(12372,)\n",
      "(12372, 1)\n",
      "Could not find a match for rep 1, best correlation was r=0.147 at 954.311-955.084\n",
      "Skipping the rest for this sentence...\n",
      "/Users/maansidesai/Box/AV_mixtures_MT/Stimuli/MovieTrailers/ferdinand-trailer-2_a720p_visualonly_notif.wav, number of events = 1\n",
      "----------\n",
      "Searching for template 6/16 (0.375)\n",
      "insideout-tlr2zzyy32_a720p.wav\n",
      "(2170416,)\n",
      "(2170416, 1)\n",
      "***Found a match for sentence (2540.519-2676.170), rep 1, r=0.594\n",
      "(2170416,)\n",
      "(2170416, 1)\n",
      "***Found a match for sentence (1328.205-1463.856), rep 2, r=0.582\n",
      "(2170416,)\n",
      "(2170416, 1)\n",
      "Could not find a match for rep 3, best correlation was r=0.018 at 166.269-301.920\n",
      "Skipping the rest for this sentence...\n",
      "/Users/maansidesai/Box/AV_mixtures_MT/Stimuli/MovieTrailers/insideout-tlr2zzyy32_a720p.wav, number of events = 3\n",
      "----------\n",
      "Searching for template 7/16 (0.4375)\n",
      "insideout-tlr2zzyy32_a720p_visualonly_notif.wav\n",
      "(11499,)\n",
      "(11499, 1)\n",
      "Could not find a match for rep 1, best correlation was r=0.118 at 468.892-469.611\n",
      "Skipping the rest for this sentence...\n",
      "/Users/maansidesai/Box/AV_mixtures_MT/Stimuli/MovieTrailers/insideout-tlr2zzyy32_a720p_visualonly_notif.wav, number of events = 1\n",
      "----------\n",
      "Searching for template 8/16 (0.5)\n",
      "insideout-usca-tlr2_a720p.wav\n",
      "(2375123,)\n",
      "(2375123, 1)\n",
      "Could not find a match for rep 1, best correlation was r=0.442 at 2842.534-2990.979\n",
      "Skipping the rest for this sentence...\n",
      "/Users/maansidesai/Box/AV_mixtures_MT/Stimuli/MovieTrailers/insideout-usca-tlr2_a720p.wav, number of events = 1\n",
      "----------\n",
      "Searching for template 9/16 (0.5625)\n",
      "insideout-usca-tlr2_a720p_visualonly_notif.wav\n",
      "(34615,)\n",
      "(34615, 1)\n",
      "***Found a match for sentence (3278.997-3281.160), rep 1, r=0.999\n",
      "(34615,)\n",
      "(34615, 1)\n",
      "Could not find a match for rep 2, best correlation was r=0.277 at 483.406-485.570\n",
      "Skipping the rest for this sentence...\n",
      "/Users/maansidesai/Box/AV_mixtures_MT/Stimuli/MovieTrailers/insideout-usca-tlr2_a720p_visualonly_notif.wav, number of events = 2\n",
      "----------\n",
      "Searching for template 10/16 (0.625)\n",
      "paddington-2-trailer-1_a720p.wav\n",
      "(2178218,)\n",
      "(2178218, 1)\n",
      "***Found a match for sentence (3139.954-3276.093), rep 1, r=0.627\n",
      "(2178218,)\n",
      "(2178218, 1)\n",
      "***Found a match for sentence (282.161-418.300), rep 2, r=0.582\n",
      "(2178218,)\n",
      "(2178218, 1)\n",
      "Could not find a match for rep 3, best correlation was r=0.018 at 141.841-277.979\n",
      "Skipping the rest for this sentence...\n",
      "/Users/maansidesai/Box/AV_mixtures_MT/Stimuli/MovieTrailers/paddington-2-trailer-1_a720p.wav, number of events = 3\n",
      "----------\n",
      "Searching for template 11/16 (0.6875)\n",
      "paddington-2-trailer-1_a720p_visualonly_notif.wav\n",
      "(26401,)\n",
      "(26401, 1)\n",
      "Could not find a match for rep 1, best correlation was r=0.374 at 552.821-554.471\n",
      "Skipping the rest for this sentence...\n",
      "/Users/maansidesai/Box/AV_mixtures_MT/Stimuli/MovieTrailers/paddington-2-trailer-1_a720p_visualonly_notif.wav, number of events = 1\n",
      "----------\n",
      "Searching for template 12/16 (0.75)\n",
      "pele-tlr1_a720p.wav\n",
      "(2258466,)\n",
      "(2258466, 1)\n",
      "***Found a match for sentence (1789.173-1930.328), rep 1, r=0.641\n",
      "(2258466,)\n",
      "(2258466, 1)\n",
      "***Found a match for sentence (138.171-279.325), rep 2, r=0.620\n",
      "(2258466,)\n",
      "(2258466, 1)\n",
      "Could not find a match for rep 3, best correlation was r=0.012 at 888.557-1029.711\n",
      "Skipping the rest for this sentence...\n",
      "/Users/maansidesai/Box/AV_mixtures_MT/Stimuli/MovieTrailers/pele-tlr1_a720p.wav, number of events = 3\n",
      "----------\n",
      "Searching for template 13/16 (0.8125)\n",
      "pele-tlr1_a720p_visualonly_notif.wav\n"
     ]
    }
   ],
   "source": [
    "stim_filename = get_filename(datadir, subject, block, 'aud_wav', subtype=16000)\n",
    "print(stim_filename)\n",
    "corr_thresh = 0.5\n",
    "nreps=3\n",
    "\n",
    "all_events, max_corrs = match_template_to_stim(datadir, stim_dir, subject, block, stim_filename, template_files, template_set, corr_thresh, nreps, debug=True)"
   ]
  },
  {
   "cell_type": "code",
   "execution_count": null,
   "metadata": {},
   "outputs": [],
   "source": []
  }
 ],
 "metadata": {
  "kernelspec": {
   "display_name": "Python 3.9.4 ('mne')",
   "language": "python",
   "name": "python3"
  },
  "language_info": {
   "codemirror_mode": {
    "name": "ipython",
    "version": 3
   },
   "file_extension": ".py",
   "mimetype": "text/x-python",
   "name": "python",
   "nbconvert_exporter": "python",
   "pygments_lexer": "ipython3",
   "version": "3.9.4"
  },
  "vscode": {
   "interpreter": {
    "hash": "b1787852c5ebc8a234d5dd588a6827f96e36f4f06bf273e126457c4ca6738dba"
   }
  }
 },
 "nbformat": 4,
 "nbformat_minor": 2
}
