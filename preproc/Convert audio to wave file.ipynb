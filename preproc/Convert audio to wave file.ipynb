{
 "cells": [
  {
   "cell_type": "markdown",
   "metadata": {},
   "source": [
    "# DOWNSAMPLE AND SAVE AUDIO TO A WAV FILE  "
   ]
  },
  {
   "cell_type": "code",
   "execution_count": 3,
   "metadata": {},
   "outputs": [],
   "source": [
    "from audiotask_preprocessing import *"
   ]
  },
  {
   "cell_type": "code",
   "execution_count": 23,
   "metadata": {},
   "outputs": [
    {
     "name": "stdout",
     "output_type": "stream",
     "text": [
      "Please enter subject ID: (e.g. MT0002)MT0035\n"
     ]
    }
   ],
   "source": [
    "user = 'alyssa'\n",
    "datadir = f'/Users/{user}/Library/CloudStorage/Box-Box/MovieTrailersTask/Data/EEG/Participants/'\n",
    "subject = input('Please enter subject ID: (e.g. MT0002)')\n",
    "block = 1\n",
    "\n",
    "stim_dir = f'/Users/{user}/Library/CloudStorage/Box-Box/AV_mixtures_MT_AF/Stimuli'"
   ]
  },
  {
   "cell_type": "code",
   "execution_count": 24,
   "metadata": {},
   "outputs": [
    {
     "name": "stdout",
     "output_type": "stream",
     "text": [
      "aud_vhdr file: /Users/alyssa/Library/CloudStorage/Box-Box/MovieTrailersTask/Data/EEG/Participants//MT0035/audio/MT0035_B1_Audio.vhdr\n"
     ]
    }
   ],
   "source": [
    "#get vhdr filename\n",
    "filename = get_filename(datadir, subject, block, 'aud_vhdr', subtype=None)"
   ]
  },
  {
   "cell_type": "code",
   "execution_count": 25,
   "metadata": {},
   "outputs": [
    {
     "name": "stdout",
     "output_type": "stream",
     "text": [
      "aud_vhdr file: /Users/alyssa/Library/CloudStorage/Box-Box/MovieTrailersTask/Data/EEG/Participants//MT0035/audio/MT0035_B1_Audio.vhdr\n",
      "Extracting parameters from /Users/alyssa/Library/CloudStorage/Box-Box/MovieTrailersTask/Data/EEG/Participants//MT0035/audio/MT0035_B1_Audio.vhdr...\n",
      "Setting channel info structure...\n"
     ]
    },
    {
     "name": "stderr",
     "output_type": "stream",
     "text": [
      "/Users/alyssa/Desktop/lab/code/audiovisual_trailers/preproc/audiotask_preprocessing.py:148: RuntimeWarning: No coordinate information found for channels ['Aux1']. Setting channel types to misc. To avoid this warning, set channel types explicitly.\n",
      "  raw = mne.io.read_raw_brainvision(aud_vhdr_name, preload=True)  # slow\n"
     ]
    },
    {
     "name": "stdout",
     "output_type": "stream",
     "text": [
      "Reading 0 ... 91702499  =      0.000 ...  3668.100 secs...\n",
      "Creating RawArray with float64 data, n_channels=1, n_times=91702500\n",
      "    Range : 0 ... 91702499 =      0.000 ...  3668.100 secs\n",
      "Ready.\n",
      "aud_hf5 file: /Users/alyssa/Library/CloudStorage/Box-Box/MovieTrailersTask/Data/EEG/Participants//MT0035/audio/MT0035_B1_Audio.hf5\n"
     ]
    }
   ],
   "source": [
    "sound =  EEGaud_to_hf5(datadir, subject, block, sampling_fs = 25000.)"
   ]
  },
  {
   "cell_type": "code",
   "execution_count": 26,
   "metadata": {},
   "outputs": [
    {
     "name": "stdout",
     "output_type": "stream",
     "text": [
      "aud_hf5 file: /Users/alyssa/Library/CloudStorage/Box-Box/MovieTrailersTask/Data/EEG/Participants//MT0035/audio/MT0035_B1_Audio.hf5\n"
     ]
    }
   ],
   "source": [
    "aud_hf5_name = get_filename(datadir, subject, block, 'aud_hf5', subtype=None)\n",
    "\n",
    "with h5py.File(aud_hf5_name, 'r') as hf: # Open the file for reading\n",
    "    aud_dat = hf['aud_dat'][:]"
   ]
  },
  {
   "cell_type": "code",
   "execution_count": null,
   "metadata": {},
   "outputs": [
    {
     "name": "stdout",
     "output_type": "stream",
     "text": [
      "aud_wav file: /Users/alyssa/Library/CloudStorage/Box-Box/MovieTrailersTask/Data/EEG/Participants//MT0035/audio/MT0035_B1_16kHz.wav\n",
      "Original audio size: 91702500\n",
      "Original audio length: 3668 sec\n",
      "Resampling from 25000 to 16000\n"
     ]
    }
   ],
   "source": [
    "#Now export audio information from EEG experiment to .wav file\n",
    "fs=25000\n",
    "new_filename = get_filename(datadir, subject, block, 'aud_wav', subtype=16000.)\n",
    "new_sound = resample(aud_dat, fs, new_filename, new_fs=16000)"
   ]
  },
  {
   "cell_type": "code",
   "execution_count": null,
   "metadata": {},
   "outputs": [],
   "source": []
  }
 ],
 "metadata": {
  "kernelspec": {
   "display_name": "Python 3 (ipykernel)",
   "language": "python",
   "name": "python3"
  },
  "language_info": {
   "codemirror_mode": {
    "name": "ipython",
    "version": 3
   },
   "file_extension": ".py",
   "mimetype": "text/x-python",
   "name": "python",
   "nbconvert_exporter": "python",
   "pygments_lexer": "ipython3",
   "version": "3.9.7"
  },
  "vscode": {
   "interpreter": {
    "hash": "b1787852c5ebc8a234d5dd588a6827f96e36f4f06bf273e126457c4ca6738dba"
   }
  }
 },
 "nbformat": 4,
 "nbformat_minor": 2
}
