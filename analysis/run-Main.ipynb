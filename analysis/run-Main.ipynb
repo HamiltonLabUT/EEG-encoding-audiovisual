{
 "cells": [
  {
   "cell_type": "code",
   "execution_count": 1,
   "id": "ac175ec8",
   "metadata": {},
   "outputs": [
    {
     "name": "stderr",
     "output_type": "stream",
     "text": [
      "/Users/maansidesai/.local/lib/python3.9/site-packages/outdated/utils.py:14: OutdatedPackageWarning: The package outdated is out of date. Your version is 0.2.1, the latest is 0.2.2.\n",
      "Set the environment variable OUTDATED_IGNORE=1 to disable these warnings.\n",
      "  return warn(\n",
      "/Users/maansidesai/.local/lib/python3.9/site-packages/outdated/utils.py:14: OutdatedPackageWarning: The package pingouin is out of date. Your version is 0.5.1, the latest is 0.5.3.\n",
      "Set the environment variable OUTDATED_IGNORE=1 to disable these warnings.\n",
      "  return warn(\n"
     ]
    }
   ],
   "source": [
    "from mTRF import *"
   ]
  },
  {
   "cell_type": "code",
   "execution_count": 2,
   "id": "eb9edab8",
   "metadata": {},
   "outputs": [],
   "source": [
    "user = 'maansidesai'\n",
    "\n",
    "data_dir = f'/Users/{user}/Box/MovieTrailersTask/Data/EEG/Participants/'\n",
    "block = 1\n",
    "condition = 'AV'\n",
    "subject = 'MT0028'\n",
    "\n"
   ]
  },
  {
   "cell_type": "markdown",
   "id": "b179f4be",
   "metadata": {},
   "source": [
    "### Run the auditory features (phnfeat + envs + pitch)"
   ]
  },
  {
   "cell_type": "code",
   "execution_count": null,
   "id": "b455dcac",
   "metadata": {},
   "outputs": [],
   "source": [
    "#full auditory model\n",
    "wt, corrs, valphas, allRcorrs, all_corrs_shuff = strf_features(subject, block, data_dir, condition, full_model=True, \n",
    "                                                               delay_max=0.6, delay_min=0.0, fs=128., wt_pad=0.0)"
   ]
  },
  {
   "cell_type": "code",
   "execution_count": null,
   "id": "f0423b15",
   "metadata": {},
   "outputs": [],
   "source": [
    "#envelope only\n",
    "wt, corrs, valphas, allRcorrs, all_corrs_shuff = strf_features(subject, block, data_dir, condition, envs_only = True, \n",
    "                                                               delay_max=0.6, delay_min=0.0, fs=128., wt_pad=0.0)"
   ]
  },
  {
   "cell_type": "code",
   "execution_count": null,
   "id": "9f585cf3",
   "metadata": {},
   "outputs": [],
   "source": [
    "#pitch only\n",
    "wt, corrs, valphas, allRcorrs, all_corrs_shuff = strf_features(subject, block, data_dir, condition, pitch_only = True, \n",
    "                                                               delay_max=0.6, delay_min=0.0, fs=128., wt_pad=0.0)"
   ]
  },
  {
   "cell_type": "code",
   "execution_count": null,
   "id": "d9457655",
   "metadata": {},
   "outputs": [],
   "source": [
    "#pitch + envs\n",
    "wt, corrs, valphas, allRcorrs, all_corrs_shuff = strf_features(subject, block, data_dir, condition, pitchUenvs = True, \n",
    "                                                               delay_max=0.6, delay_min=0.0, fs=128., wt_pad=0.0)"
   ]
  },
  {
   "cell_type": "code",
   "execution_count": null,
   "id": "3533e5cf",
   "metadata": {},
   "outputs": [],
   "source": [
    "\n",
    "#phonological features only\n",
    "wt, corrs, valphas, allRcorrs, all_corrs_shuff = strf_features(subject, block, data_dir, condition, phnfeat_only = True, \n",
    "                                                               delay_max=0.6, delay_min=0.0, fs=128., wt_pad=0.0)"
   ]
  },
  {
   "cell_type": "code",
   "execution_count": null,
   "id": "f755be95",
   "metadata": {},
   "outputs": [],
   "source": [
    "#pitch + phnfeat\n",
    "wt, corrs, valphas, allRcorrs, all_corrs_shuff = strf_features(subject, block, data_dir, condition, pitchUphnfeat = True, \n",
    "                                                               delay_max=0.6, delay_min=0.0, fs=128., wt_pad=0.0)"
   ]
  },
  {
   "cell_type": "code",
   "execution_count": null,
   "id": "a5786399",
   "metadata": {},
   "outputs": [],
   "source": [
    "#envs + phnfeat\n",
    "wt, corrs, valphas, allRcorrs, all_corrs_shuff = strf_features(subject, block, data_dir, condition, envsUphnfeat = True, \n",
    "                                                               delay_max=0.6, delay_min=0.0, fs=128., wt_pad=0.0)"
   ]
  },
  {
   "cell_type": "markdown",
   "id": "87b25fda",
   "metadata": {},
   "source": [
    "# Visual features"
   ]
  },
  {
   "cell_type": "code",
   "execution_count": null,
   "id": "61899cf3",
   "metadata": {},
   "outputs": [],
   "source": [
    "#gabor only\n",
    "# subject = 'MT0035'\n",
    "# condition = 'V'\n",
    "wt, corrs, valphas, allRcorrs, all_corrs_shuff = strf_features(subject, block, data_dir, condition, \n",
    "                                                               gabor_only = True, \n",
    "                                                               delay_max=0.6, delay_min=0.0, fs=128., wt_pad=0.0)"
   ]
  },
  {
   "cell_type": "code",
   "execution_count": null,
   "id": "b9c734ef",
   "metadata": {},
   "outputs": [],
   "source": [
    "#scene cut\n",
    "wt, corrs, valphas, allRcorrs, all_corrs_shuff = strf_features(subject, block, data_dir, condition, scene_cut=True,\n",
    "                                                               delay_max=0.6, delay_min=0.0, fs=128., wt_pad=0.0)"
   ]
  },
  {
   "cell_type": "code",
   "execution_count": null,
   "id": "2cf37d1f",
   "metadata": {},
   "outputs": [],
   "source": [
    "#gabor + scene cut\n",
    "wt, corrs, valphas, allRcorrs, all_corrs_shuff = strf_features(subject, block, data_dir, condition, \n",
    "                                                               scene_cut_gaborpc=True, \n",
    "                                                               delay_max=0.6, delay_min=0.0, fs=128., wt_pad=0.0)"
   ]
  },
  {
   "cell_type": "markdown",
   "id": "ed2febc6",
   "metadata": {},
   "source": [
    "# Combination of auditory and visual features"
   ]
  },
  {
   "cell_type": "code",
   "execution_count": null,
   "id": "faa3a58c",
   "metadata": {},
   "outputs": [],
   "source": [
    "# #auditory features + gabor \n",
    "# wt, corrs, valphas, allRcorrs, all_corrs_shuff = strf_features(subject, block, data_dir, condition, full_gabor=True, \n",
    "#                                                                delay_max=0.6, delay_min=0.0, fs=128., wt_pad=0.0)"
   ]
  },
  {
   "cell_type": "code",
   "execution_count": null,
   "id": "1c03524e",
   "metadata": {},
   "outputs": [],
   "source": [
    "#auditory features + gabor + scene cut\n",
    "wt, corrs, valphas, allRcorrs, all_corrs_shuff = strf_features(subject, block, data_dir, condition, full_gabor_sc=True, \n",
    "                                                               delay_max=0.6, delay_min=0.0, fs=128., wt_pad=0.0)"
   ]
  },
  {
   "cell_type": "markdown",
   "id": "a8dacdb0",
   "metadata": {},
   "source": [
    "# Mouth movement with phonological features to assess talker congruency"
   ]
  },
  {
   "cell_type": "code",
   "execution_count": 3,
   "id": "be945d32",
   "metadata": {},
   "outputs": [
    {
     "name": "stdout",
     "output_type": "stream",
     "text": [
      "['bighero6-tlr3_a720p.wav', 'deep-trailer-1_a720p.wav', 'ferdinand-trailer-2_a720p.wav', 'insideout-tlr2zzyy32_a720p.wav', 'insideout-usca-tlr2_a720p.wav', 'paddington-2-trailer-1_a720p.wav', 'pele-tlr1_a720p.wav', 'thelittleprince-tlr_a720p.wav']\n",
      "bighero6-tlr3_a720p.wav\n",
      "phnfeatmat shape is:\n",
      "(14, 20006)\n",
      "scene cut shape is:\n",
      "(2, 20006)\n",
      "taking the mean across repeats\n",
      "(64, 20006)\n",
      "deep-trailer-1_a720p.wav\n",
      "phnfeatmat shape is:\n",
      "(14, 15670)\n",
      "scene cut shape is:\n",
      "(2, 15670)\n",
      "taking the mean across repeats\n",
      "(64, 15670)\n",
      "ferdinand-trailer-2_a720p.wav\n",
      "phnfeatmat shape is:\n",
      "(14, 19153)\n",
      "scene cut shape is:\n",
      "(2, 19153)\n",
      "taking the mean across repeats\n",
      "(64, 19153)\n",
      "insideout-tlr2zzyy32_a720p.wav\n",
      "phnfeatmat shape is:\n",
      "(14, 17364)\n",
      "scene cut shape is:\n",
      "(2, 17364)\n",
      "taking the mean across repeats\n",
      "(64, 17364)\n",
      "insideout-usca-tlr2_a720p.wav\n",
      "phnfeatmat shape is:\n",
      "(14, 19002)\n",
      "scene cut shape is:\n",
      "(2, 19002)\n",
      "taking the mean across repeats\n",
      "(64, 19002)\n",
      "paddington-2-trailer-1_a720p.wav\n",
      "phnfeatmat shape is:\n",
      "(14, 17427)\n",
      "scene cut shape is:\n",
      "(2, 17427)\n",
      "taking the mean across repeats\n",
      "(64, 17427)\n",
      "pele-tlr1_a720p.wav\n",
      "phnfeatmat shape is:\n",
      "(14, 18068)\n",
      "scene cut shape is:\n",
      "(2, 18068)\n",
      "taking the mean across repeats\n",
      "(64, 18068)\n",
      "thelittleprince-tlr_a720p.wav\n",
      "phnfeatmat shape is:\n",
      "(14, 20001)\n",
      "scene cut shape is:\n",
      "(2, 20001)\n",
      "taking the mean across repeats\n",
      "(64, 20001)\n",
      "['paddington-2-trailer-1_a720p.wav', 'insideout-tlr2zzyy32_a720p.wav']\n",
      "insideout-tlr2zzyy32_a720p.wav\n",
      "paddington-2-trailer-1_a720p.wav\n",
      "Total number of training sentences:\n",
      "6\n",
      "Total number of validation sentences:\n",
      "2\n",
      "Training indices:\n",
      "[0 1 2 4 6 7]\n",
      "Validation indices:\n",
      "[3 5]\n",
      "Delays: [ 0  1  2  3  4  5  6  7  8  9 10 11 12 13 14 15 16 17 18 19 20 21 22 23\n",
      " 24 25 26 27 28 29 30 31 32 33 34 35 36 37 38 39 40 41 42 43 44 45 46 47\n",
      " 48 49 50 51 52 53 54 55 56 57 58 59 60 61 62 63 64 65 66 67 68 69 70 71\n",
      " 72 73 74 75 76]\n",
      "(64, 20006)\n",
      "['paddington-2-trailer-1_a720p.wav', 'insideout-tlr2zzyy32_a720p.wav']\n",
      "6\n",
      "bighero6-tlr3_a720p.wav\n",
      "deep-trailer-1_a720p.wav\n",
      "ferdinand-trailer-2_a720p.wav\n",
      "insideout-usca-tlr2_a720p.wav\n",
      "pele-tlr1_a720p.wav\n",
      "thelittleprince-tlr_a720p.wav\n",
      "**********************************\n",
      "(16,)\n",
      "(16,)\n",
      "**********************************\n"
     ]
    },
    {
     "name": "stderr",
     "output_type": "stream",
     "text": [
      "DEBUG:matplotlib.colorbar:locator: <matplotlib.colorbar._ColorbarAutoLocator object at 0x1c37c28b0>\n",
      "DEBUG:matplotlib.colorbar:Using auto colorbar locator <matplotlib.colorbar._ColorbarAutoLocator object at 0x1c37c28b0> on colorbar\n",
      "DEBUG:matplotlib.colorbar:Setting pcolormesh\n",
      "INFO:ridge_corr:Selecting held-out test set..\n"
     ]
    },
    {
     "name": "stdout",
     "output_type": "stream",
     "text": [
      "*************************\n",
      "(34791, 1232)\n",
      "*************************\n",
      "printing vResp: \n",
      "(34791, 64)\n",
      "*************************\n"
     ]
    },
    {
     "name": "stderr",
     "output_type": "stream",
     "text": [
      "INFO:ridge_corr:Doing Eigenvalue decomposition...\n"
     ]
    },
    {
     "name": "stdout",
     "output_type": "stream",
     "text": [
      "Cmode = False\n",
      "Number of time points is greater than the number of features\n"
     ]
    },
    {
     "name": "stderr",
     "output_type": "stream",
     "text": [
      "INFO:ridge_corr:Training: alpha=0.000, mean corr=0.00636, max corr=0.04569, over-under(0.05)=0\n",
      "INFO:ridge_corr:Training: alpha=100.000, mean corr=0.00725, max corr=0.04297, over-under(0.05)=0\n",
      "INFO:ridge_corr:Training: alpha=206.914, mean corr=0.00790, max corr=0.04557, over-under(0.05)=0\n",
      "INFO:ridge_corr:Training: alpha=428.133, mean corr=0.00872, max corr=0.04929, over-under(0.05)=0\n",
      "INFO:ridge_corr:Training: alpha=885.867, mean corr=0.00971, max corr=0.05424, over-under(0.05)=3\n",
      "INFO:ridge_corr:Training: alpha=1832.981, mean corr=0.01087, max corr=0.06016, over-under(0.05)=4\n",
      "INFO:ridge_corr:Training: alpha=3792.690, mean corr=0.01222, max corr=0.06632, over-under(0.05)=6\n",
      "INFO:ridge_corr:Training: alpha=7847.600, mean corr=0.01353, max corr=0.07169, over-under(0.05)=8\n",
      "INFO:ridge_corr:Training: alpha=16237.767, mean corr=0.01427, max corr=0.07502, over-under(0.05)=8\n",
      "INFO:ridge_corr:Training: alpha=33598.183, mean corr=0.01392, max corr=0.07610, over-under(0.05)=8\n",
      "INFO:ridge_corr:Training: alpha=69519.280, mean corr=0.01228, max corr=0.07291, over-under(0.05)=8\n",
      "INFO:ridge_corr:Training: alpha=143844.989, mean corr=0.00943, max corr=0.06462, over-under(0.05)=8\n",
      "INFO:ridge_corr:Training: alpha=297635.144, mean corr=0.00583, max corr=0.05340, over-under(0.05)=6\n",
      "INFO:ridge_corr:Training: alpha=615848.211, mean corr=0.00234, max corr=0.04719, over-under(0.05)=0\n",
      "INFO:ridge_corr:Training: alpha=1274274.986, mean corr=-0.00045, max corr=0.04170, over-under(0.05)=0\n",
      "INFO:ridge_corr:Training: alpha=2636650.899, mean corr=-0.00243, max corr=0.03759, over-under(0.05)=0\n",
      "INFO:ridge_corr:Training: alpha=5455594.781, mean corr=-0.00371, max corr=0.03479, over-under(0.05)=0\n",
      "INFO:ridge_corr:Training: alpha=11288378.917, mean corr=-0.00446, max corr=0.03304, over-under(0.05)=0\n",
      "INFO:ridge_corr:Training: alpha=23357214.691, mean corr=-0.00486, max corr=0.03205, over-under(0.05)=0\n",
      "INFO:ridge_corr:Training: alpha=48329302.386, mean corr=-0.00507, max corr=0.03152, over-under(0.05)=0\n",
      "INFO:ridge_corr:Training: alpha=100000000.000, mean corr=-0.00517, max corr=0.03125, over-under(0.05)=0\n",
      "INFO:counter:1/20 items complete (7.87 seconds/item, 00:02:29 remaining)\n",
      "INFO:ridge_corr:Selecting held-out test set..\n",
      "INFO:ridge_corr:Doing Eigenvalue decomposition...\n"
     ]
    },
    {
     "name": "stdout",
     "output_type": "stream",
     "text": [
      "Cmode = False\n",
      "Number of time points is greater than the number of features\n"
     ]
    },
    {
     "name": "stderr",
     "output_type": "stream",
     "text": [
      "INFO:ridge_corr:Training: alpha=0.000, mean corr=0.00451, max corr=0.04021, over-under(0.05)=0\n",
      "INFO:ridge_corr:Training: alpha=100.000, mean corr=0.00225, max corr=0.03508, over-under(0.05)=-1\n",
      "INFO:ridge_corr:Training: alpha=206.914, mean corr=0.00220, max corr=0.03506, over-under(0.05)=-1\n",
      "INFO:ridge_corr:Training: alpha=428.133, mean corr=0.00243, max corr=0.03481, over-under(0.05)=-1\n",
      "INFO:ridge_corr:Training: alpha=885.867, mean corr=0.00300, max corr=0.03263, over-under(0.05)=-1\n",
      "INFO:ridge_corr:Training: alpha=1832.981, mean corr=0.00391, max corr=0.02806, over-under(0.05)=0\n",
      "INFO:ridge_corr:Training: alpha=3792.690, mean corr=0.00509, max corr=0.02238, over-under(0.05)=0\n",
      "INFO:ridge_corr:Training: alpha=7847.600, mean corr=0.00640, max corr=0.02297, over-under(0.05)=0\n",
      "INFO:ridge_corr:Training: alpha=16237.767, mean corr=0.00741, max corr=0.02347, over-under(0.05)=0\n",
      "INFO:ridge_corr:Training: alpha=33598.183, mean corr=0.00767, max corr=0.02445, over-under(0.05)=0\n",
      "INFO:ridge_corr:Training: alpha=69519.280, mean corr=0.00713, max corr=0.02562, over-under(0.05)=0\n",
      "INFO:ridge_corr:Training: alpha=143844.989, mean corr=0.00620, max corr=0.02593, over-under(0.05)=0\n",
      "INFO:ridge_corr:Training: alpha=297635.144, mean corr=0.00537, max corr=0.02491, over-under(0.05)=0\n",
      "INFO:ridge_corr:Training: alpha=615848.211, mean corr=0.00486, max corr=0.02283, over-under(0.05)=0\n",
      "INFO:ridge_corr:Training: alpha=1274274.986, mean corr=0.00450, max corr=0.02120, over-under(0.05)=0\n",
      "INFO:ridge_corr:Training: alpha=2636650.899, mean corr=0.00417, max corr=0.01983, over-under(0.05)=0\n",
      "INFO:ridge_corr:Training: alpha=5455594.781, mean corr=0.00393, max corr=0.01919, over-under(0.05)=0\n",
      "INFO:ridge_corr:Training: alpha=11288378.917, mean corr=0.00381, max corr=0.01877, over-under(0.05)=0\n",
      "INFO:ridge_corr:Training: alpha=23357214.691, mean corr=0.00376, max corr=0.01853, over-under(0.05)=0\n",
      "INFO:ridge_corr:Training: alpha=48329302.386, mean corr=0.00373, max corr=0.01839, over-under(0.05)=0\n",
      "INFO:ridge_corr:Training: alpha=100000000.000, mean corr=0.00372, max corr=0.01833, over-under(0.05)=0\n",
      "INFO:counter:2/20 items complete (8.17 seconds/item, 00:02:27 remaining)\n",
      "INFO:ridge_corr:Selecting held-out test set..\n",
      "INFO:ridge_corr:Doing Eigenvalue decomposition...\n"
     ]
    },
    {
     "name": "stdout",
     "output_type": "stream",
     "text": [
      "Cmode = False\n",
      "Number of time points is greater than the number of features\n"
     ]
    },
    {
     "name": "stderr",
     "output_type": "stream",
     "text": [
      "INFO:ridge_corr:Training: alpha=0.000, mean corr=0.01757, max corr=0.03943, over-under(0.05)=0\n",
      "INFO:ridge_corr:Training: alpha=100.000, mean corr=0.01997, max corr=0.04610, over-under(0.05)=0\n",
      "INFO:ridge_corr:Training: alpha=206.914, mean corr=0.02117, max corr=0.04829, over-under(0.05)=0\n",
      "INFO:ridge_corr:Training: alpha=428.133, mean corr=0.02253, max corr=0.05108, over-under(0.05)=2\n",
      "INFO:ridge_corr:Training: alpha=885.867, mean corr=0.02396, max corr=0.05433, over-under(0.05)=3\n",
      "INFO:ridge_corr:Training: alpha=1832.981, mean corr=0.02556, max corr=0.05748, over-under(0.05)=13\n",
      "INFO:ridge_corr:Training: alpha=3792.690, mean corr=0.02740, max corr=0.06032, over-under(0.05)=16\n",
      "INFO:ridge_corr:Training: alpha=7847.600, mean corr=0.02936, max corr=0.06260, over-under(0.05)=16\n",
      "INFO:ridge_corr:Training: alpha=16237.767, mean corr=0.03095, max corr=0.06566, over-under(0.05)=18\n",
      "INFO:ridge_corr:Training: alpha=33598.183, mean corr=0.03146, max corr=0.06797, over-under(0.05)=19\n",
      "INFO:ridge_corr:Training: alpha=69519.280, mean corr=0.03053, max corr=0.06864, over-under(0.05)=18\n",
      "INFO:ridge_corr:Training: alpha=143844.989, mean corr=0.02828, max corr=0.06663, over-under(0.05)=16\n",
      "INFO:ridge_corr:Training: alpha=297635.144, mean corr=0.02513, max corr=0.06119, over-under(0.05)=10\n",
      "INFO:ridge_corr:Training: alpha=615848.211, mean corr=0.02177, max corr=0.05527, over-under(0.05)=7\n",
      "INFO:ridge_corr:Training: alpha=1274274.986, mean corr=0.01903, max corr=0.05290, over-under(0.05)=2\n",
      "INFO:ridge_corr:Training: alpha=2636650.899, mean corr=0.01722, max corr=0.05052, over-under(0.05)=1\n",
      "INFO:ridge_corr:Training: alpha=5455594.781, mean corr=0.01618, max corr=0.04880, over-under(0.05)=0\n",
      "INFO:ridge_corr:Training: alpha=11288378.917, mean corr=0.01563, max corr=0.04773, over-under(0.05)=0\n",
      "INFO:ridge_corr:Training: alpha=23357214.691, mean corr=0.01535, max corr=0.04712, over-under(0.05)=0\n",
      "INFO:ridge_corr:Training: alpha=48329302.386, mean corr=0.01521, max corr=0.04679, over-under(0.05)=0\n",
      "INFO:ridge_corr:Training: alpha=100000000.000, mean corr=0.01514, max corr=0.04663, over-under(0.05)=0\n",
      "INFO:counter:3/20 items complete (8.04 seconds/item, 00:02:16 remaining)\n",
      "INFO:ridge_corr:Selecting held-out test set..\n",
      "INFO:ridge_corr:Doing Eigenvalue decomposition...\n"
     ]
    },
    {
     "name": "stdout",
     "output_type": "stream",
     "text": [
      "Cmode = False\n",
      "Number of time points is greater than the number of features\n"
     ]
    },
    {
     "name": "stderr",
     "output_type": "stream",
     "text": [
      "INFO:ridge_corr:Training: alpha=0.000, mean corr=0.00096, max corr=0.02680, over-under(0.05)=0\n",
      "INFO:ridge_corr:Training: alpha=100.000, mean corr=0.00346, max corr=0.02721, over-under(0.05)=0\n",
      "INFO:ridge_corr:Training: alpha=206.914, mean corr=0.00526, max corr=0.02695, over-under(0.05)=0\n",
      "INFO:ridge_corr:Training: alpha=428.133, mean corr=0.00784, max corr=0.03156, over-under(0.05)=0\n",
      "INFO:ridge_corr:Training: alpha=885.867, mean corr=0.01118, max corr=0.03698, over-under(0.05)=0\n",
      "INFO:ridge_corr:Training: alpha=1832.981, mean corr=0.01498, max corr=0.04478, over-under(0.05)=0\n",
      "INFO:ridge_corr:Training: alpha=3792.690, mean corr=0.01864, max corr=0.05274, over-under(0.05)=3\n",
      "INFO:ridge_corr:Training: alpha=7847.600, mean corr=0.02150, max corr=0.05827, over-under(0.05)=5\n",
      "INFO:ridge_corr:Training: alpha=16237.767, mean corr=0.02311, max corr=0.06039, over-under(0.05)=7\n",
      "INFO:ridge_corr:Training: alpha=33598.183, mean corr=0.02319, max corr=0.05935, over-under(0.05)=6\n",
      "INFO:ridge_corr:Training: alpha=69519.280, mean corr=0.02161, max corr=0.05531, over-under(0.05)=3\n",
      "INFO:ridge_corr:Training: alpha=143844.989, mean corr=0.01851, max corr=0.04772, over-under(0.05)=0\n",
      "INFO:ridge_corr:Training: alpha=297635.144, mean corr=0.01467, max corr=0.03772, over-under(0.05)=0\n",
      "INFO:ridge_corr:Training: alpha=615848.211, mean corr=0.01118, max corr=0.02858, over-under(0.05)=0\n",
      "INFO:ridge_corr:Training: alpha=1274274.986, mean corr=0.00865, max corr=0.02325, over-under(0.05)=0\n",
      "INFO:ridge_corr:Training: alpha=2636650.899, mean corr=0.00700, max corr=0.02021, over-under(0.05)=0\n",
      "INFO:ridge_corr:Training: alpha=5455594.781, mean corr=0.00598, max corr=0.01871, over-under(0.05)=0\n",
      "INFO:ridge_corr:Training: alpha=11288378.917, mean corr=0.00536, max corr=0.01782, over-under(0.05)=0\n",
      "INFO:ridge_corr:Training: alpha=23357214.691, mean corr=0.00502, max corr=0.01734, over-under(0.05)=0\n",
      "INFO:ridge_corr:Training: alpha=48329302.386, mean corr=0.00484, max corr=0.01709, over-under(0.05)=0\n",
      "INFO:ridge_corr:Training: alpha=100000000.000, mean corr=0.00475, max corr=0.01697, over-under(0.05)=0\n",
      "INFO:counter:4/20 items complete (7.91 seconds/item, 00:02:06 remaining)\n",
      "INFO:ridge_corr:Selecting held-out test set..\n",
      "INFO:ridge_corr:Doing Eigenvalue decomposition...\n"
     ]
    },
    {
     "name": "stdout",
     "output_type": "stream",
     "text": [
      "Cmode = False\n",
      "Number of time points is greater than the number of features\n"
     ]
    },
    {
     "name": "stderr",
     "output_type": "stream",
     "text": [
      "INFO:ridge_corr:Training: alpha=0.000, mean corr=0.01001, max corr=0.03747, over-under(0.05)=0\n",
      "INFO:ridge_corr:Training: alpha=100.000, mean corr=0.01190, max corr=0.03933, over-under(0.05)=0\n",
      "INFO:ridge_corr:Training: alpha=206.914, mean corr=0.01324, max corr=0.04026, over-under(0.05)=0\n",
      "INFO:ridge_corr:Training: alpha=428.133, mean corr=0.01490, max corr=0.04114, over-under(0.05)=0\n",
      "INFO:ridge_corr:Training: alpha=885.867, mean corr=0.01660, max corr=0.04165, over-under(0.05)=0\n",
      "INFO:ridge_corr:Training: alpha=1832.981, mean corr=0.01800, max corr=0.04144, over-under(0.05)=0\n",
      "INFO:ridge_corr:Training: alpha=3792.690, mean corr=0.01893, max corr=0.04036, over-under(0.05)=0\n",
      "INFO:ridge_corr:Training: alpha=7847.600, mean corr=0.01935, max corr=0.03847, over-under(0.05)=0\n",
      "INFO:ridge_corr:Training: alpha=16237.767, mean corr=0.01922, max corr=0.03676, over-under(0.05)=0\n",
      "INFO:ridge_corr:Training: alpha=33598.183, mean corr=0.01840, max corr=0.03459, over-under(0.05)=0\n",
      "INFO:ridge_corr:Training: alpha=69519.280, mean corr=0.01678, max corr=0.03175, over-under(0.05)=0\n",
      "INFO:ridge_corr:Training: alpha=143844.989, mean corr=0.01437, max corr=0.02797, over-under(0.05)=0\n",
      "INFO:ridge_corr:Training: alpha=297635.144, mean corr=0.01146, max corr=0.02370, over-under(0.05)=0\n",
      "INFO:ridge_corr:Training: alpha=615848.211, mean corr=0.00868, max corr=0.01997, over-under(0.05)=0\n",
      "INFO:ridge_corr:Training: alpha=1274274.986, mean corr=0.00648, max corr=0.01713, over-under(0.05)=0\n",
      "INFO:ridge_corr:Training: alpha=2636650.899, mean corr=0.00492, max corr=0.01561, over-under(0.05)=0\n",
      "INFO:ridge_corr:Training: alpha=5455594.781, mean corr=0.00393, max corr=0.01468, over-under(0.05)=0\n",
      "INFO:ridge_corr:Training: alpha=11288378.917, mean corr=0.00336, max corr=0.01419, over-under(0.05)=0\n",
      "INFO:ridge_corr:Training: alpha=23357214.691, mean corr=0.00306, max corr=0.01394, over-under(0.05)=0\n",
      "INFO:ridge_corr:Training: alpha=48329302.386, mean corr=0.00290, max corr=0.01382, over-under(0.05)=0\n",
      "INFO:ridge_corr:Training: alpha=100000000.000, mean corr=0.00283, max corr=0.01376, over-under(0.05)=0\n",
      "INFO:counter:5/20 items complete (7.96 seconds/item, 00:01:59 remaining)\n",
      "INFO:ridge_corr:Selecting held-out test set..\n",
      "INFO:ridge_corr:Doing Eigenvalue decomposition...\n"
     ]
    },
    {
     "name": "stdout",
     "output_type": "stream",
     "text": [
      "Cmode = False\n",
      "Number of time points is greater than the number of features\n"
     ]
    },
    {
     "name": "stderr",
     "output_type": "stream",
     "text": [
      "INFO:ridge_corr:Training: alpha=0.000, mean corr=0.02012, max corr=0.04769, over-under(0.05)=0\n",
      "INFO:ridge_corr:Training: alpha=100.000, mean corr=0.02356, max corr=0.05792, over-under(0.05)=4\n",
      "INFO:ridge_corr:Training: alpha=206.914, mean corr=0.02462, max corr=0.06090, over-under(0.05)=4\n",
      "INFO:ridge_corr:Training: alpha=428.133, mean corr=0.02561, max corr=0.06393, over-under(0.05)=5\n",
      "INFO:ridge_corr:Training: alpha=885.867, mean corr=0.02644, max corr=0.06686, over-under(0.05)=5\n",
      "INFO:ridge_corr:Training: alpha=1832.981, mean corr=0.02712, max corr=0.06934, over-under(0.05)=10\n",
      "INFO:ridge_corr:Training: alpha=3792.690, mean corr=0.02771, max corr=0.07211, over-under(0.05)=10\n",
      "INFO:ridge_corr:Training: alpha=7847.600, mean corr=0.02822, max corr=0.07310, over-under(0.05)=11\n",
      "INFO:ridge_corr:Training: alpha=16237.767, mean corr=0.02836, max corr=0.07213, over-under(0.05)=10\n",
      "INFO:ridge_corr:Training: alpha=33598.183, mean corr=0.02782, max corr=0.06935, over-under(0.05)=10\n",
      "INFO:ridge_corr:Training: alpha=69519.280, mean corr=0.02648, max corr=0.06467, over-under(0.05)=7\n",
      "INFO:ridge_corr:Training: alpha=143844.989, mean corr=0.02440, max corr=0.05765, over-under(0.05)=4\n",
      "INFO:ridge_corr:Training: alpha=297635.144, mean corr=0.02188, max corr=0.04890, over-under(0.05)=0\n",
      "INFO:ridge_corr:Training: alpha=615848.211, mean corr=0.01942, max corr=0.04123, over-under(0.05)=0\n",
      "INFO:ridge_corr:Training: alpha=1274274.986, mean corr=0.01736, max corr=0.03930, over-under(0.05)=0\n",
      "INFO:ridge_corr:Training: alpha=2636650.899, mean corr=0.01582, max corr=0.03746, over-under(0.05)=0\n",
      "INFO:ridge_corr:Training: alpha=5455594.781, mean corr=0.01478, max corr=0.03637, over-under(0.05)=0\n",
      "INFO:ridge_corr:Training: alpha=11288378.917, mean corr=0.01415, max corr=0.03571, over-under(0.05)=0\n",
      "INFO:ridge_corr:Training: alpha=23357214.691, mean corr=0.01380, max corr=0.03533, over-under(0.05)=0\n",
      "INFO:ridge_corr:Training: alpha=48329302.386, mean corr=0.01362, max corr=0.03514, over-under(0.05)=0\n",
      "INFO:ridge_corr:Training: alpha=100000000.000, mean corr=0.01354, max corr=0.03504, over-under(0.05)=0\n",
      "INFO:counter:6/20 items complete (7.94 seconds/item, 00:01:51 remaining)\n",
      "INFO:ridge_corr:Selecting held-out test set..\n",
      "INFO:ridge_corr:Doing Eigenvalue decomposition...\n"
     ]
    },
    {
     "name": "stdout",
     "output_type": "stream",
     "text": [
      "Cmode = False\n",
      "Number of time points is greater than the number of features\n"
     ]
    },
    {
     "name": "stderr",
     "output_type": "stream",
     "text": [
      "INFO:ridge_corr:Training: alpha=0.000, mean corr=0.01004, max corr=0.02623, over-under(0.05)=0\n",
      "INFO:ridge_corr:Training: alpha=100.000, mean corr=0.01277, max corr=0.03538, over-under(0.05)=0\n",
      "INFO:ridge_corr:Training: alpha=206.914, mean corr=0.01340, max corr=0.03668, over-under(0.05)=0\n",
      "INFO:ridge_corr:Training: alpha=428.133, mean corr=0.01396, max corr=0.03741, over-under(0.05)=0\n",
      "INFO:ridge_corr:Training: alpha=885.867, mean corr=0.01450, max corr=0.03771, over-under(0.05)=0\n",
      "INFO:ridge_corr:Training: alpha=1832.981, mean corr=0.01500, max corr=0.03793, over-under(0.05)=0\n",
      "INFO:ridge_corr:Training: alpha=3792.690, mean corr=0.01543, max corr=0.03880, over-under(0.05)=0\n",
      "INFO:ridge_corr:Training: alpha=7847.600, mean corr=0.01567, max corr=0.03874, over-under(0.05)=0\n",
      "INFO:ridge_corr:Training: alpha=16237.767, mean corr=0.01544, max corr=0.03737, over-under(0.05)=0\n",
      "INFO:ridge_corr:Training: alpha=33598.183, mean corr=0.01445, max corr=0.03527, over-under(0.05)=0\n",
      "INFO:ridge_corr:Training: alpha=69519.280, mean corr=0.01269, max corr=0.03397, over-under(0.05)=0\n",
      "INFO:ridge_corr:Training: alpha=143844.989, mean corr=0.01047, max corr=0.03235, over-under(0.05)=0\n",
      "INFO:ridge_corr:Training: alpha=297635.144, mean corr=0.00822, max corr=0.03032, over-under(0.05)=0\n",
      "INFO:ridge_corr:Training: alpha=615848.211, mean corr=0.00630, max corr=0.02824, over-under(0.05)=0\n",
      "INFO:ridge_corr:Training: alpha=1274274.986, mean corr=0.00483, max corr=0.02660, over-under(0.05)=0\n",
      "INFO:ridge_corr:Training: alpha=2636650.899, mean corr=0.00372, max corr=0.02556, over-under(0.05)=0\n",
      "INFO:ridge_corr:Training: alpha=5455594.781, mean corr=0.00291, max corr=0.02496, over-under(0.05)=0\n",
      "INFO:ridge_corr:Training: alpha=11288378.917, mean corr=0.00241, max corr=0.02464, over-under(0.05)=0\n",
      "INFO:ridge_corr:Training: alpha=23357214.691, mean corr=0.00214, max corr=0.02448, over-under(0.05)=0\n",
      "INFO:ridge_corr:Training: alpha=48329302.386, mean corr=0.00200, max corr=0.02439, over-under(0.05)=0\n",
      "INFO:ridge_corr:Training: alpha=100000000.000, mean corr=0.00193, max corr=0.02435, over-under(0.05)=0\n",
      "INFO:counter:7/20 items complete (7.89 seconds/item, 00:01:42 remaining)\n",
      "INFO:ridge_corr:Selecting held-out test set..\n",
      "INFO:ridge_corr:Doing Eigenvalue decomposition...\n"
     ]
    },
    {
     "name": "stdout",
     "output_type": "stream",
     "text": [
      "Cmode = False\n",
      "Number of time points is greater than the number of features\n"
     ]
    },
    {
     "name": "stderr",
     "output_type": "stream",
     "text": [
      "INFO:ridge_corr:Training: alpha=0.000, mean corr=0.00925, max corr=0.05125, over-under(0.05)=1\n",
      "INFO:ridge_corr:Training: alpha=100.000, mean corr=0.01065, max corr=0.03879, over-under(0.05)=0\n",
      "INFO:ridge_corr:Training: alpha=206.914, mean corr=0.01150, max corr=0.03649, over-under(0.05)=0\n",
      "INFO:ridge_corr:Training: alpha=428.133, mean corr=0.01262, max corr=0.03717, over-under(0.05)=0\n",
      "INFO:ridge_corr:Training: alpha=885.867, mean corr=0.01391, max corr=0.04012, over-under(0.05)=0\n",
      "INFO:ridge_corr:Training: alpha=1832.981, mean corr=0.01514, max corr=0.04192, over-under(0.05)=0\n",
      "INFO:ridge_corr:Training: alpha=3792.690, mean corr=0.01608, max corr=0.04248, over-under(0.05)=0\n",
      "INFO:ridge_corr:Training: alpha=7847.600, mean corr=0.01664, max corr=0.04653, over-under(0.05)=0\n",
      "INFO:ridge_corr:Training: alpha=16237.767, mean corr=0.01677, max corr=0.04947, over-under(0.05)=0\n",
      "INFO:ridge_corr:Training: alpha=33598.183, mean corr=0.01648, max corr=0.05101, over-under(0.05)=1\n",
      "INFO:ridge_corr:Training: alpha=69519.280, mean corr=0.01587, max corr=0.05144, over-under(0.05)=1\n",
      "INFO:ridge_corr:Training: alpha=143844.989, mean corr=0.01521, max corr=0.05101, over-under(0.05)=1\n",
      "INFO:ridge_corr:Training: alpha=297635.144, mean corr=0.01475, max corr=0.04974, over-under(0.05)=0\n",
      "INFO:ridge_corr:Training: alpha=615848.211, mean corr=0.01446, max corr=0.04768, over-under(0.05)=0\n",
      "INFO:ridge_corr:Training: alpha=1274274.986, mean corr=0.01414, max corr=0.04535, over-under(0.05)=0\n",
      "INFO:ridge_corr:Training: alpha=2636650.899, mean corr=0.01375, max corr=0.04337, over-under(0.05)=0\n",
      "INFO:ridge_corr:Training: alpha=5455594.781, mean corr=0.01334, max corr=0.04193, over-under(0.05)=0\n",
      "INFO:ridge_corr:Training: alpha=11288378.917, mean corr=0.01300, max corr=0.04100, over-under(0.05)=0\n",
      "INFO:ridge_corr:Training: alpha=23357214.691, mean corr=0.01276, max corr=0.04046, over-under(0.05)=0\n",
      "INFO:ridge_corr:Training: alpha=48329302.386, mean corr=0.01262, max corr=0.04017, over-under(0.05)=0\n",
      "INFO:ridge_corr:Training: alpha=100000000.000, mean corr=0.01255, max corr=0.04001, over-under(0.05)=0\n",
      "INFO:counter:8/20 items complete (7.86 seconds/item, 00:01:34 remaining)\n",
      "INFO:ridge_corr:Selecting held-out test set..\n",
      "INFO:ridge_corr:Doing Eigenvalue decomposition...\n"
     ]
    },
    {
     "name": "stdout",
     "output_type": "stream",
     "text": [
      "Cmode = False\n",
      "Number of time points is greater than the number of features\n"
     ]
    },
    {
     "name": "stderr",
     "output_type": "stream",
     "text": [
      "INFO:ridge_corr:Training: alpha=0.000, mean corr=-0.00122, max corr=0.04086, over-under(0.05)=0\n",
      "INFO:ridge_corr:Training: alpha=100.000, mean corr=0.00288, max corr=0.03560, over-under(0.05)=0\n",
      "INFO:ridge_corr:Training: alpha=206.914, mean corr=0.00429, max corr=0.03490, over-under(0.05)=0\n",
      "INFO:ridge_corr:Training: alpha=428.133, mean corr=0.00577, max corr=0.03388, over-under(0.05)=0\n",
      "INFO:ridge_corr:Training: alpha=885.867, mean corr=0.00722, max corr=0.03125, over-under(0.05)=0\n",
      "INFO:ridge_corr:Training: alpha=1832.981, mean corr=0.00853, max corr=0.03329, over-under(0.05)=0\n",
      "INFO:ridge_corr:Training: alpha=3792.690, mean corr=0.00958, max corr=0.03640, over-under(0.05)=0\n",
      "INFO:ridge_corr:Training: alpha=7847.600, mean corr=0.01030, max corr=0.03871, over-under(0.05)=0\n",
      "INFO:ridge_corr:Training: alpha=16237.767, mean corr=0.01058, max corr=0.03991, over-under(0.05)=0\n",
      "INFO:ridge_corr:Training: alpha=33598.183, mean corr=0.01033, max corr=0.04103, over-under(0.05)=0\n",
      "INFO:ridge_corr:Training: alpha=69519.280, mean corr=0.00956, max corr=0.04068, over-under(0.05)=0\n",
      "INFO:ridge_corr:Training: alpha=143844.989, mean corr=0.00834, max corr=0.03688, over-under(0.05)=0\n",
      "INFO:ridge_corr:Training: alpha=297635.144, mean corr=0.00695, max corr=0.03048, over-under(0.05)=0\n",
      "INFO:ridge_corr:Training: alpha=615848.211, mean corr=0.00580, max corr=0.02697, over-under(0.05)=0\n",
      "INFO:ridge_corr:Training: alpha=1274274.986, mean corr=0.00505, max corr=0.02377, over-under(0.05)=0\n",
      "INFO:ridge_corr:Training: alpha=2636650.899, mean corr=0.00462, max corr=0.02344, over-under(0.05)=0\n",
      "INFO:ridge_corr:Training: alpha=5455594.781, mean corr=0.00436, max corr=0.02336, over-under(0.05)=0\n",
      "INFO:ridge_corr:Training: alpha=11288378.917, mean corr=0.00420, max corr=0.02328, over-under(0.05)=0\n",
      "INFO:ridge_corr:Training: alpha=23357214.691, mean corr=0.00411, max corr=0.02322, over-under(0.05)=0\n",
      "INFO:ridge_corr:Training: alpha=48329302.386, mean corr=0.00406, max corr=0.02318, over-under(0.05)=0\n",
      "INFO:ridge_corr:Training: alpha=100000000.000, mean corr=0.00403, max corr=0.02316, over-under(0.05)=0\n",
      "INFO:counter:9/20 items complete (7.88 seconds/item, 00:01:26 remaining)\n",
      "INFO:ridge_corr:Selecting held-out test set..\n",
      "INFO:ridge_corr:Doing Eigenvalue decomposition...\n"
     ]
    },
    {
     "name": "stdout",
     "output_type": "stream",
     "text": [
      "Cmode = False\n",
      "Number of time points is greater than the number of features\n"
     ]
    },
    {
     "name": "stderr",
     "output_type": "stream",
     "text": [
      "INFO:ridge_corr:Training: alpha=0.000, mean corr=0.00795, max corr=0.03873, over-under(0.05)=0\n",
      "INFO:ridge_corr:Training: alpha=100.000, mean corr=0.01116, max corr=0.05008, over-under(0.05)=1\n",
      "INFO:ridge_corr:Training: alpha=206.914, mean corr=0.01264, max corr=0.05379, over-under(0.05)=3\n",
      "INFO:ridge_corr:Training: alpha=428.133, mean corr=0.01439, max corr=0.05791, over-under(0.05)=3\n",
      "INFO:ridge_corr:Training: alpha=885.867, mean corr=0.01635, max corr=0.06268, over-under(0.05)=4\n",
      "INFO:ridge_corr:Training: alpha=1832.981, mean corr=0.01824, max corr=0.06817, over-under(0.05)=6\n",
      "INFO:ridge_corr:Training: alpha=3792.690, mean corr=0.01953, max corr=0.07381, over-under(0.05)=6\n",
      "INFO:ridge_corr:Training: alpha=7847.600, mean corr=0.01957, max corr=0.07799, over-under(0.05)=7\n",
      "INFO:ridge_corr:Training: alpha=16237.767, mean corr=0.01781, max corr=0.07885, over-under(0.05)=7\n",
      "INFO:ridge_corr:Training: alpha=33598.183, mean corr=0.01417, max corr=0.07541, over-under(0.05)=7\n",
      "INFO:ridge_corr:Training: alpha=69519.280, mean corr=0.00912, max corr=0.06747, over-under(0.05)=6\n",
      "INFO:ridge_corr:Training: alpha=143844.989, mean corr=0.00347, max corr=0.05526, over-under(0.05)=3\n",
      "INFO:ridge_corr:Training: alpha=297635.144, mean corr=-0.00165, max corr=0.04167, over-under(0.05)=0\n",
      "INFO:ridge_corr:Training: alpha=615848.211, mean corr=-0.00542, max corr=0.03063, over-under(0.05)=0\n",
      "INFO:ridge_corr:Training: alpha=1274274.986, mean corr=-0.00778, max corr=0.02617, over-under(0.05)=0\n",
      "INFO:ridge_corr:Training: alpha=2636650.899, mean corr=-0.00913, max corr=0.02501, over-under(0.05)=0\n",
      "INFO:ridge_corr:Training: alpha=5455594.781, mean corr=-0.00986, max corr=0.02427, over-under(0.05)=0\n",
      "INFO:ridge_corr:Training: alpha=11288378.917, mean corr=-0.01023, max corr=0.02378, over-under(0.05)=0\n",
      "INFO:ridge_corr:Training: alpha=23357214.691, mean corr=-0.01041, max corr=0.02346, over-under(0.05)=0\n",
      "INFO:ridge_corr:Training: alpha=48329302.386, mean corr=-0.01049, max corr=0.02327, over-under(0.05)=0\n",
      "INFO:ridge_corr:Training: alpha=100000000.000, mean corr=-0.01053, max corr=0.02316, over-under(0.05)=0\n",
      "INFO:counter:10/20 items complete (7.84 seconds/item, 00:01:18 remaining)\n",
      "INFO:ridge_corr:Selecting held-out test set..\n",
      "INFO:ridge_corr:Doing Eigenvalue decomposition...\n"
     ]
    },
    {
     "name": "stdout",
     "output_type": "stream",
     "text": [
      "Cmode = False\n",
      "Number of time points is greater than the number of features\n"
     ]
    },
    {
     "name": "stderr",
     "output_type": "stream",
     "text": [
      "INFO:ridge_corr:Training: alpha=0.000, mean corr=0.00598, max corr=0.01894, over-under(0.05)=-1\n",
      "INFO:ridge_corr:Training: alpha=100.000, mean corr=0.01071, max corr=0.02870, over-under(0.05)=-1\n",
      "INFO:ridge_corr:Training: alpha=206.914, mean corr=0.01223, max corr=0.03143, over-under(0.05)=-1\n",
      "INFO:ridge_corr:Training: alpha=428.133, mean corr=0.01384, max corr=0.03435, over-under(0.05)=-1\n",
      "INFO:ridge_corr:Training: alpha=885.867, mean corr=0.01545, max corr=0.03810, over-under(0.05)=-1\n",
      "INFO:ridge_corr:Training: alpha=1832.981, mean corr=0.01689, max corr=0.04354, over-under(0.05)=-1\n",
      "INFO:ridge_corr:Training: alpha=3792.690, mean corr=0.01803, max corr=0.04732, over-under(0.05)=-1\n",
      "INFO:ridge_corr:Training: alpha=7847.600, mean corr=0.01879, max corr=0.04879, over-under(0.05)=-1\n",
      "INFO:ridge_corr:Training: alpha=16237.767, mean corr=0.01904, max corr=0.04784, over-under(0.05)=-1\n",
      "INFO:ridge_corr:Training: alpha=33598.183, mean corr=0.01853, max corr=0.04473, over-under(0.05)=0\n",
      "INFO:ridge_corr:Training: alpha=69519.280, mean corr=0.01705, max corr=0.03982, over-under(0.05)=0\n",
      "INFO:ridge_corr:Training: alpha=143844.989, mean corr=0.01471, max corr=0.03389, over-under(0.05)=0\n",
      "INFO:ridge_corr:Training: alpha=297635.144, mean corr=0.01203, max corr=0.02791, over-under(0.05)=0\n",
      "INFO:ridge_corr:Training: alpha=615848.211, mean corr=0.00965, max corr=0.02796, over-under(0.05)=0\n",
      "INFO:ridge_corr:Training: alpha=1274274.986, mean corr=0.00790, max corr=0.02700, over-under(0.05)=0\n",
      "INFO:ridge_corr:Training: alpha=2636650.899, mean corr=0.00674, max corr=0.02581, over-under(0.05)=0\n",
      "INFO:ridge_corr:Training: alpha=5455594.781, mean corr=0.00600, max corr=0.02490, over-under(0.05)=0\n",
      "INFO:ridge_corr:Training: alpha=11288378.917, mean corr=0.00554, max corr=0.02435, over-under(0.05)=0\n",
      "INFO:ridge_corr:Training: alpha=23357214.691, mean corr=0.00527, max corr=0.02405, over-under(0.05)=0\n",
      "INFO:ridge_corr:Training: alpha=48329302.386, mean corr=0.00512, max corr=0.02390, over-under(0.05)=0\n",
      "INFO:ridge_corr:Training: alpha=100000000.000, mean corr=0.00505, max corr=0.02382, over-under(0.05)=0\n",
      "INFO:counter:11/20 items complete (7.82 seconds/item, 00:01:10 remaining)\n",
      "INFO:ridge_corr:Selecting held-out test set..\n",
      "INFO:ridge_corr:Doing Eigenvalue decomposition...\n"
     ]
    },
    {
     "name": "stdout",
     "output_type": "stream",
     "text": [
      "Cmode = False\n",
      "Number of time points is greater than the number of features\n"
     ]
    },
    {
     "name": "stderr",
     "output_type": "stream",
     "text": [
      "INFO:ridge_corr:Training: alpha=0.000, mean corr=0.01750, max corr=0.03842, over-under(0.05)=0\n",
      "INFO:ridge_corr:Training: alpha=100.000, mean corr=0.01927, max corr=0.04200, over-under(0.05)=0\n",
      "INFO:ridge_corr:Training: alpha=206.914, mean corr=0.02071, max corr=0.04333, over-under(0.05)=0\n",
      "INFO:ridge_corr:Training: alpha=428.133, mean corr=0.02277, max corr=0.04623, over-under(0.05)=0\n",
      "INFO:ridge_corr:Training: alpha=885.867, mean corr=0.02541, max corr=0.05382, over-under(0.05)=2\n",
      "INFO:ridge_corr:Training: alpha=1832.981, mean corr=0.02825, max corr=0.06175, over-under(0.05)=3\n",
      "INFO:ridge_corr:Training: alpha=3792.690, mean corr=0.03069, max corr=0.06872, over-under(0.05)=11\n",
      "INFO:ridge_corr:Training: alpha=7847.600, mean corr=0.03221, max corr=0.07386, over-under(0.05)=12\n",
      "INFO:ridge_corr:Training: alpha=16237.767, mean corr=0.03249, max corr=0.07692, over-under(0.05)=12\n",
      "INFO:ridge_corr:Training: alpha=33598.183, mean corr=0.03155, max corr=0.07845, over-under(0.05)=11\n",
      "INFO:ridge_corr:Training: alpha=69519.280, mean corr=0.02957, max corr=0.07909, over-under(0.05)=10\n",
      "INFO:ridge_corr:Training: alpha=143844.989, mean corr=0.02649, max corr=0.07821, over-under(0.05)=7\n",
      "INFO:ridge_corr:Training: alpha=297635.144, mean corr=0.02253, max corr=0.07417, over-under(0.05)=5\n",
      "INFO:ridge_corr:Training: alpha=615848.211, mean corr=0.01865, max corr=0.06697, over-under(0.05)=2\n",
      "INFO:ridge_corr:Training: alpha=1274274.986, mean corr=0.01555, max corr=0.05932, over-under(0.05)=2\n",
      "INFO:ridge_corr:Training: alpha=2636650.899, mean corr=0.01336, max corr=0.05315, over-under(0.05)=2\n",
      "INFO:ridge_corr:Training: alpha=5455594.781, mean corr=0.01197, max corr=0.04892, over-under(0.05)=0\n",
      "INFO:ridge_corr:Training: alpha=11288378.917, mean corr=0.01116, max corr=0.04633, over-under(0.05)=0\n",
      "INFO:ridge_corr:Training: alpha=23357214.691, mean corr=0.01072, max corr=0.04489, over-under(0.05)=0\n",
      "INFO:ridge_corr:Training: alpha=48329302.386, mean corr=0.01049, max corr=0.04413, over-under(0.05)=0\n",
      "INFO:ridge_corr:Training: alpha=100000000.000, mean corr=0.01037, max corr=0.04374, over-under(0.05)=0\n",
      "INFO:counter:12/20 items complete (7.84 seconds/item, 00:01:02 remaining)\n",
      "INFO:ridge_corr:Selecting held-out test set..\n",
      "INFO:ridge_corr:Doing Eigenvalue decomposition...\n"
     ]
    },
    {
     "name": "stdout",
     "output_type": "stream",
     "text": [
      "Cmode = False\n",
      "Number of time points is greater than the number of features\n"
     ]
    },
    {
     "name": "stderr",
     "output_type": "stream",
     "text": [
      "INFO:ridge_corr:Training: alpha=0.000, mean corr=0.00470, max corr=0.01733, over-under(0.05)=0\n",
      "INFO:ridge_corr:Training: alpha=100.000, mean corr=0.00587, max corr=0.01608, over-under(0.05)=0\n",
      "INFO:ridge_corr:Training: alpha=206.914, mean corr=0.00632, max corr=0.01771, over-under(0.05)=0\n",
      "INFO:ridge_corr:Training: alpha=428.133, mean corr=0.00700, max corr=0.01990, over-under(0.05)=-1\n",
      "INFO:ridge_corr:Training: alpha=885.867, mean corr=0.00789, max corr=0.02238, over-under(0.05)=-1\n",
      "INFO:ridge_corr:Training: alpha=1832.981, mean corr=0.00873, max corr=0.02542, over-under(0.05)=-1\n",
      "INFO:ridge_corr:Training: alpha=3792.690, mean corr=0.00912, max corr=0.02776, over-under(0.05)=-1\n",
      "INFO:ridge_corr:Training: alpha=7847.600, mean corr=0.00888, max corr=0.02875, over-under(0.05)=-1\n",
      "INFO:ridge_corr:Training: alpha=16237.767, mean corr=0.00805, max corr=0.02843, over-under(0.05)=-1\n",
      "INFO:ridge_corr:Training: alpha=33598.183, mean corr=0.00672, max corr=0.02668, over-under(0.05)=-1\n",
      "INFO:ridge_corr:Training: alpha=69519.280, mean corr=0.00502, max corr=0.02415, over-under(0.05)=-1\n",
      "INFO:ridge_corr:Training: alpha=143844.989, mean corr=0.00327, max corr=0.02162, over-under(0.05)=0\n",
      "INFO:ridge_corr:Training: alpha=297635.144, mean corr=0.00193, max corr=0.01958, over-under(0.05)=0\n",
      "INFO:ridge_corr:Training: alpha=615848.211, mean corr=0.00122, max corr=0.01660, over-under(0.05)=0\n",
      "INFO:ridge_corr:Training: alpha=1274274.986, mean corr=0.00091, max corr=0.01406, over-under(0.05)=0\n",
      "INFO:ridge_corr:Training: alpha=2636650.899, mean corr=0.00073, max corr=0.01242, over-under(0.05)=0\n",
      "INFO:ridge_corr:Training: alpha=5455594.781, mean corr=0.00058, max corr=0.01173, over-under(0.05)=0\n",
      "INFO:ridge_corr:Training: alpha=11288378.917, mean corr=0.00047, max corr=0.01192, over-under(0.05)=0\n",
      "INFO:ridge_corr:Training: alpha=23357214.691, mean corr=0.00041, max corr=0.01204, over-under(0.05)=0\n",
      "INFO:ridge_corr:Training: alpha=48329302.386, mean corr=0.00038, max corr=0.01210, over-under(0.05)=0\n",
      "INFO:ridge_corr:Training: alpha=100000000.000, mean corr=0.00037, max corr=0.01213, over-under(0.05)=0\n",
      "INFO:counter:13/20 items complete (7.82 seconds/item, 00:00:54 remaining)\n",
      "INFO:ridge_corr:Selecting held-out test set..\n",
      "INFO:ridge_corr:Doing Eigenvalue decomposition...\n"
     ]
    },
    {
     "name": "stdout",
     "output_type": "stream",
     "text": [
      "Cmode = False\n",
      "Number of time points is greater than the number of features\n"
     ]
    },
    {
     "name": "stderr",
     "output_type": "stream",
     "text": [
      "INFO:ridge_corr:Training: alpha=0.000, mean corr=0.01499, max corr=0.04048, over-under(0.05)=-1\n",
      "INFO:ridge_corr:Training: alpha=100.000, mean corr=0.01926, max corr=0.04840, over-under(0.05)=-1\n",
      "INFO:ridge_corr:Training: alpha=206.914, mean corr=0.02080, max corr=0.05171, over-under(0.05)=2\n",
      "INFO:ridge_corr:Training: alpha=428.133, mean corr=0.02268, max corr=0.05611, over-under(0.05)=3\n",
      "INFO:ridge_corr:Training: alpha=885.867, mean corr=0.02483, max corr=0.06092, over-under(0.05)=4\n",
      "INFO:ridge_corr:Training: alpha=1832.981, mean corr=0.02707, max corr=0.06548, over-under(0.05)=6\n",
      "INFO:ridge_corr:Training: alpha=3792.690, mean corr=0.02922, max corr=0.06926, over-under(0.05)=10\n",
      "INFO:ridge_corr:Training: alpha=7847.600, mean corr=0.03110, max corr=0.07194, over-under(0.05)=12\n",
      "INFO:ridge_corr:Training: alpha=16237.767, mean corr=0.03249, max corr=0.07345, over-under(0.05)=16\n",
      "INFO:ridge_corr:Training: alpha=33598.183, mean corr=0.03304, max corr=0.07389, over-under(0.05)=17\n",
      "INFO:ridge_corr:Training: alpha=69519.280, mean corr=0.03251, max corr=0.07318, over-under(0.05)=16\n",
      "INFO:ridge_corr:Training: alpha=143844.989, mean corr=0.03072, max corr=0.07056, over-under(0.05)=11\n",
      "INFO:ridge_corr:Training: alpha=297635.144, mean corr=0.02780, max corr=0.06528, over-under(0.05)=9\n",
      "INFO:ridge_corr:Training: alpha=615848.211, mean corr=0.02447, max corr=0.05860, over-under(0.05)=4\n",
      "INFO:ridge_corr:Training: alpha=1274274.986, mean corr=0.02158, max corr=0.05283, over-under(0.05)=1\n",
      "INFO:ridge_corr:Training: alpha=2636650.899, mean corr=0.01949, max corr=0.04889, over-under(0.05)=0\n",
      "INFO:ridge_corr:Training: alpha=5455594.781, mean corr=0.01816, max corr=0.04648, over-under(0.05)=0\n",
      "INFO:ridge_corr:Training: alpha=11288378.917, mean corr=0.01739, max corr=0.04510, over-under(0.05)=0\n",
      "INFO:ridge_corr:Training: alpha=23357214.691, mean corr=0.01697, max corr=0.04434, over-under(0.05)=0\n",
      "INFO:ridge_corr:Training: alpha=48329302.386, mean corr=0.01675, max corr=0.04394, over-under(0.05)=0\n",
      "INFO:ridge_corr:Training: alpha=100000000.000, mean corr=0.01664, max corr=0.04374, over-under(0.05)=0\n",
      "INFO:counter:14/20 items complete (7.80 seconds/item, 00:00:46 remaining)\n",
      "INFO:ridge_corr:Selecting held-out test set..\n",
      "INFO:ridge_corr:Doing Eigenvalue decomposition...\n"
     ]
    },
    {
     "name": "stdout",
     "output_type": "stream",
     "text": [
      "Cmode = False\n",
      "Number of time points is greater than the number of features\n"
     ]
    },
    {
     "name": "stderr",
     "output_type": "stream",
     "text": [
      "INFO:ridge_corr:Training: alpha=0.000, mean corr=0.00577, max corr=0.03380, over-under(0.05)=-1\n",
      "INFO:ridge_corr:Training: alpha=100.000, mean corr=0.00890, max corr=0.03849, over-under(0.05)=-1\n",
      "INFO:ridge_corr:Training: alpha=206.914, mean corr=0.01015, max corr=0.03929, over-under(0.05)=-1\n",
      "INFO:ridge_corr:Training: alpha=428.133, mean corr=0.01160, max corr=0.03988, over-under(0.05)=-1\n",
      "INFO:ridge_corr:Training: alpha=885.867, mean corr=0.01311, max corr=0.04024, over-under(0.05)=-1\n",
      "INFO:ridge_corr:Training: alpha=1832.981, mean corr=0.01444, max corr=0.04001, over-under(0.05)=-1\n",
      "INFO:ridge_corr:Training: alpha=3792.690, mean corr=0.01543, max corr=0.04211, over-under(0.05)=-1\n",
      "INFO:ridge_corr:Training: alpha=7847.600, mean corr=0.01611, max corr=0.04238, over-under(0.05)=-1\n",
      "INFO:ridge_corr:Training: alpha=16237.767, mean corr=0.01640, max corr=0.04057, over-under(0.05)=-1\n",
      "INFO:ridge_corr:Training: alpha=33598.183, mean corr=0.01600, max corr=0.03696, over-under(0.05)=0\n",
      "INFO:ridge_corr:Training: alpha=69519.280, mean corr=0.01465, max corr=0.03204, over-under(0.05)=0\n",
      "INFO:ridge_corr:Training: alpha=143844.989, mean corr=0.01237, max corr=0.02813, over-under(0.05)=0\n",
      "INFO:ridge_corr:Training: alpha=297635.144, mean corr=0.00965, max corr=0.02468, over-under(0.05)=0\n",
      "INFO:ridge_corr:Training: alpha=615848.211, mean corr=0.00725, max corr=0.02180, over-under(0.05)=0\n",
      "INFO:ridge_corr:Training: alpha=1274274.986, mean corr=0.00557, max corr=0.01931, over-under(0.05)=0\n",
      "INFO:ridge_corr:Training: alpha=2636650.899, mean corr=0.00456, max corr=0.01777, over-under(0.05)=0\n",
      "INFO:ridge_corr:Training: alpha=5455594.781, mean corr=0.00399, max corr=0.01696, over-under(0.05)=0\n",
      "INFO:ridge_corr:Training: alpha=11288378.917, mean corr=0.00369, max corr=0.01643, over-under(0.05)=0\n",
      "INFO:ridge_corr:Training: alpha=23357214.691, mean corr=0.00355, max corr=0.01605, over-under(0.05)=0\n",
      "INFO:ridge_corr:Training: alpha=48329302.386, mean corr=0.00349, max corr=0.01604, over-under(0.05)=0\n",
      "INFO:ridge_corr:Training: alpha=100000000.000, mean corr=0.00346, max corr=0.01604, over-under(0.05)=0\n",
      "INFO:counter:15/20 items complete (7.82 seconds/item, 00:00:39 remaining)\n",
      "INFO:ridge_corr:Selecting held-out test set..\n",
      "INFO:ridge_corr:Doing Eigenvalue decomposition...\n"
     ]
    },
    {
     "name": "stdout",
     "output_type": "stream",
     "text": [
      "Cmode = False\n",
      "Number of time points is greater than the number of features\n"
     ]
    },
    {
     "name": "stderr",
     "output_type": "stream",
     "text": [
      "INFO:ridge_corr:Training: alpha=0.000, mean corr=0.00687, max corr=0.02364, over-under(0.05)=0\n",
      "INFO:ridge_corr:Training: alpha=100.000, mean corr=0.00692, max corr=0.02779, over-under(0.05)=0\n",
      "INFO:ridge_corr:Training: alpha=206.914, mean corr=0.00738, max corr=0.02954, over-under(0.05)=0\n",
      "INFO:ridge_corr:Training: alpha=428.133, mean corr=0.00789, max corr=0.03121, over-under(0.05)=0\n",
      "INFO:ridge_corr:Training: alpha=885.867, mean corr=0.00826, max corr=0.03223, over-under(0.05)=0\n",
      "INFO:ridge_corr:Training: alpha=1832.981, mean corr=0.00828, max corr=0.03223, over-under(0.05)=0\n",
      "INFO:ridge_corr:Training: alpha=3792.690, mean corr=0.00785, max corr=0.03147, over-under(0.05)=0\n",
      "INFO:ridge_corr:Training: alpha=7847.600, mean corr=0.00711, max corr=0.03068, over-under(0.05)=0\n",
      "INFO:ridge_corr:Training: alpha=16237.767, mean corr=0.00640, max corr=0.03058, over-under(0.05)=0\n",
      "INFO:ridge_corr:Training: alpha=33598.183, mean corr=0.00602, max corr=0.03140, over-under(0.05)=0\n",
      "INFO:ridge_corr:Training: alpha=69519.280, mean corr=0.00600, max corr=0.03283, over-under(0.05)=0\n",
      "INFO:ridge_corr:Training: alpha=143844.989, mean corr=0.00605, max corr=0.03407, over-under(0.05)=0\n",
      "INFO:ridge_corr:Training: alpha=297635.144, mean corr=0.00580, max corr=0.03419, over-under(0.05)=0\n",
      "INFO:ridge_corr:Training: alpha=615848.211, mean corr=0.00525, max corr=0.03299, over-under(0.05)=0\n",
      "INFO:ridge_corr:Training: alpha=1274274.986, mean corr=0.00459, max corr=0.03124, over-under(0.05)=0\n",
      "INFO:ridge_corr:Training: alpha=2636650.899, mean corr=0.00394, max corr=0.02978, over-under(0.05)=0\n",
      "INFO:ridge_corr:Training: alpha=5455594.781, mean corr=0.00346, max corr=0.02883, over-under(0.05)=0\n",
      "INFO:ridge_corr:Training: alpha=11288378.917, mean corr=0.00324, max corr=0.02829, over-under(0.05)=0\n",
      "INFO:ridge_corr:Training: alpha=23357214.691, mean corr=0.00317, max corr=0.02801, over-under(0.05)=-1\n",
      "INFO:ridge_corr:Training: alpha=48329302.386, mean corr=0.00315, max corr=0.02786, over-under(0.05)=-1\n",
      "INFO:ridge_corr:Training: alpha=100000000.000, mean corr=0.00314, max corr=0.02779, over-under(0.05)=-1\n",
      "INFO:counter:16/20 items complete (7.81 seconds/item, 00:00:31 remaining)\n",
      "INFO:ridge_corr:Selecting held-out test set..\n",
      "INFO:ridge_corr:Doing Eigenvalue decomposition...\n"
     ]
    },
    {
     "name": "stdout",
     "output_type": "stream",
     "text": [
      "Cmode = False\n",
      "Number of time points is greater than the number of features\n"
     ]
    },
    {
     "name": "stderr",
     "output_type": "stream",
     "text": [
      "INFO:ridge_corr:Training: alpha=0.000, mean corr=0.00844, max corr=0.02508, over-under(0.05)=0\n",
      "INFO:ridge_corr:Training: alpha=100.000, mean corr=0.00877, max corr=0.02803, over-under(0.05)=0\n",
      "INFO:ridge_corr:Training: alpha=206.914, mean corr=0.00929, max corr=0.02909, over-under(0.05)=0\n",
      "INFO:ridge_corr:Training: alpha=428.133, mean corr=0.01017, max corr=0.03064, over-under(0.05)=0\n",
      "INFO:ridge_corr:Training: alpha=885.867, mean corr=0.01143, max corr=0.03266, over-under(0.05)=0\n",
      "INFO:ridge_corr:Training: alpha=1832.981, mean corr=0.01291, max corr=0.03489, over-under(0.05)=0\n",
      "INFO:ridge_corr:Training: alpha=3792.690, mean corr=0.01438, max corr=0.03697, over-under(0.05)=0\n",
      "INFO:ridge_corr:Training: alpha=7847.600, mean corr=0.01568, max corr=0.03851, over-under(0.05)=0\n",
      "INFO:ridge_corr:Training: alpha=16237.767, mean corr=0.01650, max corr=0.03917, over-under(0.05)=0\n",
      "INFO:ridge_corr:Training: alpha=33598.183, mean corr=0.01644, max corr=0.03898, over-under(0.05)=0\n",
      "INFO:ridge_corr:Training: alpha=69519.280, mean corr=0.01546, max corr=0.03727, over-under(0.05)=0\n",
      "INFO:ridge_corr:Training: alpha=143844.989, mean corr=0.01384, max corr=0.03488, over-under(0.05)=0\n",
      "INFO:ridge_corr:Training: alpha=297635.144, mean corr=0.01208, max corr=0.03358, over-under(0.05)=0\n",
      "INFO:ridge_corr:Training: alpha=615848.211, mean corr=0.01051, max corr=0.03197, over-under(0.05)=0\n",
      "INFO:ridge_corr:Training: alpha=1274274.986, mean corr=0.00927, max corr=0.03063, over-under(0.05)=0\n",
      "INFO:ridge_corr:Training: alpha=2636650.899, mean corr=0.00832, max corr=0.02990, over-under(0.05)=0\n",
      "INFO:ridge_corr:Training: alpha=5455594.781, mean corr=0.00768, max corr=0.02946, over-under(0.05)=0\n",
      "INFO:ridge_corr:Training: alpha=11288378.917, mean corr=0.00728, max corr=0.02889, over-under(0.05)=0\n",
      "INFO:ridge_corr:Training: alpha=23357214.691, mean corr=0.00706, max corr=0.02827, over-under(0.05)=0\n",
      "INFO:ridge_corr:Training: alpha=48329302.386, mean corr=0.00695, max corr=0.02830, over-under(0.05)=0\n",
      "INFO:ridge_corr:Training: alpha=100000000.000, mean corr=0.00689, max corr=0.02835, over-under(0.05)=0\n",
      "INFO:counter:17/20 items complete (7.83 seconds/item, 00:00:23 remaining)\n",
      "INFO:ridge_corr:Selecting held-out test set..\n",
      "INFO:ridge_corr:Doing Eigenvalue decomposition...\n"
     ]
    },
    {
     "name": "stdout",
     "output_type": "stream",
     "text": [
      "Cmode = False\n",
      "Number of time points is greater than the number of features\n"
     ]
    },
    {
     "name": "stderr",
     "output_type": "stream",
     "text": [
      "INFO:ridge_corr:Training: alpha=0.000, mean corr=0.00522, max corr=0.03745, over-under(0.05)=0\n",
      "INFO:ridge_corr:Training: alpha=100.000, mean corr=0.00783, max corr=0.04288, over-under(0.05)=0\n",
      "INFO:ridge_corr:Training: alpha=206.914, mean corr=0.00912, max corr=0.04441, over-under(0.05)=0\n",
      "INFO:ridge_corr:Training: alpha=428.133, mean corr=0.01084, max corr=0.04635, over-under(0.05)=0\n",
      "INFO:ridge_corr:Training: alpha=885.867, mean corr=0.01311, max corr=0.04903, over-under(0.05)=0\n",
      "INFO:ridge_corr:Training: alpha=1832.981, mean corr=0.01584, max corr=0.05263, over-under(0.05)=4\n",
      "INFO:ridge_corr:Training: alpha=3792.690, mean corr=0.01864, max corr=0.05690, over-under(0.05)=4\n",
      "INFO:ridge_corr:Training: alpha=7847.600, mean corr=0.02108, max corr=0.06108, over-under(0.05)=8\n",
      "INFO:ridge_corr:Training: alpha=16237.767, mean corr=0.02278, max corr=0.06416, over-under(0.05)=11\n",
      "INFO:ridge_corr:Training: alpha=33598.183, mean corr=0.02344, max corr=0.06581, over-under(0.05)=11\n",
      "INFO:ridge_corr:Training: alpha=69519.280, mean corr=0.02299, max corr=0.06601, over-under(0.05)=11\n",
      "INFO:ridge_corr:Training: alpha=143844.989, mean corr=0.02164, max corr=0.06406, over-under(0.05)=10\n",
      "INFO:ridge_corr:Training: alpha=297635.144, mean corr=0.01974, max corr=0.05904, over-under(0.05)=8\n",
      "INFO:ridge_corr:Training: alpha=615848.211, mean corr=0.01773, max corr=0.05223, over-under(0.05)=4\n",
      "INFO:ridge_corr:Training: alpha=1274274.986, mean corr=0.01605, max corr=0.04645, over-under(0.05)=0\n",
      "INFO:ridge_corr:Training: alpha=2636650.899, mean corr=0.01484, max corr=0.04273, over-under(0.05)=0\n",
      "INFO:ridge_corr:Training: alpha=5455594.781, mean corr=0.01403, max corr=0.04066, over-under(0.05)=0\n",
      "INFO:ridge_corr:Training: alpha=11288378.917, mean corr=0.01351, max corr=0.03959, over-under(0.05)=0\n",
      "INFO:ridge_corr:Training: alpha=23357214.691, mean corr=0.01320, max corr=0.03912, over-under(0.05)=0\n",
      "INFO:ridge_corr:Training: alpha=48329302.386, mean corr=0.01303, max corr=0.03895, over-under(0.05)=0\n",
      "INFO:ridge_corr:Training: alpha=100000000.000, mean corr=0.01294, max corr=0.03887, over-under(0.05)=0\n",
      "INFO:counter:18/20 items complete (7.85 seconds/item, 00:00:15 remaining)\n",
      "INFO:ridge_corr:Selecting held-out test set..\n",
      "INFO:ridge_corr:Doing Eigenvalue decomposition...\n"
     ]
    },
    {
     "name": "stdout",
     "output_type": "stream",
     "text": [
      "Cmode = False\n",
      "Number of time points is greater than the number of features\n"
     ]
    },
    {
     "name": "stderr",
     "output_type": "stream",
     "text": [
      "INFO:ridge_corr:Training: alpha=0.000, mean corr=0.00701, max corr=0.02057, over-under(0.05)=0\n",
      "INFO:ridge_corr:Training: alpha=100.000, mean corr=0.00849, max corr=0.02204, over-under(0.05)=0\n",
      "INFO:ridge_corr:Training: alpha=206.914, mean corr=0.00932, max corr=0.02503, over-under(0.05)=0\n",
      "INFO:ridge_corr:Training: alpha=428.133, mean corr=0.01046, max corr=0.02914, over-under(0.05)=0\n",
      "INFO:ridge_corr:Training: alpha=885.867, mean corr=0.01204, max corr=0.03419, over-under(0.05)=0\n",
      "INFO:ridge_corr:Training: alpha=1832.981, mean corr=0.01411, max corr=0.03939, over-under(0.05)=0\n",
      "INFO:ridge_corr:Training: alpha=3792.690, mean corr=0.01651, max corr=0.04388, over-under(0.05)=0\n",
      "INFO:ridge_corr:Training: alpha=7847.600, mean corr=0.01897, max corr=0.04722, over-under(0.05)=0\n",
      "INFO:ridge_corr:Training: alpha=16237.767, mean corr=0.02116, max corr=0.04898, over-under(0.05)=0\n",
      "INFO:ridge_corr:Training: alpha=33598.183, mean corr=0.02268, max corr=0.04908, over-under(0.05)=0\n",
      "INFO:ridge_corr:Training: alpha=69519.280, mean corr=0.02330, max corr=0.04742, over-under(0.05)=0\n",
      "INFO:ridge_corr:Training: alpha=143844.989, mean corr=0.02300, max corr=0.04382, over-under(0.05)=0\n",
      "INFO:ridge_corr:Training: alpha=297635.144, mean corr=0.02201, max corr=0.03991, over-under(0.05)=0\n",
      "INFO:ridge_corr:Training: alpha=615848.211, mean corr=0.02072, max corr=0.03903, over-under(0.05)=0\n",
      "INFO:ridge_corr:Training: alpha=1274274.986, mean corr=0.01945, max corr=0.03757, over-under(0.05)=0\n",
      "INFO:ridge_corr:Training: alpha=2636650.899, mean corr=0.01829, max corr=0.03455, over-under(0.05)=0\n",
      "INFO:ridge_corr:Training: alpha=5455594.781, mean corr=0.01723, max corr=0.03293, over-under(0.05)=0\n",
      "INFO:ridge_corr:Training: alpha=11288378.917, mean corr=0.01634, max corr=0.03184, over-under(0.05)=0\n",
      "INFO:ridge_corr:Training: alpha=23357214.691, mean corr=0.01573, max corr=0.03176, over-under(0.05)=0\n",
      "INFO:ridge_corr:Training: alpha=48329302.386, mean corr=0.01536, max corr=0.03172, over-under(0.05)=0\n",
      "INFO:ridge_corr:Training: alpha=100000000.000, mean corr=0.01516, max corr=0.03170, over-under(0.05)=0\n",
      "INFO:counter:19/20 items complete (7.84 seconds/item, 00:00:07 remaining)\n",
      "INFO:ridge_corr:Selecting held-out test set..\n",
      "INFO:ridge_corr:Doing Eigenvalue decomposition...\n"
     ]
    },
    {
     "name": "stdout",
     "output_type": "stream",
     "text": [
      "Cmode = False\n",
      "Number of time points is greater than the number of features\n"
     ]
    },
    {
     "name": "stderr",
     "output_type": "stream",
     "text": [
      "INFO:ridge_corr:Training: alpha=0.000, mean corr=0.00408, max corr=0.02227, over-under(0.05)=0\n",
      "INFO:ridge_corr:Training: alpha=100.000, mean corr=0.00800, max corr=0.02798, over-under(0.05)=0\n",
      "INFO:ridge_corr:Training: alpha=206.914, mean corr=0.00935, max corr=0.02975, over-under(0.05)=0\n",
      "INFO:ridge_corr:Training: alpha=428.133, mean corr=0.01062, max corr=0.03130, over-under(0.05)=0\n",
      "INFO:ridge_corr:Training: alpha=885.867, mean corr=0.01158, max corr=0.03230, over-under(0.05)=0\n",
      "INFO:ridge_corr:Training: alpha=1832.981, mean corr=0.01195, max corr=0.03280, over-under(0.05)=0\n",
      "INFO:ridge_corr:Training: alpha=3792.690, mean corr=0.01167, max corr=0.03280, over-under(0.05)=0\n",
      "INFO:ridge_corr:Training: alpha=7847.600, mean corr=0.01082, max corr=0.03236, over-under(0.05)=0\n",
      "INFO:ridge_corr:Training: alpha=16237.767, mean corr=0.00951, max corr=0.03079, over-under(0.05)=-1\n",
      "INFO:ridge_corr:Training: alpha=33598.183, mean corr=0.00794, max corr=0.02822, over-under(0.05)=-1\n",
      "INFO:ridge_corr:Training: alpha=69519.280, mean corr=0.00641, max corr=0.02492, over-under(0.05)=0\n",
      "INFO:ridge_corr:Training: alpha=143844.989, mean corr=0.00510, max corr=0.02298, over-under(0.05)=0\n",
      "INFO:ridge_corr:Training: alpha=297635.144, mean corr=0.00413, max corr=0.02448, over-under(0.05)=0\n",
      "INFO:ridge_corr:Training: alpha=615848.211, mean corr=0.00356, max corr=0.02473, over-under(0.05)=0\n",
      "INFO:ridge_corr:Training: alpha=1274274.986, mean corr=0.00338, max corr=0.02392, over-under(0.05)=0\n",
      "INFO:ridge_corr:Training: alpha=2636650.899, mean corr=0.00340, max corr=0.02284, over-under(0.05)=0\n",
      "INFO:ridge_corr:Training: alpha=5455594.781, mean corr=0.00346, max corr=0.02199, over-under(0.05)=0\n",
      "INFO:ridge_corr:Training: alpha=11288378.917, mean corr=0.00347, max corr=0.02144, over-under(0.05)=0\n",
      "INFO:ridge_corr:Training: alpha=23357214.691, mean corr=0.00347, max corr=0.02113, over-under(0.05)=0\n",
      "INFO:ridge_corr:Training: alpha=48329302.386, mean corr=0.00346, max corr=0.02097, over-under(0.05)=0\n",
      "INFO:ridge_corr:Training: alpha=100000000.000, mean corr=0.00345, max corr=0.02089, over-under(0.05)=0\n",
      "INFO:counter:20/20 items complete (7.83 seconds/item, 00:00:00 remaining)\n",
      "INFO:ridge_corr:Finding single best alpha..\n",
      "INFO:ridge_corr:Best alpha = 16237.767\n",
      "INFO:ridge_corr:Computing weights for each response using entire training set..\n",
      "INFO:ridge_corr:Doing Eigenvalue decomposition on the full stimulus matrix...\n"
     ]
    },
    {
     "name": "stdout",
     "output_type": "stream",
     "text": [
      "Cmode = False\n",
      "Number of time points is greater than the number of features\n",
      "stim shape (not cmode): \n",
      "(111900, 1232)\n",
      "Covmat shape: \n",
      "(1232, 1232)\n",
      "(1232, 1232) (1232, 111900) (111900, 64)\n"
     ]
    },
    {
     "name": "stderr",
     "output_type": "stream",
     "text": [
      "INFO:ridge_corr:Computing weights\n",
      "INFO:ridge_corr:Predicting responses for predictions set..\n"
     ]
    },
    {
     "name": "stdout",
     "output_type": "stream",
     "text": [
      "*************************\n",
      "pred value is: \n",
      "[[-9.02116702e-24 -1.29074944e-23 -7.96891459e-24 ... -1.21610030e-23\n",
      "  -9.82743824e-24 -2.86239119e-24]\n",
      " [-3.48203174e-08 -3.88034226e-08 -2.76795438e-08 ... -4.00909942e-08\n",
      "  -3.57764325e-08 -8.47687944e-09]\n",
      " [-6.99063512e-08 -7.88270237e-08 -5.84347388e-08 ... -8.06727024e-08\n",
      "  -7.02684193e-08 -2.11970418e-08]\n",
      " ...\n",
      " [-1.95427936e-23 -1.05302445e-22 -5.52596953e-23 ... -1.16684384e-22\n",
      "  -6.20765708e-23 -8.81623839e-23]\n",
      " [ 7.69074670e-23 -3.86518017e-23  8.78873189e-25 ... -3.22822610e-23\n",
      "   6.59086535e-24 -1.66465679e-23]\n",
      " [ 2.78431352e-23 -5.13872803e-23 -2.33583543e-23 ... -7.54657857e-23\n",
      "  -2.65312733e-23 -8.32948092e-23]]\n",
      "*************************\n",
      "(1232, 64)\n",
      "(1232, 64)\n",
      "Determining significance of the correlation values using a bootstrap with 100 iterations\n",
      "Bootstrap 1/100\n"
     ]
    },
    {
     "name": "stderr",
     "output_type": "stream",
     "text": [
      "INFO:ridge_corr:Doing Eigenvalue decomposition...\n"
     ]
    },
    {
     "name": "stdout",
     "output_type": "stream",
     "text": [
      "Cmode = False\n",
      "Number of time points is greater than the number of features\n"
     ]
    },
    {
     "name": "stderr",
     "output_type": "stream",
     "text": [
      "INFO:ridge_corr:Training: alpha=16237.767, mean corr=-0.00934, max corr=0.01319, over-under(0.05)=0\n"
     ]
    },
    {
     "name": "stdout",
     "output_type": "stream",
     "text": [
      "Bootstrap 2/100\n"
     ]
    },
    {
     "name": "stderr",
     "output_type": "stream",
     "text": [
      "INFO:ridge_corr:Doing Eigenvalue decomposition...\n"
     ]
    },
    {
     "name": "stdout",
     "output_type": "stream",
     "text": [
      "Cmode = False\n",
      "Number of time points is greater than the number of features\n"
     ]
    },
    {
     "name": "stderr",
     "output_type": "stream",
     "text": [
      "INFO:ridge_corr:Training: alpha=16237.767, mean corr=-0.00187, max corr=0.02106, over-under(0.05)=0\n"
     ]
    },
    {
     "name": "stdout",
     "output_type": "stream",
     "text": [
      "Bootstrap 3/100\n"
     ]
    },
    {
     "name": "stderr",
     "output_type": "stream",
     "text": [
      "INFO:ridge_corr:Doing Eigenvalue decomposition...\n"
     ]
    },
    {
     "name": "stdout",
     "output_type": "stream",
     "text": [
      "Cmode = False\n",
      "Number of time points is greater than the number of features\n"
     ]
    },
    {
     "name": "stderr",
     "output_type": "stream",
     "text": [
      "INFO:ridge_corr:Training: alpha=16237.767, mean corr=0.01097, max corr=0.04074, over-under(0.05)=0\n"
     ]
    },
    {
     "name": "stdout",
     "output_type": "stream",
     "text": [
      "Bootstrap 4/100\n"
     ]
    },
    {
     "name": "stderr",
     "output_type": "stream",
     "text": [
      "INFO:ridge_corr:Doing Eigenvalue decomposition...\n"
     ]
    },
    {
     "name": "stdout",
     "output_type": "stream",
     "text": [
      "Cmode = False\n",
      "Number of time points is greater than the number of features\n"
     ]
    },
    {
     "name": "stderr",
     "output_type": "stream",
     "text": [
      "INFO:ridge_corr:Training: alpha=16237.767, mean corr=-0.00644, max corr=0.01969, over-under(0.05)=0\n"
     ]
    },
    {
     "name": "stdout",
     "output_type": "stream",
     "text": [
      "Bootstrap 5/100\n"
     ]
    },
    {
     "name": "stderr",
     "output_type": "stream",
     "text": [
      "INFO:ridge_corr:Doing Eigenvalue decomposition...\n"
     ]
    },
    {
     "name": "stdout",
     "output_type": "stream",
     "text": [
      "Cmode = False\n",
      "Number of time points is greater than the number of features\n"
     ]
    },
    {
     "name": "stderr",
     "output_type": "stream",
     "text": [
      "INFO:ridge_corr:Training: alpha=16237.767, mean corr=-0.00082, max corr=0.01706, over-under(0.05)=0\n"
     ]
    },
    {
     "name": "stdout",
     "output_type": "stream",
     "text": [
      "Bootstrap 6/100\n"
     ]
    },
    {
     "name": "stderr",
     "output_type": "stream",
     "text": [
      "INFO:ridge_corr:Doing Eigenvalue decomposition...\n"
     ]
    },
    {
     "name": "stdout",
     "output_type": "stream",
     "text": [
      "Cmode = False\n",
      "Number of time points is greater than the number of features\n"
     ]
    },
    {
     "name": "stderr",
     "output_type": "stream",
     "text": [
      "INFO:ridge_corr:Training: alpha=16237.767, mean corr=-0.00106, max corr=0.03211, over-under(0.05)=0\n"
     ]
    },
    {
     "name": "stdout",
     "output_type": "stream",
     "text": [
      "Bootstrap 7/100\n"
     ]
    },
    {
     "name": "stderr",
     "output_type": "stream",
     "text": [
      "INFO:ridge_corr:Doing Eigenvalue decomposition...\n"
     ]
    },
    {
     "name": "stdout",
     "output_type": "stream",
     "text": [
      "Cmode = False\n",
      "Number of time points is greater than the number of features\n"
     ]
    },
    {
     "name": "stderr",
     "output_type": "stream",
     "text": [
      "INFO:ridge_corr:Training: alpha=16237.767, mean corr=0.00762, max corr=0.03402, over-under(0.05)=0\n"
     ]
    },
    {
     "name": "stdout",
     "output_type": "stream",
     "text": [
      "Bootstrap 8/100\n"
     ]
    },
    {
     "name": "stderr",
     "output_type": "stream",
     "text": [
      "INFO:ridge_corr:Doing Eigenvalue decomposition...\n"
     ]
    },
    {
     "name": "stdout",
     "output_type": "stream",
     "text": [
      "Cmode = False\n",
      "Number of time points is greater than the number of features\n"
     ]
    },
    {
     "name": "stderr",
     "output_type": "stream",
     "text": [
      "INFO:ridge_corr:Training: alpha=16237.767, mean corr=-0.00306, max corr=0.02060, over-under(0.05)=0\n"
     ]
    },
    {
     "name": "stdout",
     "output_type": "stream",
     "text": [
      "Bootstrap 9/100\n"
     ]
    },
    {
     "name": "stderr",
     "output_type": "stream",
     "text": [
      "INFO:ridge_corr:Doing Eigenvalue decomposition...\n"
     ]
    },
    {
     "name": "stdout",
     "output_type": "stream",
     "text": [
      "Cmode = False\n",
      "Number of time points is greater than the number of features\n"
     ]
    },
    {
     "name": "stderr",
     "output_type": "stream",
     "text": [
      "INFO:ridge_corr:Training: alpha=16237.767, mean corr=-0.00080, max corr=0.02994, over-under(0.05)=0\n"
     ]
    },
    {
     "name": "stdout",
     "output_type": "stream",
     "text": [
      "Bootstrap 10/100\n"
     ]
    },
    {
     "name": "stderr",
     "output_type": "stream",
     "text": [
      "INFO:ridge_corr:Doing Eigenvalue decomposition...\n"
     ]
    },
    {
     "name": "stdout",
     "output_type": "stream",
     "text": [
      "Cmode = False\n",
      "Number of time points is greater than the number of features\n"
     ]
    },
    {
     "name": "stderr",
     "output_type": "stream",
     "text": [
      "INFO:ridge_corr:Training: alpha=16237.767, mean corr=0.01078, max corr=0.04056, over-under(0.05)=0\n"
     ]
    },
    {
     "name": "stdout",
     "output_type": "stream",
     "text": [
      "Bootstrap 11/100\n"
     ]
    },
    {
     "name": "stderr",
     "output_type": "stream",
     "text": [
      "INFO:ridge_corr:Doing Eigenvalue decomposition...\n"
     ]
    },
    {
     "name": "stdout",
     "output_type": "stream",
     "text": [
      "Cmode = False\n",
      "Number of time points is greater than the number of features\n"
     ]
    },
    {
     "name": "stderr",
     "output_type": "stream",
     "text": [
      "INFO:ridge_corr:Training: alpha=16237.767, mean corr=0.00292, max corr=0.01683, over-under(0.05)=0\n"
     ]
    },
    {
     "name": "stdout",
     "output_type": "stream",
     "text": [
      "Bootstrap 12/100\n"
     ]
    },
    {
     "name": "stderr",
     "output_type": "stream",
     "text": [
      "INFO:ridge_corr:Doing Eigenvalue decomposition...\n"
     ]
    },
    {
     "name": "stdout",
     "output_type": "stream",
     "text": [
      "Cmode = False\n",
      "Number of time points is greater than the number of features\n"
     ]
    },
    {
     "name": "stderr",
     "output_type": "stream",
     "text": [
      "INFO:ridge_corr:Training: alpha=16237.767, mean corr=0.00350, max corr=0.02387, over-under(0.05)=0\n"
     ]
    },
    {
     "name": "stdout",
     "output_type": "stream",
     "text": [
      "Bootstrap 13/100\n"
     ]
    },
    {
     "name": "stderr",
     "output_type": "stream",
     "text": [
      "INFO:ridge_corr:Doing Eigenvalue decomposition...\n"
     ]
    },
    {
     "name": "stdout",
     "output_type": "stream",
     "text": [
      "Cmode = False\n",
      "Number of time points is greater than the number of features\n"
     ]
    },
    {
     "name": "stderr",
     "output_type": "stream",
     "text": [
      "INFO:ridge_corr:Training: alpha=16237.767, mean corr=0.00001, max corr=0.02623, over-under(0.05)=0\n"
     ]
    },
    {
     "name": "stdout",
     "output_type": "stream",
     "text": [
      "Bootstrap 14/100\n"
     ]
    },
    {
     "name": "stderr",
     "output_type": "stream",
     "text": [
      "INFO:ridge_corr:Doing Eigenvalue decomposition...\n"
     ]
    },
    {
     "name": "stdout",
     "output_type": "stream",
     "text": [
      "Cmode = False\n",
      "Number of time points is greater than the number of features\n"
     ]
    },
    {
     "name": "stderr",
     "output_type": "stream",
     "text": [
      "INFO:ridge_corr:Training: alpha=16237.767, mean corr=0.00179, max corr=0.02358, over-under(0.05)=0\n"
     ]
    },
    {
     "name": "stdout",
     "output_type": "stream",
     "text": [
      "Bootstrap 15/100\n"
     ]
    },
    {
     "name": "stderr",
     "output_type": "stream",
     "text": [
      "INFO:ridge_corr:Doing Eigenvalue decomposition...\n"
     ]
    },
    {
     "name": "stdout",
     "output_type": "stream",
     "text": [
      "Cmode = False\n",
      "Number of time points is greater than the number of features\n"
     ]
    },
    {
     "name": "stderr",
     "output_type": "stream",
     "text": [
      "INFO:ridge_corr:Training: alpha=16237.767, mean corr=0.00059, max corr=0.02344, over-under(0.05)=0\n"
     ]
    },
    {
     "name": "stdout",
     "output_type": "stream",
     "text": [
      "Bootstrap 16/100\n"
     ]
    },
    {
     "name": "stderr",
     "output_type": "stream",
     "text": [
      "INFO:ridge_corr:Doing Eigenvalue decomposition...\n"
     ]
    },
    {
     "name": "stdout",
     "output_type": "stream",
     "text": [
      "Cmode = False\n",
      "Number of time points is greater than the number of features\n"
     ]
    },
    {
     "name": "stderr",
     "output_type": "stream",
     "text": [
      "INFO:ridge_corr:Training: alpha=16237.767, mean corr=0.00121, max corr=0.03083, over-under(0.05)=0\n"
     ]
    },
    {
     "name": "stdout",
     "output_type": "stream",
     "text": [
      "Bootstrap 17/100\n"
     ]
    },
    {
     "name": "stderr",
     "output_type": "stream",
     "text": [
      "INFO:ridge_corr:Doing Eigenvalue decomposition...\n"
     ]
    },
    {
     "name": "stdout",
     "output_type": "stream",
     "text": [
      "Cmode = False\n",
      "Number of time points is greater than the number of features\n"
     ]
    },
    {
     "name": "stderr",
     "output_type": "stream",
     "text": [
      "INFO:ridge_corr:Training: alpha=16237.767, mean corr=0.00840, max corr=0.03461, over-under(0.05)=0\n"
     ]
    },
    {
     "name": "stdout",
     "output_type": "stream",
     "text": [
      "Bootstrap 18/100\n"
     ]
    },
    {
     "name": "stderr",
     "output_type": "stream",
     "text": [
      "INFO:ridge_corr:Doing Eigenvalue decomposition...\n"
     ]
    },
    {
     "name": "stdout",
     "output_type": "stream",
     "text": [
      "Cmode = False\n",
      "Number of time points is greater than the number of features\n"
     ]
    },
    {
     "name": "stderr",
     "output_type": "stream",
     "text": [
      "INFO:ridge_corr:Training: alpha=16237.767, mean corr=0.00019, max corr=0.02728, over-under(0.05)=0\n"
     ]
    },
    {
     "name": "stdout",
     "output_type": "stream",
     "text": [
      "Bootstrap 19/100\n"
     ]
    },
    {
     "name": "stderr",
     "output_type": "stream",
     "text": [
      "INFO:ridge_corr:Doing Eigenvalue decomposition...\n"
     ]
    },
    {
     "name": "stdout",
     "output_type": "stream",
     "text": [
      "Cmode = False\n",
      "Number of time points is greater than the number of features\n"
     ]
    },
    {
     "name": "stderr",
     "output_type": "stream",
     "text": [
      "INFO:ridge_corr:Training: alpha=16237.767, mean corr=0.00434, max corr=0.02863, over-under(0.05)=0\n"
     ]
    },
    {
     "name": "stdout",
     "output_type": "stream",
     "text": [
      "Bootstrap 20/100\n"
     ]
    },
    {
     "name": "stderr",
     "output_type": "stream",
     "text": [
      "INFO:ridge_corr:Doing Eigenvalue decomposition...\n"
     ]
    },
    {
     "name": "stdout",
     "output_type": "stream",
     "text": [
      "Cmode = False\n",
      "Number of time points is greater than the number of features\n"
     ]
    },
    {
     "name": "stderr",
     "output_type": "stream",
     "text": [
      "INFO:ridge_corr:Training: alpha=16237.767, mean corr=-0.00373, max corr=0.00914, over-under(0.05)=0\n"
     ]
    },
    {
     "name": "stdout",
     "output_type": "stream",
     "text": [
      "Bootstrap 21/100\n"
     ]
    },
    {
     "name": "stderr",
     "output_type": "stream",
     "text": [
      "INFO:ridge_corr:Doing Eigenvalue decomposition...\n"
     ]
    },
    {
     "name": "stdout",
     "output_type": "stream",
     "text": [
      "Cmode = False\n",
      "Number of time points is greater than the number of features\n"
     ]
    },
    {
     "name": "stderr",
     "output_type": "stream",
     "text": [
      "INFO:ridge_corr:Training: alpha=16237.767, mean corr=-0.00679, max corr=0.02556, over-under(0.05)=0\n"
     ]
    },
    {
     "name": "stdout",
     "output_type": "stream",
     "text": [
      "Bootstrap 22/100\n"
     ]
    },
    {
     "name": "stderr",
     "output_type": "stream",
     "text": [
      "INFO:ridge_corr:Doing Eigenvalue decomposition...\n"
     ]
    },
    {
     "name": "stdout",
     "output_type": "stream",
     "text": [
      "Cmode = False\n",
      "Number of time points is greater than the number of features\n"
     ]
    },
    {
     "name": "stderr",
     "output_type": "stream",
     "text": [
      "INFO:ridge_corr:Training: alpha=16237.767, mean corr=0.00329, max corr=0.03141, over-under(0.05)=0\n"
     ]
    },
    {
     "name": "stdout",
     "output_type": "stream",
     "text": [
      "Bootstrap 23/100\n"
     ]
    },
    {
     "name": "stderr",
     "output_type": "stream",
     "text": [
      "INFO:ridge_corr:Doing Eigenvalue decomposition...\n"
     ]
    },
    {
     "name": "stdout",
     "output_type": "stream",
     "text": [
      "Cmode = False\n",
      "Number of time points is greater than the number of features\n"
     ]
    },
    {
     "name": "stderr",
     "output_type": "stream",
     "text": [
      "INFO:ridge_corr:Training: alpha=16237.767, mean corr=0.00012, max corr=0.03016, over-under(0.05)=0\n"
     ]
    },
    {
     "name": "stdout",
     "output_type": "stream",
     "text": [
      "Bootstrap 24/100\n"
     ]
    },
    {
     "name": "stderr",
     "output_type": "stream",
     "text": [
      "INFO:ridge_corr:Doing Eigenvalue decomposition...\n"
     ]
    },
    {
     "name": "stdout",
     "output_type": "stream",
     "text": [
      "Cmode = False\n",
      "Number of time points is greater than the number of features\n"
     ]
    },
    {
     "name": "stderr",
     "output_type": "stream",
     "text": [
      "INFO:ridge_corr:Training: alpha=16237.767, mean corr=0.00830, max corr=0.05505, over-under(0.05)=2\n"
     ]
    },
    {
     "name": "stdout",
     "output_type": "stream",
     "text": [
      "Bootstrap 25/100\n"
     ]
    },
    {
     "name": "stderr",
     "output_type": "stream",
     "text": [
      "INFO:ridge_corr:Doing Eigenvalue decomposition...\n"
     ]
    },
    {
     "name": "stdout",
     "output_type": "stream",
     "text": [
      "Cmode = False\n",
      "Number of time points is greater than the number of features\n"
     ]
    },
    {
     "name": "stderr",
     "output_type": "stream",
     "text": [
      "INFO:ridge_corr:Training: alpha=16237.767, mean corr=0.00009, max corr=0.02646, over-under(0.05)=0\n"
     ]
    },
    {
     "name": "stdout",
     "output_type": "stream",
     "text": [
      "Bootstrap 26/100\n"
     ]
    },
    {
     "name": "stderr",
     "output_type": "stream",
     "text": [
      "INFO:ridge_corr:Doing Eigenvalue decomposition...\n"
     ]
    },
    {
     "name": "stdout",
     "output_type": "stream",
     "text": [
      "Cmode = False\n",
      "Number of time points is greater than the number of features\n"
     ]
    },
    {
     "name": "stderr",
     "output_type": "stream",
     "text": [
      "INFO:ridge_corr:Training: alpha=16237.767, mean corr=0.00014, max corr=0.02910, over-under(0.05)=0\n"
     ]
    },
    {
     "name": "stdout",
     "output_type": "stream",
     "text": [
      "Bootstrap 27/100\n"
     ]
    },
    {
     "name": "stderr",
     "output_type": "stream",
     "text": [
      "INFO:ridge_corr:Doing Eigenvalue decomposition...\n"
     ]
    },
    {
     "name": "stdout",
     "output_type": "stream",
     "text": [
      "Cmode = False\n",
      "Number of time points is greater than the number of features\n"
     ]
    },
    {
     "name": "stderr",
     "output_type": "stream",
     "text": [
      "INFO:ridge_corr:Training: alpha=16237.767, mean corr=-0.00294, max corr=0.01192, over-under(0.05)=0\n"
     ]
    },
    {
     "name": "stdout",
     "output_type": "stream",
     "text": [
      "Bootstrap 28/100\n"
     ]
    },
    {
     "name": "stderr",
     "output_type": "stream",
     "text": [
      "INFO:ridge_corr:Doing Eigenvalue decomposition...\n"
     ]
    },
    {
     "name": "stdout",
     "output_type": "stream",
     "text": [
      "Cmode = False\n",
      "Number of time points is greater than the number of features\n"
     ]
    },
    {
     "name": "stderr",
     "output_type": "stream",
     "text": [
      "INFO:ridge_corr:Training: alpha=16237.767, mean corr=-0.00322, max corr=0.01675, over-under(0.05)=0\n"
     ]
    },
    {
     "name": "stdout",
     "output_type": "stream",
     "text": [
      "Bootstrap 29/100\n"
     ]
    },
    {
     "name": "stderr",
     "output_type": "stream",
     "text": [
      "INFO:ridge_corr:Doing Eigenvalue decomposition...\n"
     ]
    },
    {
     "name": "stdout",
     "output_type": "stream",
     "text": [
      "Cmode = False\n",
      "Number of time points is greater than the number of features\n"
     ]
    },
    {
     "name": "stderr",
     "output_type": "stream",
     "text": [
      "INFO:ridge_corr:Training: alpha=16237.767, mean corr=-0.00497, max corr=0.02177, over-under(0.05)=0\n"
     ]
    },
    {
     "name": "stdout",
     "output_type": "stream",
     "text": [
      "Bootstrap 30/100\n"
     ]
    },
    {
     "name": "stderr",
     "output_type": "stream",
     "text": [
      "INFO:ridge_corr:Doing Eigenvalue decomposition...\n"
     ]
    },
    {
     "name": "stdout",
     "output_type": "stream",
     "text": [
      "Cmode = False\n",
      "Number of time points is greater than the number of features\n"
     ]
    },
    {
     "name": "stderr",
     "output_type": "stream",
     "text": [
      "INFO:ridge_corr:Training: alpha=16237.767, mean corr=-0.00135, max corr=0.00844, over-under(0.05)=0\n"
     ]
    },
    {
     "name": "stdout",
     "output_type": "stream",
     "text": [
      "Bootstrap 31/100\n"
     ]
    },
    {
     "name": "stderr",
     "output_type": "stream",
     "text": [
      "INFO:ridge_corr:Doing Eigenvalue decomposition...\n"
     ]
    },
    {
     "name": "stdout",
     "output_type": "stream",
     "text": [
      "Cmode = False\n",
      "Number of time points is greater than the number of features\n"
     ]
    },
    {
     "name": "stderr",
     "output_type": "stream",
     "text": [
      "INFO:ridge_corr:Training: alpha=16237.767, mean corr=-0.00028, max corr=0.02122, over-under(0.05)=0\n"
     ]
    },
    {
     "name": "stdout",
     "output_type": "stream",
     "text": [
      "Bootstrap 32/100\n"
     ]
    },
    {
     "name": "stderr",
     "output_type": "stream",
     "text": [
      "INFO:ridge_corr:Doing Eigenvalue decomposition...\n"
     ]
    },
    {
     "name": "stdout",
     "output_type": "stream",
     "text": [
      "Cmode = False\n",
      "Number of time points is greater than the number of features\n"
     ]
    },
    {
     "name": "stderr",
     "output_type": "stream",
     "text": [
      "INFO:ridge_corr:Training: alpha=16237.767, mean corr=0.00145, max corr=0.02642, over-under(0.05)=0\n"
     ]
    },
    {
     "name": "stdout",
     "output_type": "stream",
     "text": [
      "Bootstrap 33/100\n"
     ]
    },
    {
     "name": "stderr",
     "output_type": "stream",
     "text": [
      "INFO:ridge_corr:Doing Eigenvalue decomposition...\n"
     ]
    },
    {
     "name": "stdout",
     "output_type": "stream",
     "text": [
      "Cmode = False\n",
      "Number of time points is greater than the number of features\n"
     ]
    },
    {
     "name": "stderr",
     "output_type": "stream",
     "text": [
      "INFO:ridge_corr:Training: alpha=16237.767, mean corr=-0.00186, max corr=0.01762, over-under(0.05)=0\n"
     ]
    },
    {
     "name": "stdout",
     "output_type": "stream",
     "text": [
      "Bootstrap 34/100\n"
     ]
    },
    {
     "name": "stderr",
     "output_type": "stream",
     "text": [
      "INFO:ridge_corr:Doing Eigenvalue decomposition...\n"
     ]
    },
    {
     "name": "stdout",
     "output_type": "stream",
     "text": [
      "Cmode = False\n",
      "Number of time points is greater than the number of features\n"
     ]
    },
    {
     "name": "stderr",
     "output_type": "stream",
     "text": [
      "INFO:ridge_corr:Training: alpha=16237.767, mean corr=-0.00258, max corr=0.01510, over-under(0.05)=0\n"
     ]
    },
    {
     "name": "stdout",
     "output_type": "stream",
     "text": [
      "Bootstrap 35/100\n"
     ]
    },
    {
     "name": "stderr",
     "output_type": "stream",
     "text": [
      "INFO:ridge_corr:Doing Eigenvalue decomposition...\n"
     ]
    },
    {
     "name": "stdout",
     "output_type": "stream",
     "text": [
      "Cmode = False\n",
      "Number of time points is greater than the number of features\n"
     ]
    },
    {
     "name": "stderr",
     "output_type": "stream",
     "text": [
      "INFO:ridge_corr:Training: alpha=16237.767, mean corr=-0.01068, max corr=0.00757, over-under(0.05)=0\n"
     ]
    },
    {
     "name": "stdout",
     "output_type": "stream",
     "text": [
      "Bootstrap 36/100\n"
     ]
    },
    {
     "name": "stderr",
     "output_type": "stream",
     "text": [
      "INFO:ridge_corr:Doing Eigenvalue decomposition...\n"
     ]
    },
    {
     "name": "stdout",
     "output_type": "stream",
     "text": [
      "Cmode = False\n",
      "Number of time points is greater than the number of features\n"
     ]
    },
    {
     "name": "stderr",
     "output_type": "stream",
     "text": [
      "INFO:ridge_corr:Training: alpha=16237.767, mean corr=0.00306, max corr=0.03545, over-under(0.05)=0\n"
     ]
    },
    {
     "name": "stdout",
     "output_type": "stream",
     "text": [
      "Bootstrap 37/100\n"
     ]
    },
    {
     "name": "stderr",
     "output_type": "stream",
     "text": [
      "INFO:ridge_corr:Doing Eigenvalue decomposition...\n"
     ]
    },
    {
     "name": "stdout",
     "output_type": "stream",
     "text": [
      "Cmode = False\n",
      "Number of time points is greater than the number of features\n"
     ]
    },
    {
     "name": "stderr",
     "output_type": "stream",
     "text": [
      "INFO:ridge_corr:Training: alpha=16237.767, mean corr=0.00641, max corr=0.03907, over-under(0.05)=0\n"
     ]
    },
    {
     "name": "stdout",
     "output_type": "stream",
     "text": [
      "Bootstrap 38/100\n"
     ]
    },
    {
     "name": "stderr",
     "output_type": "stream",
     "text": [
      "INFO:ridge_corr:Doing Eigenvalue decomposition...\n"
     ]
    },
    {
     "name": "stdout",
     "output_type": "stream",
     "text": [
      "Cmode = False\n",
      "Number of time points is greater than the number of features\n"
     ]
    },
    {
     "name": "stderr",
     "output_type": "stream",
     "text": [
      "INFO:ridge_corr:Training: alpha=16237.767, mean corr=0.00284, max corr=0.03600, over-under(0.05)=0\n"
     ]
    },
    {
     "name": "stdout",
     "output_type": "stream",
     "text": [
      "Bootstrap 39/100\n"
     ]
    },
    {
     "name": "stderr",
     "output_type": "stream",
     "text": [
      "INFO:ridge_corr:Doing Eigenvalue decomposition...\n"
     ]
    },
    {
     "name": "stdout",
     "output_type": "stream",
     "text": [
      "Cmode = False\n",
      "Number of time points is greater than the number of features\n"
     ]
    },
    {
     "name": "stderr",
     "output_type": "stream",
     "text": [
      "INFO:ridge_corr:Training: alpha=16237.767, mean corr=0.00090, max corr=0.02370, over-under(0.05)=0\n"
     ]
    },
    {
     "name": "stdout",
     "output_type": "stream",
     "text": [
      "Bootstrap 40/100\n"
     ]
    },
    {
     "name": "stderr",
     "output_type": "stream",
     "text": [
      "INFO:ridge_corr:Doing Eigenvalue decomposition...\n"
     ]
    },
    {
     "name": "stdout",
     "output_type": "stream",
     "text": [
      "Cmode = False\n",
      "Number of time points is greater than the number of features\n"
     ]
    },
    {
     "name": "stderr",
     "output_type": "stream",
     "text": [
      "INFO:ridge_corr:Training: alpha=16237.767, mean corr=-0.00351, max corr=0.01159, over-under(0.05)=0\n"
     ]
    },
    {
     "name": "stdout",
     "output_type": "stream",
     "text": [
      "Bootstrap 41/100\n"
     ]
    },
    {
     "name": "stderr",
     "output_type": "stream",
     "text": [
      "INFO:ridge_corr:Doing Eigenvalue decomposition...\n"
     ]
    },
    {
     "name": "stdout",
     "output_type": "stream",
     "text": [
      "Cmode = False\n",
      "Number of time points is greater than the number of features\n"
     ]
    },
    {
     "name": "stderr",
     "output_type": "stream",
     "text": [
      "INFO:ridge_corr:Training: alpha=16237.767, mean corr=0.00006, max corr=0.02032, over-under(0.05)=0\n"
     ]
    },
    {
     "name": "stdout",
     "output_type": "stream",
     "text": [
      "Bootstrap 42/100\n"
     ]
    },
    {
     "name": "stderr",
     "output_type": "stream",
     "text": [
      "INFO:ridge_corr:Doing Eigenvalue decomposition...\n"
     ]
    },
    {
     "name": "stdout",
     "output_type": "stream",
     "text": [
      "Cmode = False\n",
      "Number of time points is greater than the number of features\n"
     ]
    },
    {
     "name": "stderr",
     "output_type": "stream",
     "text": [
      "INFO:ridge_corr:Training: alpha=16237.767, mean corr=0.00340, max corr=0.01611, over-under(0.05)=0\n"
     ]
    },
    {
     "name": "stdout",
     "output_type": "stream",
     "text": [
      "Bootstrap 43/100\n"
     ]
    },
    {
     "name": "stderr",
     "output_type": "stream",
     "text": [
      "INFO:ridge_corr:Doing Eigenvalue decomposition...\n"
     ]
    },
    {
     "name": "stdout",
     "output_type": "stream",
     "text": [
      "Cmode = False\n",
      "Number of time points is greater than the number of features\n"
     ]
    },
    {
     "name": "stderr",
     "output_type": "stream",
     "text": [
      "INFO:ridge_corr:Training: alpha=16237.767, mean corr=0.00307, max corr=0.02352, over-under(0.05)=0\n"
     ]
    },
    {
     "name": "stdout",
     "output_type": "stream",
     "text": [
      "Bootstrap 44/100\n"
     ]
    },
    {
     "name": "stderr",
     "output_type": "stream",
     "text": [
      "INFO:ridge_corr:Doing Eigenvalue decomposition...\n"
     ]
    },
    {
     "name": "stdout",
     "output_type": "stream",
     "text": [
      "Cmode = False\n",
      "Number of time points is greater than the number of features\n"
     ]
    },
    {
     "name": "stderr",
     "output_type": "stream",
     "text": [
      "INFO:ridge_corr:Training: alpha=16237.767, mean corr=-0.00745, max corr=0.02065, over-under(0.05)=0\n"
     ]
    },
    {
     "name": "stdout",
     "output_type": "stream",
     "text": [
      "Bootstrap 45/100\n"
     ]
    },
    {
     "name": "stderr",
     "output_type": "stream",
     "text": [
      "INFO:ridge_corr:Doing Eigenvalue decomposition...\n"
     ]
    },
    {
     "name": "stdout",
     "output_type": "stream",
     "text": [
      "Cmode = False\n",
      "Number of time points is greater than the number of features\n"
     ]
    },
    {
     "name": "stderr",
     "output_type": "stream",
     "text": [
      "INFO:ridge_corr:Training: alpha=16237.767, mean corr=-0.00703, max corr=0.02380, over-under(0.05)=0\n"
     ]
    },
    {
     "name": "stdout",
     "output_type": "stream",
     "text": [
      "Bootstrap 46/100\n"
     ]
    },
    {
     "name": "stderr",
     "output_type": "stream",
     "text": [
      "INFO:ridge_corr:Doing Eigenvalue decomposition...\n"
     ]
    },
    {
     "name": "stdout",
     "output_type": "stream",
     "text": [
      "Cmode = False\n",
      "Number of time points is greater than the number of features\n"
     ]
    },
    {
     "name": "stderr",
     "output_type": "stream",
     "text": [
      "INFO:ridge_corr:Training: alpha=16237.767, mean corr=0.00351, max corr=0.02170, over-under(0.05)=0\n"
     ]
    },
    {
     "name": "stdout",
     "output_type": "stream",
     "text": [
      "Bootstrap 47/100\n"
     ]
    },
    {
     "name": "stderr",
     "output_type": "stream",
     "text": [
      "INFO:ridge_corr:Doing Eigenvalue decomposition...\n"
     ]
    },
    {
     "name": "stdout",
     "output_type": "stream",
     "text": [
      "Cmode = False\n",
      "Number of time points is greater than the number of features\n"
     ]
    },
    {
     "name": "stderr",
     "output_type": "stream",
     "text": [
      "INFO:ridge_corr:Training: alpha=16237.767, mean corr=-0.00091, max corr=0.01845, over-under(0.05)=0\n"
     ]
    },
    {
     "name": "stdout",
     "output_type": "stream",
     "text": [
      "Bootstrap 48/100\n"
     ]
    },
    {
     "name": "stderr",
     "output_type": "stream",
     "text": [
      "INFO:ridge_corr:Doing Eigenvalue decomposition...\n"
     ]
    },
    {
     "name": "stdout",
     "output_type": "stream",
     "text": [
      "Cmode = False\n",
      "Number of time points is greater than the number of features\n"
     ]
    },
    {
     "name": "stderr",
     "output_type": "stream",
     "text": [
      "INFO:ridge_corr:Training: alpha=16237.767, mean corr=0.00397, max corr=0.02745, over-under(0.05)=0\n"
     ]
    },
    {
     "name": "stdout",
     "output_type": "stream",
     "text": [
      "Bootstrap 49/100\n"
     ]
    },
    {
     "name": "stderr",
     "output_type": "stream",
     "text": [
      "INFO:ridge_corr:Doing Eigenvalue decomposition...\n"
     ]
    },
    {
     "name": "stdout",
     "output_type": "stream",
     "text": [
      "Cmode = False\n",
      "Number of time points is greater than the number of features\n"
     ]
    },
    {
     "name": "stderr",
     "output_type": "stream",
     "text": [
      "INFO:ridge_corr:Training: alpha=16237.767, mean corr=0.00157, max corr=0.02327, over-under(0.05)=0\n"
     ]
    },
    {
     "name": "stdout",
     "output_type": "stream",
     "text": [
      "Bootstrap 50/100\n"
     ]
    },
    {
     "name": "stderr",
     "output_type": "stream",
     "text": [
      "INFO:ridge_corr:Doing Eigenvalue decomposition...\n"
     ]
    },
    {
     "name": "stdout",
     "output_type": "stream",
     "text": [
      "Cmode = False\n",
      "Number of time points is greater than the number of features\n"
     ]
    },
    {
     "name": "stderr",
     "output_type": "stream",
     "text": [
      "INFO:ridge_corr:Training: alpha=16237.767, mean corr=0.00264, max corr=0.02759, over-under(0.05)=0\n"
     ]
    },
    {
     "name": "stdout",
     "output_type": "stream",
     "text": [
      "Bootstrap 51/100\n"
     ]
    },
    {
     "name": "stderr",
     "output_type": "stream",
     "text": [
      "INFO:ridge_corr:Doing Eigenvalue decomposition...\n"
     ]
    },
    {
     "name": "stdout",
     "output_type": "stream",
     "text": [
      "Cmode = False\n",
      "Number of time points is greater than the number of features\n"
     ]
    },
    {
     "name": "stderr",
     "output_type": "stream",
     "text": [
      "INFO:ridge_corr:Training: alpha=16237.767, mean corr=-0.00454, max corr=0.01405, over-under(0.05)=0\n"
     ]
    },
    {
     "name": "stdout",
     "output_type": "stream",
     "text": [
      "Bootstrap 52/100\n"
     ]
    },
    {
     "name": "stderr",
     "output_type": "stream",
     "text": [
      "INFO:ridge_corr:Doing Eigenvalue decomposition...\n"
     ]
    },
    {
     "name": "stdout",
     "output_type": "stream",
     "text": [
      "Cmode = False\n",
      "Number of time points is greater than the number of features\n"
     ]
    },
    {
     "name": "stderr",
     "output_type": "stream",
     "text": [
      "INFO:ridge_corr:Training: alpha=16237.767, mean corr=0.00220, max corr=0.02724, over-under(0.05)=0\n"
     ]
    },
    {
     "name": "stdout",
     "output_type": "stream",
     "text": [
      "Bootstrap 53/100\n"
     ]
    },
    {
     "name": "stderr",
     "output_type": "stream",
     "text": [
      "INFO:ridge_corr:Doing Eigenvalue decomposition...\n"
     ]
    },
    {
     "name": "stdout",
     "output_type": "stream",
     "text": [
      "Cmode = False\n",
      "Number of time points is greater than the number of features\n"
     ]
    },
    {
     "name": "stderr",
     "output_type": "stream",
     "text": [
      "INFO:ridge_corr:Training: alpha=16237.767, mean corr=0.00578, max corr=0.03728, over-under(0.05)=0\n"
     ]
    },
    {
     "name": "stdout",
     "output_type": "stream",
     "text": [
      "Bootstrap 54/100\n"
     ]
    },
    {
     "name": "stderr",
     "output_type": "stream",
     "text": [
      "INFO:ridge_corr:Doing Eigenvalue decomposition...\n"
     ]
    },
    {
     "name": "stdout",
     "output_type": "stream",
     "text": [
      "Cmode = False\n",
      "Number of time points is greater than the number of features\n"
     ]
    },
    {
     "name": "stderr",
     "output_type": "stream",
     "text": [
      "INFO:ridge_corr:Training: alpha=16237.767, mean corr=0.00314, max corr=0.04257, over-under(0.05)=0\n"
     ]
    },
    {
     "name": "stdout",
     "output_type": "stream",
     "text": [
      "Bootstrap 55/100\n"
     ]
    },
    {
     "name": "stderr",
     "output_type": "stream",
     "text": [
      "INFO:ridge_corr:Doing Eigenvalue decomposition...\n"
     ]
    },
    {
     "name": "stdout",
     "output_type": "stream",
     "text": [
      "Cmode = False\n",
      "Number of time points is greater than the number of features\n"
     ]
    },
    {
     "name": "stderr",
     "output_type": "stream",
     "text": [
      "INFO:ridge_corr:Training: alpha=16237.767, mean corr=0.00595, max corr=0.03268, over-under(0.05)=0\n"
     ]
    },
    {
     "name": "stdout",
     "output_type": "stream",
     "text": [
      "Bootstrap 56/100\n"
     ]
    },
    {
     "name": "stderr",
     "output_type": "stream",
     "text": [
      "INFO:ridge_corr:Doing Eigenvalue decomposition...\n"
     ]
    },
    {
     "name": "stdout",
     "output_type": "stream",
     "text": [
      "Cmode = False\n",
      "Number of time points is greater than the number of features\n"
     ]
    },
    {
     "name": "stderr",
     "output_type": "stream",
     "text": [
      "INFO:ridge_corr:Training: alpha=16237.767, mean corr=-0.00105, max corr=0.01817, over-under(0.05)=0\n"
     ]
    },
    {
     "name": "stdout",
     "output_type": "stream",
     "text": [
      "Bootstrap 57/100\n"
     ]
    },
    {
     "name": "stderr",
     "output_type": "stream",
     "text": [
      "INFO:ridge_corr:Doing Eigenvalue decomposition...\n"
     ]
    },
    {
     "name": "stdout",
     "output_type": "stream",
     "text": [
      "Cmode = False\n",
      "Number of time points is greater than the number of features\n"
     ]
    },
    {
     "name": "stderr",
     "output_type": "stream",
     "text": [
      "INFO:ridge_corr:Training: alpha=16237.767, mean corr=0.00057, max corr=0.02212, over-under(0.05)=0\n"
     ]
    },
    {
     "name": "stdout",
     "output_type": "stream",
     "text": [
      "Bootstrap 58/100\n"
     ]
    },
    {
     "name": "stderr",
     "output_type": "stream",
     "text": [
      "INFO:ridge_corr:Doing Eigenvalue decomposition...\n"
     ]
    },
    {
     "name": "stdout",
     "output_type": "stream",
     "text": [
      "Cmode = False\n",
      "Number of time points is greater than the number of features\n"
     ]
    },
    {
     "name": "stderr",
     "output_type": "stream",
     "text": [
      "INFO:ridge_corr:Training: alpha=16237.767, mean corr=-0.00112, max corr=0.03058, over-under(0.05)=0\n"
     ]
    },
    {
     "name": "stdout",
     "output_type": "stream",
     "text": [
      "Bootstrap 59/100\n"
     ]
    },
    {
     "name": "stderr",
     "output_type": "stream",
     "text": [
      "INFO:ridge_corr:Doing Eigenvalue decomposition...\n"
     ]
    },
    {
     "name": "stdout",
     "output_type": "stream",
     "text": [
      "Cmode = False\n",
      "Number of time points is greater than the number of features\n"
     ]
    },
    {
     "name": "stderr",
     "output_type": "stream",
     "text": [
      "INFO:ridge_corr:Training: alpha=16237.767, mean corr=-0.00058, max corr=0.01965, over-under(0.05)=0\n"
     ]
    },
    {
     "name": "stdout",
     "output_type": "stream",
     "text": [
      "Bootstrap 60/100\n"
     ]
    },
    {
     "name": "stderr",
     "output_type": "stream",
     "text": [
      "INFO:ridge_corr:Doing Eigenvalue decomposition...\n"
     ]
    },
    {
     "name": "stdout",
     "output_type": "stream",
     "text": [
      "Cmode = False\n",
      "Number of time points is greater than the number of features\n"
     ]
    },
    {
     "name": "stderr",
     "output_type": "stream",
     "text": [
      "INFO:ridge_corr:Training: alpha=16237.767, mean corr=0.00410, max corr=0.02842, over-under(0.05)=0\n"
     ]
    },
    {
     "name": "stdout",
     "output_type": "stream",
     "text": [
      "Bootstrap 61/100\n"
     ]
    },
    {
     "name": "stderr",
     "output_type": "stream",
     "text": [
      "INFO:ridge_corr:Doing Eigenvalue decomposition...\n"
     ]
    },
    {
     "name": "stdout",
     "output_type": "stream",
     "text": [
      "Cmode = False\n",
      "Number of time points is greater than the number of features\n"
     ]
    },
    {
     "name": "stderr",
     "output_type": "stream",
     "text": [
      "INFO:ridge_corr:Training: alpha=16237.767, mean corr=0.00230, max corr=0.02028, over-under(0.05)=0\n"
     ]
    },
    {
     "name": "stdout",
     "output_type": "stream",
     "text": [
      "Bootstrap 62/100\n"
     ]
    },
    {
     "name": "stderr",
     "output_type": "stream",
     "text": [
      "INFO:ridge_corr:Doing Eigenvalue decomposition...\n"
     ]
    },
    {
     "name": "stdout",
     "output_type": "stream",
     "text": [
      "Cmode = False\n",
      "Number of time points is greater than the number of features\n"
     ]
    },
    {
     "name": "stderr",
     "output_type": "stream",
     "text": [
      "INFO:ridge_corr:Training: alpha=16237.767, mean corr=0.00313, max corr=0.03853, over-under(0.05)=0\n"
     ]
    },
    {
     "name": "stdout",
     "output_type": "stream",
     "text": [
      "Bootstrap 63/100\n"
     ]
    },
    {
     "name": "stderr",
     "output_type": "stream",
     "text": [
      "INFO:ridge_corr:Doing Eigenvalue decomposition...\n"
     ]
    },
    {
     "name": "stdout",
     "output_type": "stream",
     "text": [
      "Cmode = False\n",
      "Number of time points is greater than the number of features\n"
     ]
    },
    {
     "name": "stderr",
     "output_type": "stream",
     "text": [
      "INFO:ridge_corr:Training: alpha=16237.767, mean corr=0.00036, max corr=0.02691, over-under(0.05)=0\n"
     ]
    },
    {
     "name": "stdout",
     "output_type": "stream",
     "text": [
      "Bootstrap 64/100\n"
     ]
    },
    {
     "name": "stderr",
     "output_type": "stream",
     "text": [
      "INFO:ridge_corr:Doing Eigenvalue decomposition...\n"
     ]
    },
    {
     "name": "stdout",
     "output_type": "stream",
     "text": [
      "Cmode = False\n",
      "Number of time points is greater than the number of features\n"
     ]
    },
    {
     "name": "stderr",
     "output_type": "stream",
     "text": [
      "INFO:ridge_corr:Training: alpha=16237.767, mean corr=0.00629, max corr=0.02883, over-under(0.05)=0\n"
     ]
    },
    {
     "name": "stdout",
     "output_type": "stream",
     "text": [
      "Bootstrap 65/100\n"
     ]
    },
    {
     "name": "stderr",
     "output_type": "stream",
     "text": [
      "INFO:ridge_corr:Doing Eigenvalue decomposition...\n"
     ]
    },
    {
     "name": "stdout",
     "output_type": "stream",
     "text": [
      "Cmode = False\n",
      "Number of time points is greater than the number of features\n"
     ]
    },
    {
     "name": "stderr",
     "output_type": "stream",
     "text": [
      "INFO:ridge_corr:Training: alpha=16237.767, mean corr=-0.00353, max corr=0.01071, over-under(0.05)=0\n"
     ]
    },
    {
     "name": "stdout",
     "output_type": "stream",
     "text": [
      "Bootstrap 66/100\n"
     ]
    },
    {
     "name": "stderr",
     "output_type": "stream",
     "text": [
      "INFO:ridge_corr:Doing Eigenvalue decomposition...\n"
     ]
    },
    {
     "name": "stdout",
     "output_type": "stream",
     "text": [
      "Cmode = False\n",
      "Number of time points is greater than the number of features\n"
     ]
    },
    {
     "name": "stderr",
     "output_type": "stream",
     "text": [
      "INFO:ridge_corr:Training: alpha=16237.767, mean corr=0.00996, max corr=0.04014, over-under(0.05)=0\n"
     ]
    },
    {
     "name": "stdout",
     "output_type": "stream",
     "text": [
      "Bootstrap 67/100\n"
     ]
    },
    {
     "name": "stderr",
     "output_type": "stream",
     "text": [
      "INFO:ridge_corr:Doing Eigenvalue decomposition...\n"
     ]
    },
    {
     "name": "stdout",
     "output_type": "stream",
     "text": [
      "Cmode = False\n",
      "Number of time points is greater than the number of features\n"
     ]
    },
    {
     "name": "stderr",
     "output_type": "stream",
     "text": [
      "INFO:ridge_corr:Training: alpha=16237.767, mean corr=-0.00031, max corr=0.03504, over-under(0.05)=0\n"
     ]
    },
    {
     "name": "stdout",
     "output_type": "stream",
     "text": [
      "Bootstrap 68/100\n"
     ]
    },
    {
     "name": "stderr",
     "output_type": "stream",
     "text": [
      "INFO:ridge_corr:Doing Eigenvalue decomposition...\n"
     ]
    },
    {
     "name": "stdout",
     "output_type": "stream",
     "text": [
      "Cmode = False\n",
      "Number of time points is greater than the number of features\n"
     ]
    },
    {
     "name": "stderr",
     "output_type": "stream",
     "text": [
      "INFO:ridge_corr:Training: alpha=16237.767, mean corr=0.00523, max corr=0.02051, over-under(0.05)=0\n"
     ]
    },
    {
     "name": "stdout",
     "output_type": "stream",
     "text": [
      "Bootstrap 69/100\n"
     ]
    },
    {
     "name": "stderr",
     "output_type": "stream",
     "text": [
      "INFO:ridge_corr:Doing Eigenvalue decomposition...\n"
     ]
    },
    {
     "name": "stdout",
     "output_type": "stream",
     "text": [
      "Cmode = False\n",
      "Number of time points is greater than the number of features\n"
     ]
    },
    {
     "name": "stderr",
     "output_type": "stream",
     "text": [
      "INFO:ridge_corr:Training: alpha=16237.767, mean corr=0.00719, max corr=0.02702, over-under(0.05)=0\n"
     ]
    },
    {
     "name": "stdout",
     "output_type": "stream",
     "text": [
      "Bootstrap 70/100\n"
     ]
    },
    {
     "name": "stderr",
     "output_type": "stream",
     "text": [
      "INFO:ridge_corr:Doing Eigenvalue decomposition...\n"
     ]
    },
    {
     "name": "stdout",
     "output_type": "stream",
     "text": [
      "Cmode = False\n",
      "Number of time points is greater than the number of features\n"
     ]
    },
    {
     "name": "stderr",
     "output_type": "stream",
     "text": [
      "INFO:ridge_corr:Training: alpha=16237.767, mean corr=-0.00124, max corr=0.02238, over-under(0.05)=0\n"
     ]
    },
    {
     "name": "stdout",
     "output_type": "stream",
     "text": [
      "Bootstrap 71/100\n"
     ]
    },
    {
     "name": "stderr",
     "output_type": "stream",
     "text": [
      "INFO:ridge_corr:Doing Eigenvalue decomposition...\n"
     ]
    },
    {
     "name": "stdout",
     "output_type": "stream",
     "text": [
      "Cmode = False\n",
      "Number of time points is greater than the number of features\n"
     ]
    },
    {
     "name": "stderr",
     "output_type": "stream",
     "text": [
      "INFO:ridge_corr:Training: alpha=16237.767, mean corr=0.00469, max corr=0.03622, over-under(0.05)=0\n"
     ]
    },
    {
     "name": "stdout",
     "output_type": "stream",
     "text": [
      "Bootstrap 72/100\n"
     ]
    },
    {
     "name": "stderr",
     "output_type": "stream",
     "text": [
      "INFO:ridge_corr:Doing Eigenvalue decomposition...\n"
     ]
    },
    {
     "name": "stdout",
     "output_type": "stream",
     "text": [
      "Cmode = False\n",
      "Number of time points is greater than the number of features\n"
     ]
    },
    {
     "name": "stderr",
     "output_type": "stream",
     "text": [
      "INFO:ridge_corr:Training: alpha=16237.767, mean corr=0.00101, max corr=0.02271, over-under(0.05)=0\n"
     ]
    },
    {
     "name": "stdout",
     "output_type": "stream",
     "text": [
      "Bootstrap 73/100\n"
     ]
    },
    {
     "name": "stderr",
     "output_type": "stream",
     "text": [
      "INFO:ridge_corr:Doing Eigenvalue decomposition...\n"
     ]
    },
    {
     "name": "stdout",
     "output_type": "stream",
     "text": [
      "Cmode = False\n",
      "Number of time points is greater than the number of features\n"
     ]
    },
    {
     "name": "stderr",
     "output_type": "stream",
     "text": [
      "INFO:ridge_corr:Training: alpha=16237.767, mean corr=0.00042, max corr=0.02958, over-under(0.05)=0\n"
     ]
    },
    {
     "name": "stdout",
     "output_type": "stream",
     "text": [
      "Bootstrap 74/100\n"
     ]
    },
    {
     "name": "stderr",
     "output_type": "stream",
     "text": [
      "INFO:ridge_corr:Doing Eigenvalue decomposition...\n"
     ]
    },
    {
     "name": "stdout",
     "output_type": "stream",
     "text": [
      "Cmode = False\n",
      "Number of time points is greater than the number of features\n"
     ]
    },
    {
     "name": "stderr",
     "output_type": "stream",
     "text": [
      "INFO:ridge_corr:Training: alpha=16237.767, mean corr=0.00543, max corr=0.03469, over-under(0.05)=0\n"
     ]
    },
    {
     "name": "stdout",
     "output_type": "stream",
     "text": [
      "Bootstrap 75/100\n"
     ]
    },
    {
     "name": "stderr",
     "output_type": "stream",
     "text": [
      "INFO:ridge_corr:Doing Eigenvalue decomposition...\n"
     ]
    },
    {
     "name": "stdout",
     "output_type": "stream",
     "text": [
      "Cmode = False\n",
      "Number of time points is greater than the number of features\n"
     ]
    },
    {
     "name": "stderr",
     "output_type": "stream",
     "text": [
      "INFO:ridge_corr:Training: alpha=16237.767, mean corr=0.00276, max corr=0.03405, over-under(0.05)=0\n"
     ]
    },
    {
     "name": "stdout",
     "output_type": "stream",
     "text": [
      "Bootstrap 76/100\n"
     ]
    },
    {
     "name": "stderr",
     "output_type": "stream",
     "text": [
      "INFO:ridge_corr:Doing Eigenvalue decomposition...\n"
     ]
    },
    {
     "name": "stdout",
     "output_type": "stream",
     "text": [
      "Cmode = False\n",
      "Number of time points is greater than the number of features\n"
     ]
    },
    {
     "name": "stderr",
     "output_type": "stream",
     "text": [
      "INFO:ridge_corr:Training: alpha=16237.767, mean corr=0.00640, max corr=0.02699, over-under(0.05)=0\n"
     ]
    },
    {
     "name": "stdout",
     "output_type": "stream",
     "text": [
      "Bootstrap 77/100\n"
     ]
    },
    {
     "name": "stderr",
     "output_type": "stream",
     "text": [
      "INFO:ridge_corr:Doing Eigenvalue decomposition...\n"
     ]
    },
    {
     "name": "stdout",
     "output_type": "stream",
     "text": [
      "Cmode = False\n",
      "Number of time points is greater than the number of features\n"
     ]
    },
    {
     "name": "stderr",
     "output_type": "stream",
     "text": [
      "INFO:ridge_corr:Training: alpha=16237.767, mean corr=-0.00551, max corr=0.01507, over-under(0.05)=0\n"
     ]
    },
    {
     "name": "stdout",
     "output_type": "stream",
     "text": [
      "Bootstrap 78/100\n"
     ]
    },
    {
     "name": "stderr",
     "output_type": "stream",
     "text": [
      "INFO:ridge_corr:Doing Eigenvalue decomposition...\n"
     ]
    },
    {
     "name": "stdout",
     "output_type": "stream",
     "text": [
      "Cmode = False\n",
      "Number of time points is greater than the number of features\n"
     ]
    },
    {
     "name": "stderr",
     "output_type": "stream",
     "text": [
      "INFO:ridge_corr:Training: alpha=16237.767, mean corr=-0.00057, max corr=0.02242, over-under(0.05)=0\n"
     ]
    },
    {
     "name": "stdout",
     "output_type": "stream",
     "text": [
      "Bootstrap 79/100\n"
     ]
    },
    {
     "name": "stderr",
     "output_type": "stream",
     "text": [
      "INFO:ridge_corr:Doing Eigenvalue decomposition...\n"
     ]
    },
    {
     "name": "stdout",
     "output_type": "stream",
     "text": [
      "Cmode = False\n",
      "Number of time points is greater than the number of features\n"
     ]
    },
    {
     "name": "stderr",
     "output_type": "stream",
     "text": [
      "INFO:ridge_corr:Training: alpha=16237.767, mean corr=-0.00570, max corr=0.00736, over-under(0.05)=0\n"
     ]
    },
    {
     "name": "stdout",
     "output_type": "stream",
     "text": [
      "Bootstrap 80/100\n"
     ]
    },
    {
     "name": "stderr",
     "output_type": "stream",
     "text": [
      "INFO:ridge_corr:Doing Eigenvalue decomposition...\n"
     ]
    },
    {
     "name": "stdout",
     "output_type": "stream",
     "text": [
      "Cmode = False\n",
      "Number of time points is greater than the number of features\n"
     ]
    },
    {
     "name": "stderr",
     "output_type": "stream",
     "text": [
      "INFO:ridge_corr:Training: alpha=16237.767, mean corr=0.00210, max corr=0.04082, over-under(0.05)=0\n"
     ]
    },
    {
     "name": "stdout",
     "output_type": "stream",
     "text": [
      "Bootstrap 81/100\n"
     ]
    },
    {
     "name": "stderr",
     "output_type": "stream",
     "text": [
      "INFO:ridge_corr:Doing Eigenvalue decomposition...\n"
     ]
    },
    {
     "name": "stdout",
     "output_type": "stream",
     "text": [
      "Cmode = False\n",
      "Number of time points is greater than the number of features\n"
     ]
    },
    {
     "name": "stderr",
     "output_type": "stream",
     "text": [
      "INFO:ridge_corr:Training: alpha=16237.767, mean corr=-0.00018, max corr=0.02039, over-under(0.05)=0\n"
     ]
    },
    {
     "name": "stdout",
     "output_type": "stream",
     "text": [
      "Bootstrap 82/100\n"
     ]
    },
    {
     "name": "stderr",
     "output_type": "stream",
     "text": [
      "INFO:ridge_corr:Doing Eigenvalue decomposition...\n"
     ]
    },
    {
     "name": "stdout",
     "output_type": "stream",
     "text": [
      "Cmode = False\n",
      "Number of time points is greater than the number of features\n"
     ]
    },
    {
     "name": "stderr",
     "output_type": "stream",
     "text": [
      "INFO:ridge_corr:Training: alpha=16237.767, mean corr=0.00178, max corr=0.02583, over-under(0.05)=0\n"
     ]
    },
    {
     "name": "stdout",
     "output_type": "stream",
     "text": [
      "Bootstrap 83/100\n"
     ]
    },
    {
     "name": "stderr",
     "output_type": "stream",
     "text": [
      "INFO:ridge_corr:Doing Eigenvalue decomposition...\n"
     ]
    },
    {
     "name": "stdout",
     "output_type": "stream",
     "text": [
      "Cmode = False\n",
      "Number of time points is greater than the number of features\n"
     ]
    },
    {
     "name": "stderr",
     "output_type": "stream",
     "text": [
      "INFO:ridge_corr:Training: alpha=16237.767, mean corr=0.00483, max corr=0.02131, over-under(0.05)=0\n"
     ]
    },
    {
     "name": "stdout",
     "output_type": "stream",
     "text": [
      "Bootstrap 84/100\n"
     ]
    },
    {
     "name": "stderr",
     "output_type": "stream",
     "text": [
      "INFO:ridge_corr:Doing Eigenvalue decomposition...\n"
     ]
    },
    {
     "name": "stdout",
     "output_type": "stream",
     "text": [
      "Cmode = False\n",
      "Number of time points is greater than the number of features\n"
     ]
    },
    {
     "name": "stderr",
     "output_type": "stream",
     "text": [
      "INFO:ridge_corr:Training: alpha=16237.767, mean corr=0.00173, max corr=0.02842, over-under(0.05)=0\n"
     ]
    },
    {
     "name": "stdout",
     "output_type": "stream",
     "text": [
      "Bootstrap 85/100\n"
     ]
    },
    {
     "name": "stderr",
     "output_type": "stream",
     "text": [
      "INFO:ridge_corr:Doing Eigenvalue decomposition...\n"
     ]
    },
    {
     "name": "stdout",
     "output_type": "stream",
     "text": [
      "Cmode = False\n",
      "Number of time points is greater than the number of features\n"
     ]
    },
    {
     "name": "stderr",
     "output_type": "stream",
     "text": [
      "INFO:ridge_corr:Training: alpha=16237.767, mean corr=-0.00644, max corr=0.02498, over-under(0.05)=0\n"
     ]
    },
    {
     "name": "stdout",
     "output_type": "stream",
     "text": [
      "Bootstrap 86/100\n"
     ]
    },
    {
     "name": "stderr",
     "output_type": "stream",
     "text": [
      "INFO:ridge_corr:Doing Eigenvalue decomposition...\n"
     ]
    },
    {
     "name": "stdout",
     "output_type": "stream",
     "text": [
      "Cmode = False\n",
      "Number of time points is greater than the number of features\n"
     ]
    },
    {
     "name": "stderr",
     "output_type": "stream",
     "text": [
      "INFO:ridge_corr:Training: alpha=16237.767, mean corr=0.00843, max corr=0.03423, over-under(0.05)=0\n"
     ]
    },
    {
     "name": "stdout",
     "output_type": "stream",
     "text": [
      "Bootstrap 87/100\n"
     ]
    },
    {
     "name": "stderr",
     "output_type": "stream",
     "text": [
      "INFO:ridge_corr:Doing Eigenvalue decomposition...\n"
     ]
    },
    {
     "name": "stdout",
     "output_type": "stream",
     "text": [
      "Cmode = False\n",
      "Number of time points is greater than the number of features\n"
     ]
    },
    {
     "name": "stderr",
     "output_type": "stream",
     "text": [
      "INFO:ridge_corr:Training: alpha=16237.767, mean corr=0.00144, max corr=0.02593, over-under(0.05)=0\n"
     ]
    },
    {
     "name": "stdout",
     "output_type": "stream",
     "text": [
      "Bootstrap 88/100\n"
     ]
    },
    {
     "name": "stderr",
     "output_type": "stream",
     "text": [
      "INFO:ridge_corr:Doing Eigenvalue decomposition...\n"
     ]
    },
    {
     "name": "stdout",
     "output_type": "stream",
     "text": [
      "Cmode = False\n",
      "Number of time points is greater than the number of features\n"
     ]
    },
    {
     "name": "stderr",
     "output_type": "stream",
     "text": [
      "INFO:ridge_corr:Training: alpha=16237.767, mean corr=-0.00367, max corr=0.03345, over-under(0.05)=0\n"
     ]
    },
    {
     "name": "stdout",
     "output_type": "stream",
     "text": [
      "Bootstrap 89/100\n"
     ]
    },
    {
     "name": "stderr",
     "output_type": "stream",
     "text": [
      "INFO:ridge_corr:Doing Eigenvalue decomposition...\n"
     ]
    },
    {
     "name": "stdout",
     "output_type": "stream",
     "text": [
      "Cmode = False\n",
      "Number of time points is greater than the number of features\n"
     ]
    },
    {
     "name": "stderr",
     "output_type": "stream",
     "text": [
      "INFO:ridge_corr:Training: alpha=16237.767, mean corr=0.00047, max corr=0.01809, over-under(0.05)=0\n"
     ]
    },
    {
     "name": "stdout",
     "output_type": "stream",
     "text": [
      "Bootstrap 90/100\n"
     ]
    },
    {
     "name": "stderr",
     "output_type": "stream",
     "text": [
      "INFO:ridge_corr:Doing Eigenvalue decomposition...\n"
     ]
    },
    {
     "name": "stdout",
     "output_type": "stream",
     "text": [
      "Cmode = False\n",
      "Number of time points is greater than the number of features\n"
     ]
    },
    {
     "name": "stderr",
     "output_type": "stream",
     "text": [
      "INFO:ridge_corr:Training: alpha=16237.767, mean corr=0.00013, max corr=0.02579, over-under(0.05)=0\n"
     ]
    },
    {
     "name": "stdout",
     "output_type": "stream",
     "text": [
      "Bootstrap 91/100\n"
     ]
    },
    {
     "name": "stderr",
     "output_type": "stream",
     "text": [
      "INFO:ridge_corr:Doing Eigenvalue decomposition...\n"
     ]
    },
    {
     "name": "stdout",
     "output_type": "stream",
     "text": [
      "Cmode = False\n",
      "Number of time points is greater than the number of features\n"
     ]
    },
    {
     "name": "stderr",
     "output_type": "stream",
     "text": [
      "INFO:ridge_corr:Training: alpha=16237.767, mean corr=-0.00175, max corr=0.03723, over-under(0.05)=0\n"
     ]
    },
    {
     "name": "stdout",
     "output_type": "stream",
     "text": [
      "Bootstrap 92/100\n"
     ]
    },
    {
     "name": "stderr",
     "output_type": "stream",
     "text": [
      "INFO:ridge_corr:Doing Eigenvalue decomposition...\n"
     ]
    },
    {
     "name": "stdout",
     "output_type": "stream",
     "text": [
      "Cmode = False\n",
      "Number of time points is greater than the number of features\n"
     ]
    },
    {
     "name": "stderr",
     "output_type": "stream",
     "text": [
      "INFO:ridge_corr:Training: alpha=16237.767, mean corr=0.00612, max corr=0.02387, over-under(0.05)=0\n"
     ]
    },
    {
     "name": "stdout",
     "output_type": "stream",
     "text": [
      "Bootstrap 93/100\n"
     ]
    },
    {
     "name": "stderr",
     "output_type": "stream",
     "text": [
      "INFO:ridge_corr:Doing Eigenvalue decomposition...\n"
     ]
    },
    {
     "name": "stdout",
     "output_type": "stream",
     "text": [
      "Cmode = False\n",
      "Number of time points is greater than the number of features\n"
     ]
    },
    {
     "name": "stderr",
     "output_type": "stream",
     "text": [
      "INFO:ridge_corr:Training: alpha=16237.767, mean corr=0.00302, max corr=0.02304, over-under(0.05)=0\n"
     ]
    },
    {
     "name": "stdout",
     "output_type": "stream",
     "text": [
      "Bootstrap 94/100\n"
     ]
    },
    {
     "name": "stderr",
     "output_type": "stream",
     "text": [
      "INFO:ridge_corr:Doing Eigenvalue decomposition...\n"
     ]
    },
    {
     "name": "stdout",
     "output_type": "stream",
     "text": [
      "Cmode = False\n",
      "Number of time points is greater than the number of features\n"
     ]
    },
    {
     "name": "stderr",
     "output_type": "stream",
     "text": [
      "INFO:ridge_corr:Training: alpha=16237.767, mean corr=-0.00326, max corr=0.01067, over-under(0.05)=0\n"
     ]
    },
    {
     "name": "stdout",
     "output_type": "stream",
     "text": [
      "Bootstrap 95/100\n"
     ]
    },
    {
     "name": "stderr",
     "output_type": "stream",
     "text": [
      "INFO:ridge_corr:Doing Eigenvalue decomposition...\n"
     ]
    },
    {
     "name": "stdout",
     "output_type": "stream",
     "text": [
      "Cmode = False\n",
      "Number of time points is greater than the number of features\n"
     ]
    },
    {
     "name": "stderr",
     "output_type": "stream",
     "text": [
      "INFO:ridge_corr:Training: alpha=16237.767, mean corr=0.00731, max corr=0.03198, over-under(0.05)=0\n"
     ]
    },
    {
     "name": "stdout",
     "output_type": "stream",
     "text": [
      "Bootstrap 96/100\n"
     ]
    },
    {
     "name": "stderr",
     "output_type": "stream",
     "text": [
      "INFO:ridge_corr:Doing Eigenvalue decomposition...\n"
     ]
    },
    {
     "name": "stdout",
     "output_type": "stream",
     "text": [
      "Cmode = False\n",
      "Number of time points is greater than the number of features\n"
     ]
    },
    {
     "name": "stderr",
     "output_type": "stream",
     "text": [
      "INFO:ridge_corr:Training: alpha=16237.767, mean corr=-0.00036, max corr=0.02166, over-under(0.05)=0\n"
     ]
    },
    {
     "name": "stdout",
     "output_type": "stream",
     "text": [
      "Bootstrap 97/100\n"
     ]
    },
    {
     "name": "stderr",
     "output_type": "stream",
     "text": [
      "INFO:ridge_corr:Doing Eigenvalue decomposition...\n"
     ]
    },
    {
     "name": "stdout",
     "output_type": "stream",
     "text": [
      "Cmode = False\n",
      "Number of time points is greater than the number of features\n"
     ]
    },
    {
     "name": "stderr",
     "output_type": "stream",
     "text": [
      "INFO:ridge_corr:Training: alpha=16237.767, mean corr=0.00740, max corr=0.03719, over-under(0.05)=0\n"
     ]
    },
    {
     "name": "stdout",
     "output_type": "stream",
     "text": [
      "Bootstrap 98/100\n"
     ]
    },
    {
     "name": "stderr",
     "output_type": "stream",
     "text": [
      "INFO:ridge_corr:Doing Eigenvalue decomposition...\n"
     ]
    },
    {
     "name": "stdout",
     "output_type": "stream",
     "text": [
      "Cmode = False\n",
      "Number of time points is greater than the number of features\n"
     ]
    },
    {
     "name": "stderr",
     "output_type": "stream",
     "text": [
      "INFO:ridge_corr:Training: alpha=16237.767, mean corr=0.00611, max corr=0.03211, over-under(0.05)=0\n"
     ]
    },
    {
     "name": "stdout",
     "output_type": "stream",
     "text": [
      "Bootstrap 99/100\n"
     ]
    },
    {
     "name": "stderr",
     "output_type": "stream",
     "text": [
      "INFO:ridge_corr:Doing Eigenvalue decomposition...\n"
     ]
    },
    {
     "name": "stdout",
     "output_type": "stream",
     "text": [
      "Cmode = False\n",
      "Number of time points is greater than the number of features\n"
     ]
    },
    {
     "name": "stderr",
     "output_type": "stream",
     "text": [
      "INFO:ridge_corr:Training: alpha=16237.767, mean corr=0.00075, max corr=0.02116, over-under(0.05)=0\n"
     ]
    },
    {
     "name": "stdout",
     "output_type": "stream",
     "text": [
      "Bootstrap 100/100\n"
     ]
    },
    {
     "name": "stderr",
     "output_type": "stream",
     "text": [
      "INFO:ridge_corr:Doing Eigenvalue decomposition...\n"
     ]
    },
    {
     "name": "stdout",
     "output_type": "stream",
     "text": [
      "Cmode = False\n",
      "Number of time points is greater than the number of features\n"
     ]
    },
    {
     "name": "stderr",
     "output_type": "stream",
     "text": [
      "INFO:ridge_corr:Training: alpha=16237.767, mean corr=-0.00340, max corr=0.01570, over-under(0.05)=0\n"
     ]
    },
    {
     "name": "stdout",
     "output_type": "stream",
     "text": [
      "(100, 64)\n",
      "Opening raw data file /Users/maansidesai/Box/MovieTrailersTask/Data/EEG/Participants//MT0028/downsampled_128/MT0028_B1_postICA_rejected.fif...\n"
     ]
    },
    {
     "name": "stderr",
     "output_type": "stream",
     "text": [
      "/Users/maansidesai/Desktop/git/audiovisual_trailers/analysis/mTRF.py:47: RuntimeWarning: This filename (/Users/maansidesai/Box/MovieTrailersTask/Data/EEG/Participants//MT0028/downsampled_128/MT0028_B1_postICA_rejected.fif) does not conform to MNE naming conventions. All raw files should end with raw.fif, raw_sss.fif, raw_tsss.fif, _meg.fif, _eeg.fif, _ieeg.fif, raw.fif.gz, raw_sss.fif.gz, raw_tsss.fif.gz, _meg.fif.gz, _eeg.fif.gz or _ieeg.fif.gz\n",
      "  raw = mne.io.read_raw_fif(eeg_file, preload=True)\n"
     ]
    },
    {
     "name": "stdout",
     "output_type": "stream",
     "text": [
      "    Range : 0 ... 448690 =      0.000 ...  3505.391 secs\n",
      "Ready.\n",
      "Reading 0 ... 448690  =      0.000 ...  3505.391 secs...\n"
     ]
    },
    {
     "name": "stderr",
     "output_type": "stream",
     "text": [
      "DEBUG:matplotlib.font_manager:findfont: Matching sans\\-serif:style=normal:variant=normal:weight=normal:stretch=normal:size=10.0.\n",
      "DEBUG:matplotlib.font_manager:findfont: score(<Font 'STIXSizeThreeSym' (STIXSizThreeSymReg.ttf) normal normal 400 normal>) = 10.05\n",
      "DEBUG:matplotlib.font_manager:findfont: score(<Font 'cmb10' (cmb10.ttf) normal normal 400 normal>) = 10.05\n",
      "DEBUG:matplotlib.font_manager:findfont: score(<Font 'cmr10' (cmr10.ttf) normal normal 400 normal>) = 10.05\n",
      "DEBUG:matplotlib.font_manager:findfont: score(<Font 'DejaVu Sans Mono' (DejaVuSansMono.ttf) normal normal 400 normal>) = 10.05\n",
      "DEBUG:matplotlib.font_manager:findfont: score(<Font 'DejaVu Sans Mono' (DejaVuSansMono-Bold.ttf) normal normal 700 normal>) = 10.335\n",
      "DEBUG:matplotlib.font_manager:findfont: score(<Font 'STIXGeneral' (STIXGeneralBol.ttf) normal normal 700 normal>) = 10.335\n",
      "DEBUG:matplotlib.font_manager:findfont: score(<Font 'DejaVu Serif' (DejaVuSerif-Bold.ttf) normal normal 700 normal>) = 10.335\n",
      "DEBUG:matplotlib.font_manager:findfont: score(<Font 'STIXNonUnicode' (STIXNonUni.ttf) normal normal 400 normal>) = 10.05\n",
      "DEBUG:matplotlib.font_manager:findfont: score(<Font 'DejaVu Sans Display' (DejaVuSansDisplay.ttf) normal normal 400 normal>) = 10.05\n",
      "DEBUG:matplotlib.font_manager:findfont: score(<Font 'cmtt10' (cmtt10.ttf) normal normal 400 normal>) = 10.05\n",
      "DEBUG:matplotlib.font_manager:findfont: score(<Font 'STIXSizeOneSym' (STIXSizOneSymReg.ttf) normal normal 400 normal>) = 10.05\n",
      "DEBUG:matplotlib.font_manager:findfont: score(<Font 'DejaVu Sans Mono' (DejaVuSansMono-Oblique.ttf) oblique normal 400 normal>) = 11.05\n",
      "DEBUG:matplotlib.font_manager:findfont: score(<Font 'STIXSizeTwoSym' (STIXSizTwoSymReg.ttf) normal normal 400 normal>) = 10.05\n",
      "DEBUG:matplotlib.font_manager:findfont: score(<Font 'cmsy10' (cmsy10.ttf) normal normal 400 normal>) = 10.05\n",
      "DEBUG:matplotlib.font_manager:findfont: score(<Font 'STIXNonUnicode' (STIXNonUniBolIta.ttf) italic normal 700 normal>) = 11.335\n",
      "DEBUG:matplotlib.font_manager:findfont: score(<Font 'STIXSizeOneSym' (STIXSizOneSymBol.ttf) normal normal 700 normal>) = 10.335\n",
      "DEBUG:matplotlib.font_manager:findfont: score(<Font 'STIXSizeFourSym' (STIXSizFourSymReg.ttf) normal normal 400 normal>) = 10.05\n",
      "DEBUG:matplotlib.font_manager:findfont: score(<Font 'DejaVu Serif' (DejaVuSerif-BoldItalic.ttf) italic normal 700 normal>) = 11.335\n",
      "DEBUG:matplotlib.font_manager:findfont: score(<Font 'STIXSizeTwoSym' (STIXSizTwoSymBol.ttf) normal normal 700 normal>) = 10.335\n",
      "DEBUG:matplotlib.font_manager:findfont: score(<Font 'cmex10' (cmex10.ttf) normal normal 400 normal>) = 10.05\n",
      "DEBUG:matplotlib.font_manager:findfont: score(<Font 'STIXGeneral' (STIXGeneralItalic.ttf) italic normal 400 normal>) = 11.05\n",
      "DEBUG:matplotlib.font_manager:findfont: score(<Font 'STIXNonUnicode' (STIXNonUniBol.ttf) normal normal 700 normal>) = 10.335\n",
      "DEBUG:matplotlib.font_manager:findfont: score(<Font 'DejaVu Serif' (DejaVuSerif-Italic.ttf) italic normal 400 normal>) = 11.05\n",
      "DEBUG:matplotlib.font_manager:findfont: score(<Font 'DejaVu Sans Mono' (DejaVuSansMono-BoldOblique.ttf) oblique normal 700 normal>) = 11.335\n",
      "DEBUG:matplotlib.font_manager:findfont: score(<Font 'cmss10' (cmss10.ttf) normal normal 400 normal>) = 10.05\n",
      "DEBUG:matplotlib.font_manager:findfont: score(<Font 'STIXSizeThreeSym' (STIXSizThreeSymBol.ttf) normal normal 700 normal>) = 10.335\n",
      "DEBUG:matplotlib.font_manager:findfont: score(<Font 'DejaVu Sans' (DejaVuSans-Oblique.ttf) oblique normal 400 normal>) = 1.05\n",
      "DEBUG:matplotlib.font_manager:findfont: score(<Font 'STIXSizeFiveSym' (STIXSizFiveSymReg.ttf) normal normal 400 normal>) = 10.05\n",
      "DEBUG:matplotlib.font_manager:findfont: score(<Font 'DejaVu Sans' (DejaVuSans.ttf) normal normal 400 normal>) = 0.05\n",
      "DEBUG:matplotlib.font_manager:findfont: score(<Font 'DejaVu Sans' (DejaVuSans-BoldOblique.ttf) oblique normal 700 normal>) = 1.335\n",
      "DEBUG:matplotlib.font_manager:findfont: score(<Font 'STIXSizeFourSym' (STIXSizFourSymBol.ttf) normal normal 700 normal>) = 10.335\n",
      "DEBUG:matplotlib.font_manager:findfont: score(<Font 'DejaVu Serif' (DejaVuSerif.ttf) normal normal 400 normal>) = 10.05\n",
      "DEBUG:matplotlib.font_manager:findfont: score(<Font 'STIXGeneral' (STIXGeneral.ttf) normal normal 400 normal>) = 10.05\n",
      "DEBUG:matplotlib.font_manager:findfont: score(<Font 'cmmi10' (cmmi10.ttf) normal normal 400 normal>) = 10.05\n",
      "DEBUG:matplotlib.font_manager:findfont: score(<Font 'DejaVu Serif Display' (DejaVuSerifDisplay.ttf) normal normal 400 normal>) = 10.05\n",
      "DEBUG:matplotlib.font_manager:findfont: score(<Font 'STIXNonUnicode' (STIXNonUniIta.ttf) italic normal 400 normal>) = 11.05\n",
      "DEBUG:matplotlib.font_manager:findfont: score(<Font 'STIXGeneral' (STIXGeneralBolIta.ttf) italic normal 700 normal>) = 11.335\n",
      "DEBUG:matplotlib.font_manager:findfont: score(<Font 'DejaVu Sans' (DejaVuSans-Bold.ttf) normal normal 700 normal>) = 0.33499999999999996\n",
      "DEBUG:matplotlib.font_manager:findfont: score(<Font 'Luxi Sans' (luxisbi.ttf) oblique normal 700 normal>) = 11.335\n",
      "DEBUG:matplotlib.font_manager:findfont: score(<Font 'STIXSizeThreeSym' (STIXSizThreeSymBol.otf) normal normal 700 normal>) = 10.335\n",
      "DEBUG:matplotlib.font_manager:findfont: score(<Font 'Courier New' (Courier New.ttf) normal normal 400 normal>) = 10.05\n",
      "DEBUG:matplotlib.font_manager:findfont: score(<Font 'Noto Sans Miao' (NotoSansMiao-Regular.ttf) normal normal 400 normal>) = 10.05\n",
      "DEBUG:matplotlib.font_manager:findfont: score(<Font 'Heiti TC' (STHeiti Light.ttc) normal normal 300 normal>) = 10.145\n",
      "DEBUG:matplotlib.font_manager:findfont: score(<Font 'Nadeem' (Nadeem.ttc) normal normal 400 normal>) = 10.05\n",
      "DEBUG:matplotlib.font_manager:findfont: score(<Font 'Noto Sans Old South Arabian' (NotoSansOldSouthArabian-Regular.ttf) normal normal 400 normal>) = 10.05\n",
      "DEBUG:matplotlib.font_manager:findfont: score(<Font 'Trebuchet MS' (Trebuchet MS.ttf) normal normal 400 normal>) = 10.05\n",
      "DEBUG:matplotlib.font_manager:findfont: score(<Font 'Bodoni 72 Oldstyle' (Bodoni 72 OS.ttc) normal normal 400 normal>) = 10.05\n",
      "DEBUG:matplotlib.font_manager:findfont: score(<Font 'Telugu MN' (Telugu MN.ttc) normal normal 400 normal>) = 10.05\n",
      "DEBUG:matplotlib.font_manager:findfont: score(<Font 'Noto Sans Javanese' (NotoSansJavanese-Regular.otf) normal normal 400 normal>) = 10.05\n",
      "DEBUG:matplotlib.font_manager:findfont: score(<Font 'Noto Serif Ahom' (NotoSerifAhom-Regular.ttf) normal normal 400 normal>) = 10.05\n",
      "DEBUG:matplotlib.font_manager:findfont: score(<Font 'Comic Sans MS' (Comic Sans MS.ttf) normal normal 400 normal>) = 10.05\n",
      "DEBUG:matplotlib.font_manager:findfont: score(<Font 'Noto Sans Yi' (NotoSansYi-Regular.ttf) normal normal 400 normal>) = 10.05\n",
      "DEBUG:matplotlib.font_manager:findfont: score(<Font 'STIXVariants' (STIXVarBol.otf) normal normal 700 normal>) = 10.335\n",
      "DEBUG:matplotlib.font_manager:findfont: score(<Font 'Apple SD Gothic Neo' (AppleSDGothicNeo.ttc) normal normal 400 normal>) = 10.05\n",
      "DEBUG:matplotlib.font_manager:findfont: score(<Font 'Apple Symbols' (Apple Symbols.ttf) normal normal 400 normal>) = 10.05\n",
      "DEBUG:matplotlib.font_manager:findfont: score(<Font 'Chalkduster' (Chalkduster.ttf) normal normal 400 normal>) = 10.05\n",
      "DEBUG:matplotlib.font_manager:findfont: score(<Font 'STIXSizeFourSym' (STIXSizFourSymReg.otf) normal normal 400 normal>) = 10.05\n",
      "DEBUG:matplotlib.font_manager:findfont: score(<Font 'Kohinoor Telugu' (KohinoorTelugu.ttc) normal normal 400 normal>) = 10.05\n",
      "DEBUG:matplotlib.font_manager:findfont: score(<Font 'Raanana' (Raanana.ttc) normal normal 400 normal>) = 10.05\n",
      "DEBUG:matplotlib.font_manager:findfont: score(<Font 'Noto Sans Mende Kikakui' (NotoSansMendeKikakui-Regular.ttf) normal normal 400 normal>) = 10.05\n",
      "DEBUG:matplotlib.font_manager:findfont: score(<Font 'Farah' (Farah.ttc) normal normal 400 normal>) = 10.05\n",
      "DEBUG:matplotlib.font_manager:findfont: score(<Font 'STIXIntegralsUp' (STIXIntUpReg.otf) normal normal 400 normal>) = 10.05\n",
      "DEBUG:matplotlib.font_manager:findfont: score(<Font 'Noto Sans Old North Arabian' (NotoSansOldNorthArabian-Regular.ttf) normal normal 400 normal>) = 10.05\n",
      "DEBUG:matplotlib.font_manager:findfont: score(<Font 'Gurmukhi Sangam MN' (Gurmukhi Sangam MN.ttc) normal normal 400 normal>) = 10.05\n",
      "DEBUG:matplotlib.font_manager:findfont: score(<Font 'Noto Sans Meroitic' (NotoSansMeroitic-Regular.ttf) normal normal 400 normal>) = 10.05\n",
      "DEBUG:matplotlib.font_manager:findfont: score(<Font 'Verdana' (Verdana Bold Italic.ttf) italic normal 700 normal>) = 4.971363636363637\n",
      "DEBUG:matplotlib.font_manager:findfont: score(<Font 'Noto Nastaliq Urdu' (NotoNastaliq.ttc) normal normal 400 normal>) = 10.05\n",
      "DEBUG:matplotlib.font_manager:findfont: score(<Font 'Hiragino Sans' (ヒラギノ角ゴシック W6.ttc) normal normal 600 normal>) = 10.24\n",
      "DEBUG:matplotlib.font_manager:findfont: score(<Font '.SF Compact Rounded' (SFCompactRounded.ttf) normal normal 400 normal>) = 10.05\n",
      "DEBUG:matplotlib.font_manager:findfont: score(<Font 'Noto Sans Shavian' (NotoSansShavian-Regular.ttf) normal normal 400 normal>) = 10.05\n",
      "DEBUG:matplotlib.font_manager:findfont: score(<Font 'Noto Sans Takri' (NotoSansTakri-Regular.ttf) normal normal 400 normal>) = 10.05\n",
      "DEBUG:matplotlib.font_manager:findfont: score(<Font '.New York' (NewYork.ttf) normal normal 400 normal>) = 10.05\n",
      "DEBUG:matplotlib.font_manager:findfont: score(<Font 'Noto Sans Hatran' (NotoSansHatran-Regular.ttf) normal normal 400 normal>) = 10.05\n",
      "DEBUG:matplotlib.font_manager:findfont: score(<Font 'Times' (Times.ttc) normal normal 400 normal>) = 10.05\n",
      "DEBUG:matplotlib.font_manager:findfont: score(<Font 'Superclarendon' (SuperClarendon.ttc) normal normal 400 normal>) = 10.05\n",
      "DEBUG:matplotlib.font_manager:findfont: score(<Font 'Farisi' (Farisi.ttf) normal normal 400 normal>) = 10.05\n",
      "DEBUG:matplotlib.font_manager:findfont: score(<Font 'PT Sans' (PTSans.ttc) normal normal 400 normal>) = 10.05\n",
      "DEBUG:matplotlib.font_manager:findfont: score(<Font 'Sukhumvit Set' (SukhumvitSet.ttc) normal normal 250 normal>) = 10.1925\n",
      "DEBUG:matplotlib.font_manager:findfont: score(<Font 'Bodoni 72' (Bodoni 72.ttc) normal normal 400 normal>) = 10.05\n",
      "DEBUG:matplotlib.font_manager:findfont: score(<Font 'Serto Batnan' (SyrCOMBatnanBold.otf) normal normal 700 normal>) = 10.335\n",
      "DEBUG:matplotlib.font_manager:findfont: score(<Font 'Noto Sans Warang Citi' (NotoSansWarangCiti-Regular.ttf) normal normal 400 normal>) = 10.05\n",
      "DEBUG:matplotlib.font_manager:findfont: score(<Font 'Noto Sans Tai Viet' (NotoSansTaiViet-Regular.ttf) normal normal 400 normal>) = 10.05\n",
      "DEBUG:matplotlib.font_manager:findfont: score(<Font 'Microsoft Sans Serif' (Microsoft Sans Serif.ttf) normal normal 400 normal>) = 10.05\n",
      "DEBUG:matplotlib.font_manager:findfont: score(<Font 'Luxi Serif' (luxirbi.ttf) oblique normal 700 normal>) = 11.335\n",
      "DEBUG:matplotlib.font_manager:findfont: score(<Font 'Verdana' (Verdana.ttf) normal normal 400 normal>) = 3.6863636363636365\n",
      "DEBUG:matplotlib.font_manager:findfont: score(<Font 'Noto Sans Ogham' (NotoSansOgham-Regular.ttf) normal normal 400 normal>) = 10.05\n",
      "DEBUG:matplotlib.font_manager:findfont: score(<Font 'Zapfino' (Zapfino.ttf) normal normal 400 normal>) = 10.05\n",
      "DEBUG:matplotlib.font_manager:findfont: score(<Font 'Noto Sans Vai' (NotoSansVai-Regular.ttf) normal normal 400 normal>) = 10.05\n",
      "DEBUG:matplotlib.font_manager:findfont: score(<Font 'Noto Sans Duployan' (NotoSansDuployan-Regular.ttf) normal normal 400 normal>) = 10.05\n",
      "DEBUG:matplotlib.font_manager:findfont: score(<Font 'Sathu' (Sathu.ttf) normal normal 400 normal>) = 10.05\n",
      "DEBUG:matplotlib.font_manager:findfont: score(<Font 'Verdana' (Verdana Italic.ttf) italic normal 400 normal>) = 4.6863636363636365\n",
      "DEBUG:matplotlib.font_manager:findfont: score(<Font 'Sana' (Sana.ttc) normal normal 400 normal>) = 10.05\n",
      "DEBUG:matplotlib.font_manager:findfont: score(<Font 'Hoefler Text' (Hoefler Text Ornaments.ttf) normal normal 400 normal>) = 10.05\n",
      "DEBUG:matplotlib.font_manager:findfont: score(<Font 'Songti SC' (Songti.ttc) normal normal 900 normal>) = 10.525\n",
      "DEBUG:matplotlib.font_manager:findfont: score(<Font 'Noto Sans Gothic' (NotoSansGothic-Regular.ttf) normal normal 400 normal>) = 10.05\n",
      "DEBUG:matplotlib.font_manager:findfont: score(<Font 'Arial' (Arial Bold.ttf) normal normal 700 normal>) = 6.698636363636363\n",
      "DEBUG:matplotlib.font_manager:findfont: score(<Font 'Luxi Serif' (luxirri.ttf) oblique normal 400 normal>) = 11.05\n",
      "DEBUG:matplotlib.font_manager:findfont: score(<Font 'STIXGeneral' (STIXGeneral.otf) normal normal 400 normal>) = 10.05\n",
      "DEBUG:matplotlib.font_manager:findfont: score(<Font 'Serto Jerusalem' (SyrCOMJerusalemItalic.otf) italic normal 400 normal>) = 11.05\n",
      "DEBUG:matplotlib.font_manager:findfont: score(<Font 'Noto Sans Khudawadi' (NotoSansKhudawadi-Regular.ttf) normal normal 400 normal>) = 10.05\n",
      "DEBUG:matplotlib.font_manager:findfont: score(<Font 'Bradley Hand' (Bradley Hand Bold.ttf) normal normal 700 normal>) = 10.335\n",
      "DEBUG:matplotlib.font_manager:findfont: score(<Font 'Trebuchet MS' (Trebuchet MS Italic.ttf) italic normal 400 normal>) = 11.05\n",
      "DEBUG:matplotlib.font_manager:findfont: score(<Font 'Noteworthy' (Noteworthy.ttc) normal normal 300 normal>) = 10.145\n",
      "DEBUG:matplotlib.font_manager:findfont: score(<Font 'Athelas' (Athelas.ttc) normal normal 400 normal>) = 10.05\n",
      "DEBUG:matplotlib.font_manager:findfont: score(<Font 'Tamil MN' (Tamil MN.ttc) normal normal 400 normal>) = 10.05\n",
      "DEBUG:matplotlib.font_manager:findfont: score(<Font 'Noto Sans Old Turkic' (NotoSansOldTurkic-Regular.ttf) normal normal 400 normal>) = 10.05\n",
      "DEBUG:matplotlib.font_manager:findfont: score(<Font 'Gurmukhi MT' (Gurmukhi.ttf) normal normal 500 normal>) = 10.145\n",
      "DEBUG:matplotlib.font_manager:findfont: score(<Font 'Noto Sans Newa' (NotoSansNewa-Regular.ttf) normal normal 400 normal>) = 10.05\n",
      "DEBUG:matplotlib.font_manager:findfont: score(<Font 'Hiragino Sans' (ヒラギノ角ゴシック W5.ttc) normal normal 500 normal>) = 10.145\n",
      "DEBUG:matplotlib.font_manager:findfont: score(<Font 'DecoType Naskh' (DecoTypeNaskh.ttc) normal normal 400 normal>) = 10.05\n",
      "DEBUG:matplotlib.font_manager:findfont: score(<Font 'Arial Unicode MS' (Arial Unicode.ttf) normal normal 400 normal>) = 10.05\n",
      "DEBUG:matplotlib.font_manager:findfont: score(<Font 'STIXIntegralsUpD' (STIXIntUpDReg.otf) normal normal 400 normal>) = 10.05\n",
      "DEBUG:matplotlib.font_manager:findfont: score(<Font 'Noto Sans Avestan' (NotoSansAvestan-Regular.ttf) normal normal 400 normal>) = 10.05\n",
      "DEBUG:matplotlib.font_manager:findfont: score(<Font 'Noto Sans Buginese' (NotoSansBuginese-Regular.ttf) normal normal 400 normal>) = 10.05\n",
      "DEBUG:matplotlib.font_manager:findfont: score(<Font 'Luxi Serif' (luxirr.ttf) normal normal 400 normal>) = 10.05\n",
      "DEBUG:matplotlib.font_manager:findfont: score(<Font 'Iowan Old Style' (Iowan Old Style.ttc) normal normal 400 normal>) = 10.05\n",
      "DEBUG:matplotlib.font_manager:findfont: score(<Font 'Serto Jerusalem' (SyrCOMJerusalem.otf) normal normal 400 normal>) = 10.05\n",
      "DEBUG:matplotlib.font_manager:findfont: score(<Font 'Bangla Sangam MN' (Bangla Sangam MN.ttc) normal normal 400 normal>) = 10.05\n",
      "DEBUG:matplotlib.font_manager:findfont: score(<Font 'Noto Sans Imperial Aramaic' (NotoSansImperialAramaic-Regular.ttf) normal normal 400 normal>) = 10.05\n",
      "DEBUG:matplotlib.font_manager:findfont: score(<Font 'Noto Sans Chakma' (NotoSansChakma-Regular.ttf) normal normal 400 normal>) = 10.05\n",
      "DEBUG:matplotlib.font_manager:findfont: score(<Font 'Gurmukhi MN' (Gurmukhi MN.ttc) normal normal 400 normal>) = 10.05\n",
      "DEBUG:matplotlib.font_manager:findfont: score(<Font 'Arial Narrow' (Arial Narrow Bold Italic.ttf) italic normal 700 condensed>) = 11.535\n",
      "DEBUG:matplotlib.font_manager:findfont: score(<Font 'Hiragino Mincho ProN' (ヒラギノ明朝 ProN.ttc) normal normal 300 normal>) = 10.145\n",
      "DEBUG:matplotlib.font_manager:findfont: score(<Font 'Sinhala Sangam MN' (Sinhala Sangam MN.ttc) normal normal 400 normal>) = 10.05\n",
      "DEBUG:matplotlib.font_manager:findfont: score(<Font 'STIXIntegralsUpSm' (STIXIntUpSmReg.otf) normal normal 400 normal>) = 10.05\n",
      "DEBUG:matplotlib.font_manager:findfont: score(<Font 'Arial Narrow' (Arial Narrow.ttf) normal normal 400 condensed>) = 10.25\n",
      "DEBUG:matplotlib.font_manager:findfont: score(<Font 'STIXGeneral' (STIXGeneralBolIta.otf) italic normal 700 normal>) = 11.335\n",
      "DEBUG:matplotlib.font_manager:findfont: score(<Font 'STIXSizeTwoSym' (STIXSizTwoSymBol.otf) normal normal 700 normal>) = 10.335\n",
      "DEBUG:matplotlib.font_manager:findfont: score(<Font 'New Peninim MT' (NewPeninimMT.ttc) normal normal 400 normal>) = 10.05\n",
      "DEBUG:matplotlib.font_manager:findfont: score(<Font 'Noto Sans Modi' (NotoSansModi-Regular.ttf) normal normal 400 normal>) = 10.05\n",
      "DEBUG:matplotlib.font_manager:findfont: score(<Font 'Noto Sans Mandaic' (NotoSansMandaic-Regular.ttf) normal normal 400 normal>) = 10.05\n",
      "DEBUG:matplotlib.font_manager:findfont: score(<Font 'System Font' (SFNSItalic.ttf) italic normal 400 normal>) = 11.05\n",
      "DEBUG:matplotlib.font_manager:findfont: score(<Font 'InaiMathi' (InaiMathi-MN.ttc) normal normal 400 normal>) = 10.05\n",
      "DEBUG:matplotlib.font_manager:findfont: score(<Font 'Verdana' (Verdana Bold.ttf) normal normal 700 normal>) = 3.9713636363636367\n",
      "DEBUG:matplotlib.font_manager:findfont: score(<Font 'Bodoni Ornaments' (Bodoni Ornaments.ttf) normal normal 400 normal>) = 10.05\n",
      "DEBUG:matplotlib.font_manager:findfont: score(<Font 'Academy Engraved LET' (Academy Engraved LET Fonts.ttf) normal normal 400 normal>) = 10.05\n",
      "DEBUG:matplotlib.font_manager:findfont: score(<Font 'Noto Sans PhagsPa' (NotoSansPhagsPa-Regular.ttf) normal normal 400 normal>) = 10.05\n",
      "DEBUG:matplotlib.font_manager:findfont: score(<Font 'Courier New' (Courier New Bold Italic.ttf) italic normal 700 normal>) = 11.335\n",
      "DEBUG:matplotlib.font_manager:findfont: score(<Font 'Futura' (Futura.ttc) normal normal 500 normal>) = 10.145\n",
      "DEBUG:matplotlib.font_manager:findfont: score(<Font 'Marion' (Marion.ttc) normal normal 400 normal>) = 10.05\n",
      "DEBUG:matplotlib.font_manager:findfont: score(<Font 'Noto Sans Egyptian Hieroglyphs' (NotoSansEgyptianHieroglyphs-Regular.ttf) normal normal 400 normal>) = 10.05\n",
      "DEBUG:matplotlib.font_manager:findfont: score(<Font 'Sinhala MN' (Sinhala MN.ttc) normal normal 400 normal>) = 10.05\n",
      "DEBUG:matplotlib.font_manager:findfont: score(<Font 'Myanmar MN' (Myanmar MN.ttc) normal normal 400 normal>) = 10.05\n",
      "DEBUG:matplotlib.font_manager:findfont: score(<Font 'Hiragino Sans' (ヒラギノ角ゴシック W7.ttc) normal normal 700 normal>) = 10.335\n",
      "DEBUG:matplotlib.font_manager:findfont: score(<Font 'Noto Sans Old Hungarian' (NotoSansOldHungarian-Regular.ttf) normal normal 400 normal>) = 10.05\n",
      "DEBUG:matplotlib.font_manager:findfont: score(<Font 'Al Nile' (Al Nile.ttc) normal normal 400 normal>) = 10.05\n",
      "DEBUG:matplotlib.font_manager:findfont: score(<Font 'Gill Sans' (GillSans.ttc) normal normal 400 normal>) = 10.05\n",
      "DEBUG:matplotlib.font_manager:findfont: score(<Font 'Times New Roman' (Times New Roman.ttf) normal normal 400 normal>) = 10.05\n",
      "DEBUG:matplotlib.font_manager:findfont: score(<Font 'Noto Sans Manichaean' (NotoSansManichaean-Regular.ttf) normal normal 400 normal>) = 10.05\n",
      "DEBUG:matplotlib.font_manager:findfont: score(<Font 'Bitstream Vera Sans Mono' (VeraMoIt.ttf) oblique normal 400 normal>) = 11.05\n",
      "DEBUG:matplotlib.font_manager:findfont: score(<Font 'Muna' (Muna.ttc) normal normal 400 normal>) = 10.05\n",
      "DEBUG:matplotlib.font_manager:findfont: score(<Font 'Noto Sans Sora Sompeng' (NotoSansSoraSompeng-Regular.ttf) normal normal 400 normal>) = 10.05\n",
      "DEBUG:matplotlib.font_manager:findfont: score(<Font 'STIXSizeFourSym' (STIXSizFourSymBol.otf) normal normal 700 normal>) = 10.335\n",
      "DEBUG:matplotlib.font_manager:findfont: score(<Font 'Hiragino Sans' (ヒラギノ角ゴシック W3.ttc) normal normal 300 normal>) = 10.145\n",
      "DEBUG:matplotlib.font_manager:findfont: score(<Font 'Arial Hebrew' (ArialHB.ttc) normal normal 400 normal>) = 10.05\n",
      "DEBUG:matplotlib.font_manager:findfont: score(<Font 'Luxi Sans' (luxisb.ttf) normal normal 700 normal>) = 10.335\n",
      "DEBUG:matplotlib.font_manager:findfont: score(<Font 'Times New Roman' (Times New Roman Bold Italic.ttf) italic normal 700 normal>) = 11.335\n",
      "DEBUG:matplotlib.font_manager:findfont: score(<Font 'PT Mono' (PTMono.ttc) normal normal 700 normal>) = 10.335\n",
      "DEBUG:matplotlib.font_manager:findfont: score(<Font 'Noto Sans Pau Cin Hau' (NotoSansPauCinHau-Regular.ttf) normal normal 400 normal>) = 10.05\n",
      "DEBUG:matplotlib.font_manager:findfont: score(<Font 'Devanagari MT' (DevanagariMT.ttc) normal normal 400 normal>) = 10.05\n",
      "DEBUG:matplotlib.font_manager:findfont: score(<Font 'Noto Sans Old Italic' (NotoSansOldItalic-Regular.ttf) italic normal 400 normal>) = 11.05\n",
      "DEBUG:matplotlib.font_manager:findfont: score(<Font 'Serto Urhoy' (SyrCOMUrhoy.otf) normal normal 400 normal>) = 10.05\n",
      "DEBUG:matplotlib.font_manager:findfont: score(<Font 'Serto Malankara' (SyrCOMMalankara.otf) normal normal 400 normal>) = 10.05\n",
      "DEBUG:matplotlib.font_manager:findfont: score(<Font 'Noto Sans Old Persian' (NotoSansOldPersian-Regular.ttf) normal normal 400 normal>) = 10.05\n",
      "DEBUG:matplotlib.font_manager:findfont: score(<Font 'Lao MN' (Lao MN.ttc) normal normal 400 normal>) = 10.05\n",
      "DEBUG:matplotlib.font_manager:findfont: score(<Font 'Rockwell' (Rockwell.ttc) normal normal 400 normal>) = 10.05\n",
      "DEBUG:matplotlib.font_manager:findfont: score(<Font 'ITF Devanagari' (ITFDevanagari.ttc) normal normal 400 normal>) = 10.05\n",
      "DEBUG:matplotlib.font_manager:findfont: score(<Font 'Noto Serif Myanmar' (NotoSerifMyanmar.ttc) normal normal 900 normal>) = 10.525\n",
      "DEBUG:matplotlib.font_manager:findfont: score(<Font 'Noto Sans Phoenician' (NotoSansPhoenician-Regular.ttf) normal normal 400 normal>) = 10.05\n",
      "DEBUG:matplotlib.font_manager:findfont: score(<Font 'Noto Sans Limbu' (NotoSansLimbu-Regular.ttf) normal normal 400 normal>) = 10.05\n",
      "DEBUG:matplotlib.font_manager:findfont: score(<Font 'Malayalam MN' (Malayalam MN.ttc) normal normal 400 normal>) = 10.05\n",
      "DEBUG:matplotlib.font_manager:findfont: score(<Font 'Noto Sans Syloti Nagri' (NotoSansSylotiNagri-Regular.ttf) normal normal 400 normal>) = 10.05\n",
      "DEBUG:matplotlib.font_manager:findfont: score(<Font 'STIXVariants' (STIXVar.otf) normal normal 400 normal>) = 10.05\n",
      "DEBUG:matplotlib.font_manager:findfont: score(<Font 'American Typewriter' (AmericanTypewriter.ttc) normal normal 400 normal>) = 10.05\n",
      "DEBUG:matplotlib.font_manager:findfont: score(<Font 'Luxi Mono' (luximbi.ttf) oblique normal 700 normal>) = 11.335\n",
      "DEBUG:matplotlib.font_manager:findfont: score(<Font 'East Syriac Adiabene' (SyrCOMAdiabene.otf) normal normal 400 normal>) = 10.05\n",
      "DEBUG:matplotlib.font_manager:findfont: score(<Font '.Aqua Kana' (AquaKana.ttc) normal normal 300 normal>) = 10.145\n",
      "DEBUG:matplotlib.font_manager:findfont: score(<Font 'Hiragino Sans' (ヒラギノ角ゴシック W8.ttc) normal normal 800 normal>) = 10.43\n",
      "DEBUG:matplotlib.font_manager:findfont: score(<Font 'Noto Sans NKo' (NotoSansNKo-Regular.ttf) normal normal 400 normal>) = 10.05\n",
      "DEBUG:matplotlib.font_manager:findfont: score(<Font 'Noto Sans Cypriot' (NotoSansCypriot-Regular.ttf) normal normal 400 normal>) = 10.05\n",
      "DEBUG:matplotlib.font_manager:findfont: score(<Font 'PT Serif Caption' (PTSerifCaption.ttc) normal normal 400 normal>) = 10.05\n",
      "DEBUG:matplotlib.font_manager:findfont: score(<Font 'Noto Serif Balinese' (NotoSerifBalinese-Regular.ttf) normal normal 400 normal>) = 10.05\n",
      "DEBUG:matplotlib.font_manager:findfont: score(<Font 'Noto Sans Thaana' (NotoSansThaana-Regular.ttf) normal normal 400 normal>) = 10.05\n",
      "DEBUG:matplotlib.font_manager:findfont: score(<Font 'Savoye LET' (Savoye LET.ttc) normal normal 400 normal>) = 10.05\n",
      "DEBUG:matplotlib.font_manager:findfont: score(<Font 'Avenir Next' (Avenir Next.ttc) normal normal 700 normal>) = 10.335\n",
      "DEBUG:matplotlib.font_manager:findfont: score(<Font 'Noto Sans Wancho' (NotoSansWancho-Regular.ttf) normal normal 400 normal>) = 10.05\n",
      "DEBUG:matplotlib.font_manager:findfont: score(<Font 'Zapf Dingbats' (ZapfDingbats.ttf) normal normal 400 normal>) = 10.05\n",
      "DEBUG:matplotlib.font_manager:findfont: score(<Font 'Plantagenet Cherokee' (PlantagenetCherokee.ttf) normal normal 400 normal>) = 10.05\n",
      "DEBUG:matplotlib.font_manager:findfont: score(<Font 'STIXIntegralsSm' (STIXIntSmBol.otf) normal normal 700 normal>) = 10.335\n",
      "DEBUG:matplotlib.font_manager:findfont: score(<Font 'Ayuthaya' (Ayuthaya.ttf) normal normal 400 normal>) = 10.05\n",
      "DEBUG:matplotlib.font_manager:findfont: score(<Font 'Noto Sans Mahajani' (NotoSansMahajani-Regular.ttf) normal normal 400 normal>) = 10.05\n",
      "DEBUG:matplotlib.font_manager:findfont: score(<Font 'Noto Sans Runic' (NotoSansRunic-Regular.ttf) normal normal 400 normal>) = 10.05\n",
      "DEBUG:matplotlib.font_manager:findfont: score(<Font 'Serto Mardin' (SyrCOMMardin.otf) normal normal 400 normal>) = 10.05\n",
      "DEBUG:matplotlib.font_manager:findfont: score(<Font 'Gujarati MT' (GujaratiMT.ttc) normal normal 400 normal>) = 10.05\n",
      "DEBUG:matplotlib.font_manager:findfont: score(<Font 'Apple Chancery' (Apple Chancery.ttf) normal normal 0 normal>) = 10.43\n",
      "DEBUG:matplotlib.font_manager:findfont: score(<Font 'Bitstream Vera Sans' (VeraIt.ttf) oblique normal 400 normal>) = 1.9590909090909092\n",
      "DEBUG:matplotlib.font_manager:findfont: score(<Font 'Trebuchet MS' (Trebuchet MS Bold Italic.ttf) italic normal 700 normal>) = 11.335\n",
      "DEBUG:matplotlib.font_manager:findfont: score(<Font 'Bitstream Vera Sans' (VeraBI.ttf) oblique normal 700 normal>) = 2.244090909090909\n",
      "DEBUG:matplotlib.font_manager:findfont: score(<Font 'STIXGeneral' (STIXGeneralBol.otf) normal normal 700 normal>) = 10.335\n",
      "DEBUG:matplotlib.font_manager:findfont: score(<Font 'Bodoni 72 Smallcaps' (Bodoni 72 Smallcaps Book.ttf) normal normal 400 normal>) = 10.05\n",
      "DEBUG:matplotlib.font_manager:findfont: score(<Font 'Noto Sans Myanmar' (NotoSansMyanmar.ttc) normal normal 900 normal>) = 10.525\n",
      "DEBUG:matplotlib.font_manager:findfont: score(<Font 'Devanagari Sangam MN' (Devanagari Sangam MN.ttc) normal normal 400 normal>) = 10.05\n",
      "DEBUG:matplotlib.font_manager:findfont: score(<Font 'DIN Condensed' (DIN Condensed Bold.ttf) normal normal 700 condensed>) = 10.535\n",
      "DEBUG:matplotlib.font_manager:findfont: score(<Font '.New York' (NewYorkItalic.ttf) italic normal 400 normal>) = 11.05\n",
      "DEBUG:matplotlib.font_manager:findfont: score(<Font 'Noto Sans Ol Chiki' (NotoSansOlChiki-Regular.ttf) normal normal 400 normal>) = 10.05\n",
      "DEBUG:matplotlib.font_manager:findfont: score(<Font 'Cochin' (Cochin.ttc) normal normal 500 normal>) = 10.145\n",
      "DEBUG:matplotlib.font_manager:findfont: score(<Font 'Avenir' (Avenir.ttc) normal normal 400 normal>) = 10.05\n",
      "DEBUG:matplotlib.font_manager:findfont: score(<Font 'STIXIntegralsSm' (STIXIntSmReg.otf) normal normal 400 normal>) = 10.05\n",
      "DEBUG:matplotlib.font_manager:findfont: score(<Font 'Waseem' (Waseem.ttc) normal normal 400 normal>) = 10.05\n",
      "DEBUG:matplotlib.font_manager:findfont: score(<Font 'Damascus' (Damascus.ttc) normal normal 400 normal>) = 10.05\n",
      "DEBUG:matplotlib.font_manager:findfont: score(<Font 'Estrangelo Edessa' (SyrCOMEdessa.otf) normal normal 400 normal>) = 10.05\n",
      "DEBUG:matplotlib.font_manager:findfont: score(<Font 'Impact' (Impact.ttf) normal normal 400 normal>) = 10.05\n",
      "DEBUG:matplotlib.font_manager:findfont: score(<Font 'STIXIntegralsD' (STIXIntDBol.otf) normal normal 700 normal>) = 10.335\n",
      "DEBUG:matplotlib.font_manager:findfont: score(<Font 'Goha-Tibeb Zemen' (GohaTibebZemen.otf) normal normal 500 normal>) = 10.145\n",
      "DEBUG:matplotlib.font_manager:findfont: score(<Font 'Noto Sans Multani' (NotoSansMultani-Regular.ttf) normal normal 400 normal>) = 10.05\n",
      "DEBUG:matplotlib.font_manager:findfont: score(<Font 'Charter' (Charter.ttc) normal normal 400 normal>) = 10.05\n",
      "DEBUG:matplotlib.font_manager:findfont: score(<Font 'Malayalam Sangam MN' (Malayalam Sangam MN.ttc) normal normal 400 normal>) = 10.05\n",
      "DEBUG:matplotlib.font_manager:findfont: score(<Font 'Oriya MN' (Oriya MN.ttc) normal normal 400 normal>) = 10.05\n",
      "DEBUG:matplotlib.font_manager:findfont: score(<Font 'Phosphate' (Phosphate.ttc) normal normal 400 normal>) = 10.05\n",
      "DEBUG:matplotlib.font_manager:findfont: score(<Font 'Noto Sans Cham' (NotoSansCham-Regular.ttf) normal normal 400 normal>) = 10.05\n",
      "DEBUG:matplotlib.font_manager:findfont: score(<Font 'STIXIntegralsUp' (STIXIntUpBol.otf) normal normal 700 normal>) = 10.335\n",
      "DEBUG:matplotlib.font_manager:findfont: score(<Font 'Telugu Sangam MN' (Telugu Sangam MN.ttc) normal normal 400 normal>) = 10.05\n",
      "DEBUG:matplotlib.font_manager:findfont: score(<Font 'Times New Roman' (Times New Roman Bold.ttf) normal normal 700 normal>) = 10.335\n",
      "DEBUG:matplotlib.font_manager:findfont: score(<Font 'Noto Sans Mro' (NotoSansMro-Regular.ttf) normal normal 400 normal>) = 10.05\n",
      "DEBUG:matplotlib.font_manager:findfont: score(<Font 'Noto Sans Osmanya' (NotoSansOsmanya-Regular.ttf) normal normal 400 normal>) = 10.05\n",
      "DEBUG:matplotlib.font_manager:findfont: score(<Font 'Noto Sans Rejang' (NotoSansRejang-Regular.ttf) normal normal 400 normal>) = 10.05\n",
      "DEBUG:matplotlib.font_manager:findfont: score(<Font 'Noto Sans Psalter Pahlavi' (NotoSansPsalterPahlavi-Regular.ttf) normal normal 400 normal>) = 10.05\n",
      "DEBUG:matplotlib.font_manager:findfont: score(<Font 'Mishafi Gold' (Mishafi Gold.ttf) normal normal 400 normal>) = 10.05\n",
      "DEBUG:matplotlib.font_manager:findfont: score(<Font 'Noto Sans Elbasan' (NotoSansElbasan-Regular.ttf) normal normal 400 normal>) = 10.05\n",
      "DEBUG:matplotlib.font_manager:findfont: score(<Font 'Arial Narrow' (Arial Narrow Bold.ttf) normal normal 700 condensed>) = 10.535\n",
      "DEBUG:matplotlib.font_manager:findfont: score(<Font 'Noto Sans Caucasian Albanian' (NotoSansCaucasianAlbanian-Regular.ttf) normal normal 400 normal>) = 10.05\n",
      "DEBUG:matplotlib.font_manager:findfont: score(<Font 'Noto Sans Bamum' (NotoSansBamum-Regular.ttf) normal normal 400 normal>) = 10.05\n",
      "DEBUG:matplotlib.font_manager:findfont: score(<Font 'Apple Braille' (Apple Braille Pinpoint 6 Dot.ttf) normal normal 400 normal>) = 10.05\n",
      "DEBUG:matplotlib.font_manager:findfont: score(<Font 'Noto Sans Tagbanwa' (NotoSansTagbanwa-Regular.ttf) normal normal 400 normal>) = 10.05\n",
      "DEBUG:matplotlib.font_manager:findfont: score(<Font 'Noto Sans Coptic' (NotoSansCoptic-Regular.ttf) normal normal 400 normal>) = 10.05\n",
      "DEBUG:matplotlib.font_manager:findfont: score(<Font 'Lao Sangam MN' (Lao Sangam MN.ttf) normal normal 400 normal>) = 10.05\n",
      "DEBUG:matplotlib.font_manager:findfont: score(<Font 'STIXNonUnicode' (STIXNonUniBolIta.otf) italic normal 700 normal>) = 11.335\n",
      "DEBUG:matplotlib.font_manager:findfont: score(<Font 'Palatino' (Palatino.ttc) normal normal 400 normal>) = 10.05\n",
      "DEBUG:matplotlib.font_manager:findfont: score(<Font 'Diwan Kufi' (Diwan Kufi.ttc) normal normal 400 normal>) = 10.05\n",
      "DEBUG:matplotlib.font_manager:findfont: score(<Font 'Al Bayan' (AlBayan.ttc) normal normal 400 normal>) = 10.05\n",
      "DEBUG:matplotlib.font_manager:findfont: score(<Font 'Luxi Mono' (luximb.ttf) normal normal 700 normal>) = 10.335\n",
      "DEBUG:matplotlib.font_manager:findfont: score(<Font 'Georgia' (Georgia.ttf) normal normal 400 normal>) = 10.05\n",
      "DEBUG:matplotlib.font_manager:findfont: score(<Font 'Brush Script MT' (Brush Script.ttf) italic normal 400 normal>) = 11.05\n",
      "DEBUG:matplotlib.font_manager:findfont: score(<Font 'Kannada MN' (Kannada MN.ttc) normal normal 400 normal>) = 10.05\n",
      "DEBUG:matplotlib.font_manager:findfont: score(<Font 'Hoefler Text' (Hoefler Text.ttc) normal normal 400 normal>) = 10.05\n",
      "DEBUG:matplotlib.font_manager:findfont: score(<Font 'AppleMyungjo' (AppleMyungjo.ttf) normal normal 400 normal>) = 10.05\n",
      "DEBUG:matplotlib.font_manager:findfont: score(<Font 'Estrangelo Midyat' (SyrCOMMidyat.otf) normal normal 400 normal>) = 10.05\n",
      "DEBUG:matplotlib.font_manager:findfont: score(<Font 'Bitstream Vera Serif' (VeraSeBd.ttf) normal normal 700 normal>) = 10.335\n",
      "DEBUG:matplotlib.font_manager:findfont: score(<Font 'Kokonor' (Kokonor.ttf) normal normal 400 normal>) = 10.05\n",
      "DEBUG:matplotlib.font_manager:findfont: score(<Font 'System Font' (SFNS.ttf) normal normal 400 normal>) = 10.05\n",
      "DEBUG:matplotlib.font_manager:findfont: score(<Font 'Luxi Sans' (luxisri.ttf) oblique normal 400 normal>) = 11.05\n",
      "DEBUG:matplotlib.font_manager:findfont: score(<Font 'Bitstream Vera Sans' (VeraBd.ttf) normal normal 700 normal>) = 1.2440909090909091\n",
      "DEBUG:matplotlib.font_manager:findfont: score(<Font 'Hiragino Sans' (ヒラギノ角ゴシック W4.ttc) normal normal 400 normal>) = 10.05\n",
      "DEBUG:matplotlib.font_manager:findfont: score(<Font 'Serto Mardin' (SyrCOMMardinBold.otf) normal normal 700 normal>) = 10.335\n",
      "DEBUG:matplotlib.font_manager:findfont: score(<Font '.Arabic UI Display' (ArabicUIDisplay.ttc) normal normal 900 normal>) = 10.525\n",
      "DEBUG:matplotlib.font_manager:findfont: score(<Font 'East Syriac Ctesiphon' (SyrCOMCtesiphon.otf) normal normal 400 normal>) = 10.05\n",
      "DEBUG:matplotlib.font_manager:findfont: score(<Font 'Hiragino Sans' (ヒラギノ角ゴシック W0.ttc) normal normal 100 normal>) = 10.335\n",
      "DEBUG:matplotlib.font_manager:findfont: score(<Font 'Arial' (Arial Bold Italic.ttf) italic normal 700 normal>) = 7.698636363636363\n",
      "DEBUG:matplotlib.font_manager:findfont: score(<Font 'Noto Sans Batak' (NotoSansBatak-Regular.ttf) normal normal 400 normal>) = 10.05\n",
      "DEBUG:matplotlib.font_manager:findfont: score(<Font '.SF Compact' (SFCompact.ttf) normal normal 1000 normal>) = 10.62\n",
      "DEBUG:matplotlib.font_manager:findfont: score(<Font 'Khmer Sangam MN' (Khmer Sangam MN.ttf) normal normal 400 normal>) = 10.05\n",
      "DEBUG:matplotlib.font_manager:findfont: score(<Font 'Noto Sans Bassa Vah' (NotoSansBassaVah-Regular.ttf) normal normal 400 normal>) = 10.05\n",
      "DEBUG:matplotlib.font_manager:findfont: score(<Font 'Noto Sans Nabataean' (NotoSansNabataean-Regular.ttf) normal normal 400 normal>) = 10.05\n",
      "DEBUG:matplotlib.font_manager:findfont: score(<Font 'Noto Sans Sharada' (NotoSansSharada-Regular.ttf) normal normal 400 normal>) = 10.05\n",
      "DEBUG:matplotlib.font_manager:findfont: score(<Font 'Noto Sans Tai Tham' (NotoSansTaiTham-Regular.ttf) normal normal 400 normal>) = 10.05\n",
      "DEBUG:matplotlib.font_manager:findfont: score(<Font 'Seravek' (Seravek.ttc) normal normal 400 normal>) = 10.05\n",
      "DEBUG:matplotlib.font_manager:findfont: score(<Font 'Luxi Mono' (luximri.ttf) oblique normal 400 normal>) = 11.05\n",
      "DEBUG:matplotlib.font_manager:findfont: score(<Font 'Kannada Sangam MN' (Kannada Sangam MN.ttc) normal normal 400 normal>) = 10.05\n",
      "DEBUG:matplotlib.font_manager:findfont: score(<Font 'Didot' (Didot.ttc) normal normal 400 normal>) = 10.05\n",
      "DEBUG:matplotlib.font_manager:findfont: score(<Font 'Bitstream Vera Sans Mono' (VeraMono.ttf) normal normal 400 normal>) = 10.05\n",
      "DEBUG:matplotlib.font_manager:findfont: score(<Font 'Shree Devanagari 714' (Shree714.ttc) normal normal 400 normal>) = 10.05\n",
      "DEBUG:matplotlib.font_manager:findfont: score(<Font 'Kohinoor Bangla' (KohinoorBangla.ttc) normal normal 400 normal>) = 10.05\n",
      "DEBUG:matplotlib.font_manager:findfont: score(<Font 'Trebuchet MS' (Trebuchet MS Bold.ttf) normal normal 700 normal>) = 10.335\n",
      "DEBUG:matplotlib.font_manager:findfont: score(<Font 'Kohinoor Gujarati' (KohinoorGujarati.ttc) normal normal 700 normal>) = 10.335\n",
      "DEBUG:matplotlib.font_manager:findfont: score(<Font 'Symbol' (Symbol.ttf) normal normal 400 normal>) = 10.05\n",
      "DEBUG:matplotlib.font_manager:findfont: score(<Font 'Hiragino Sans' (ヒラギノ角ゴシック W9.ttc) normal normal 900 normal>) = 10.525\n",
      "DEBUG:matplotlib.font_manager:findfont: score(<Font 'Papyrus' (Papyrus.ttc) normal normal 400 condensed>) = 10.25\n",
      "DEBUG:matplotlib.font_manager:findfont: score(<Font 'STIXSizeThreeSym' (STIXSizThreeSymReg.otf) normal normal 400 normal>) = 10.05\n",
      "DEBUG:matplotlib.font_manager:findfont: score(<Font 'Apple Braille' (Apple Braille.ttf) normal normal 400 normal>) = 10.05\n",
      "DEBUG:matplotlib.font_manager:findfont: score(<Font 'Noto Sans Lycian' (NotoSansLycian-Regular.ttf) normal normal 400 normal>) = 10.05\n",
      "DEBUG:matplotlib.font_manager:findfont: score(<Font 'Estrangelo Talada' (SyrCOMTalada.otf) normal normal 400 normal>) = 10.05\n",
      "DEBUG:matplotlib.font_manager:findfont: score(<Font 'Noto Sans Kharoshthi' (NotoSansKharoshthi-Regular.ttf) normal normal 400 normal>) = 10.05\n",
      "DEBUG:matplotlib.font_manager:findfont: score(<Font 'Goha-Tibeb Zemen' (GohaTibebZemen.ttf) normal normal 500 normal>) = 10.145\n",
      "DEBUG:matplotlib.font_manager:findfont: score(<Font 'STIXNonUnicode' (STIXNonUniBol.otf) normal normal 700 normal>) = 10.335\n",
      "DEBUG:matplotlib.font_manager:findfont: score(<Font 'Noto Sans Siddham' (NotoSansSiddham-Regular.ttf) normal normal 400 normal>) = 10.05\n",
      "DEBUG:matplotlib.font_manager:findfont: score(<Font 'STIXSizeOneSym' (STIXSizOneSymReg.otf) normal normal 400 normal>) = 10.05\n",
      "DEBUG:matplotlib.font_manager:findfont: score(<Font 'STIXGeneral' (STIXGeneralItalic.otf) italic normal 400 normal>) = 11.05\n",
      "DEBUG:matplotlib.font_manager:findfont: score(<Font 'Menlo' (Menlo.ttc) normal normal 400 normal>) = 10.05\n",
      "DEBUG:matplotlib.font_manager:findfont: score(<Font 'Apple Braille' (Apple Braille Outline 8 Dot.ttf) normal normal 400 normal>) = 10.05\n",
      "DEBUG:matplotlib.font_manager:findfont: score(<Font 'Noto Sans Brahmi' (NotoSansBrahmi-Regular.ttf) normal normal 400 normal>) = 10.05\n",
      "DEBUG:matplotlib.font_manager:findfont: score(<Font 'Noto Sans Sundanese' (NotoSansSundanese-Regular.ttf) normal normal 400 normal>) = 10.05\n",
      "DEBUG:matplotlib.font_manager:findfont: score(<Font 'Baghdad' (Baghdad.ttc) normal normal 400 normal>) = 10.05\n",
      "DEBUG:matplotlib.font_manager:findfont: score(<Font 'Noto Sans Saurashtra' (NotoSansSaurashtra-Regular.ttf) normal normal 400 normal>) = 10.05\n",
      "DEBUG:matplotlib.font_manager:findfont: score(<Font 'Apple Braille' (Apple Braille Outline 6 Dot.ttf) normal normal 400 normal>) = 10.05\n",
      "DEBUG:matplotlib.font_manager:findfont: score(<Font 'Wingdings 2' (Wingdings 2.ttf) normal normal 400 normal>) = 10.05\n",
      "DEBUG:matplotlib.font_manager:findfont: score(<Font 'Noto Sans Adlam' (NotoSansAdlam-Regular.ttf) normal normal 400 normal>) = 10.05\n",
      "DEBUG:matplotlib.font_manager:findfont: score(<Font 'Noto Sans Cuneiform' (NotoSansCuneiform-Regular.ttf) normal normal 400 normal>) = 10.05\n",
      "DEBUG:matplotlib.font_manager:findfont: score(<Font 'Kailasa' (Kailasa.ttc) normal normal 400 normal>) = 10.05\n",
      "DEBUG:matplotlib.font_manager:findfont: score(<Font 'Hiragino Sans' (ヒラギノ角ゴシック W1.ttc) normal normal 200 normal>) = 10.24\n",
      "DEBUG:matplotlib.font_manager:findfont: score(<Font 'Comic Sans MS' (Comic Sans MS Bold.ttf) normal normal 700 normal>) = 10.335\n",
      "DEBUG:matplotlib.font_manager:findfont: score(<Font 'Noto Sans Palmyrene' (NotoSansPalmyrene-Regular.ttf) normal normal 400 normal>) = 10.05\n",
      "DEBUG:matplotlib.font_manager:findfont: score(<Font 'STIXSizeTwoSym' (STIXSizTwoSymReg.otf) normal normal 400 normal>) = 10.05\n",
      "DEBUG:matplotlib.font_manager:findfont: score(<Font 'AppleGothic' (AppleGothic.ttf) normal normal 400 normal>) = 10.05\n",
      "DEBUG:matplotlib.font_manager:findfont: score(<Font 'Noto Sans Pahawh Hmong' (NotoSansPahawhHmong-Regular.ttf) normal normal 400 normal>) = 10.05\n",
      "DEBUG:matplotlib.font_manager:findfont: score(<Font 'Wingdings' (Wingdings.ttf) normal normal 400 normal>) = 10.05\n",
      "DEBUG:matplotlib.font_manager:findfont: score(<Font 'Courier New' (Courier New Italic.ttf) italic normal 400 normal>) = 11.05\n",
      "DEBUG:matplotlib.font_manager:findfont: score(<Font 'STIXNonUnicode' (STIXNonUniIta.otf) italic normal 400 normal>) = 11.05\n",
      "DEBUG:matplotlib.font_manager:findfont: score(<Font 'Luminari' (Luminari.ttf) normal normal 400 normal>) = 10.05\n",
      "DEBUG:matplotlib.font_manager:findfont: score(<Font 'Chalkboard SE' (ChalkboardSE.ttc) normal normal 400 normal>) = 10.05\n",
      "DEBUG:matplotlib.font_manager:findfont: score(<Font 'SignPainter' (SignPainter.ttc) normal normal 400 normal>) = 10.05\n",
      "DEBUG:matplotlib.font_manager:findfont: score(<Font 'Georgia' (Georgia Italic.ttf) italic normal 400 normal>) = 11.05\n",
      "DEBUG:matplotlib.font_manager:findfont: score(<Font 'Noto Sans Linear B' (NotoSansLinearB-Regular.ttf) normal normal 400 normal>) = 10.05\n",
      "DEBUG:matplotlib.font_manager:findfont: score(<Font 'Serto Jerusalem' (SyrCOMJerusalemBold.otf) normal normal 700 normal>) = 10.335\n",
      "DEBUG:matplotlib.font_manager:findfont: score(<Font 'Noto Sans Osage' (NotoSansOsage-Regular.ttf) normal normal 400 normal>) = 10.05\n",
      "DEBUG:matplotlib.font_manager:findfont: score(<Font 'Diwan Thuluth' (Diwan Thuluth.ttf) normal normal 400 normal>) = 10.05\n",
      "DEBUG:matplotlib.font_manager:findfont: score(<Font 'STIXIntegralsD' (STIXIntDReg.otf) normal normal 400 normal>) = 10.05\n",
      "DEBUG:matplotlib.font_manager:findfont: score(<Font 'STIXSizeOneSym' (STIXSizOneSymBol.otf) normal normal 700 normal>) = 10.335\n",
      "DEBUG:matplotlib.font_manager:findfont: score(<Font 'Noto Sans Glagolitic' (NotoSansGlagolitic-Regular.ttf) normal normal 400 normal>) = 10.05\n",
      "DEBUG:matplotlib.font_manager:findfont: score(<Font 'Georgia' (Georgia Bold Italic.ttf) italic normal 700 normal>) = 11.335\n",
      "DEBUG:matplotlib.font_manager:findfont: score(<Font 'Oriya Sangam MN' (Oriya Sangam MN.ttc) normal normal 400 normal>) = 10.05\n",
      "DEBUG:matplotlib.font_manager:findfont: score(<Font 'Serto Kharput' (SyrCOMKharput.otf) normal normal 400 normal>) = 10.05\n",
      "DEBUG:matplotlib.font_manager:findfont: score(<Font 'STIXIntegralsUpD' (STIXIntUpDBol.otf) normal normal 700 normal>) = 10.335\n",
      "DEBUG:matplotlib.font_manager:findfont: score(<Font 'Luxi Sans' (luxisr.ttf) normal normal 400 normal>) = 10.05\n",
      "DEBUG:matplotlib.font_manager:findfont: score(<Font '.SF Compact' (SFCompactItalic.ttf) italic normal 1000 normal>) = 11.62\n",
      "DEBUG:matplotlib.font_manager:findfont: score(<Font 'Noto Sans Kaithi' (NotoSansKaithi-Regular.ttf) normal normal 400 normal>) = 10.05\n",
      "DEBUG:matplotlib.font_manager:findfont: score(<Font 'Apple Braille' (Apple Braille Pinpoint 8 Dot.ttf) normal normal 400 normal>) = 10.05\n",
      "DEBUG:matplotlib.font_manager:findfont: score(<Font 'Bitstream Vera Sans Mono' (VeraMoBd.ttf) normal normal 700 normal>) = 10.335\n",
      "DEBUG:matplotlib.font_manager:findfont: score(<Font 'Bangla MN' (Bangla MN.ttc) normal normal 400 normal>) = 10.05\n",
      "DEBUG:matplotlib.font_manager:findfont: score(<Font 'Noto Sans Inscriptional Pahlavi' (NotoSansInscriptionalPahlavi-Regular.ttf) normal normal 400 normal>) = 10.05\n",
      "DEBUG:matplotlib.font_manager:findfont: score(<Font 'Noto Sans Tagalog' (NotoSansTagalog-Regular.ttf) normal normal 400 normal>) = 10.05\n",
      "DEBUG:matplotlib.font_manager:findfont: score(<Font 'Luxi Mono' (luximr.ttf) normal normal 400 normal>) = 10.05\n",
      "DEBUG:matplotlib.font_manager:findfont: score(<Font 'Courier New' (Courier New Bold.ttf) normal normal 700 normal>) = 10.335\n",
      "DEBUG:matplotlib.font_manager:findfont: score(<Font 'Noto Sans Tirhuta' (NotoSansTirhuta-Regular.ttf) normal normal 400 normal>) = 10.05\n",
      "DEBUG:matplotlib.font_manager:findfont: score(<Font 'Noto Sans Lisu' (NotoSansLisu-Regular.ttf) normal normal 400 normal>) = 10.05\n",
      "DEBUG:matplotlib.font_manager:findfont: score(<Font '.Keyboard' (Keyboard.ttf) normal normal 100 normal>) = 10.335\n",
      "DEBUG:matplotlib.font_manager:findfont: score(<Font 'Noto Sans Khojki' (NotoSansKhojki-Regular.ttf) normal normal 400 normal>) = 10.05\n",
      "DEBUG:matplotlib.font_manager:findfont: score(<Font 'Noto Sans Oriya' (NotoSansOriya.ttc) normal normal 400 normal>) = 10.05\n",
      "DEBUG:matplotlib.font_manager:findfont: score(<Font 'Estrangelo Nisibin' (SyrCOMNisibin.otf) normal normal 400 normal>) = 10.05\n",
      "DEBUG:matplotlib.font_manager:findfont: score(<Font 'Noto Sans Marchen' (NotoSansMarchen-Regular.ttf) normal normal 400 normal>) = 10.05\n",
      "DEBUG:matplotlib.font_manager:findfont: score(<Font 'Noto Sans Old Permic' (NotoSansOldPermic-Regular.ttf) normal normal 400 normal>) = 10.05\n",
      "DEBUG:matplotlib.font_manager:findfont: score(<Font 'Noto Sans Carian' (NotoSansCarian-Regular.ttf) normal normal 400 normal>) = 10.05\n",
      "DEBUG:matplotlib.font_manager:findfont: score(<Font 'Times New Roman' (Times New Roman Italic.ttf) italic normal 400 normal>) = 11.05\n",
      "DEBUG:matplotlib.font_manager:findfont: score(<Font 'Noto Sans Buhid' (NotoSansBuhid-Regular.ttf) normal normal 400 normal>) = 10.05\n",
      "DEBUG:matplotlib.font_manager:findfont: score(<Font 'Noto Sans Inscriptional Parthian' (NotoSansInscriptionalParthian-Regular.ttf) normal normal 400 normal>) = 10.05\n",
      "DEBUG:matplotlib.font_manager:findfont: score(<Font 'Hiragino Sans' (ヒラギノ角ゴシック W2.ttc) normal normal 250 normal>) = 10.1925\n",
      "DEBUG:matplotlib.font_manager:findfont: score(<Font 'PT Serif' (PTSerif.ttc) normal normal 400 normal>) = 10.05\n",
      "DEBUG:matplotlib.font_manager:findfont: score(<Font '.SF NS Mono' (SFNSMono.ttf) normal normal 295 normal>) = 10.14975\n",
      "DEBUG:matplotlib.font_manager:findfont: score(<Font 'Silom' (Silom.ttf) normal normal 400 normal>) = 10.05\n",
      "DEBUG:matplotlib.font_manager:findfont: score(<Font 'Estrangelo Quenneshrin' (SyrCOMQenNeshrin.otf) normal normal 400 normal>) = 10.05\n",
      "DEBUG:matplotlib.font_manager:findfont: score(<Font 'Kohinoor Devanagari' (Kohinoor.ttc) normal normal 400 normal>) = 10.05\n",
      "DEBUG:matplotlib.font_manager:findfont: score(<Font 'Arial Unicode MS' (Arial Unicode.ttf) normal normal 400 normal>) = 10.05\n",
      "DEBUG:matplotlib.font_manager:findfont: score(<Font 'Estrangelo Nisibin Outline' (SyrCOMNisibinOutline.otf) normal normal 400 normal>) = 10.05\n",
      "DEBUG:matplotlib.font_manager:findfont: score(<Font 'Noto Sans Samaritan' (NotoSansSamaritan-Regular.ttf) normal normal 400 normal>) = 10.05\n",
      "DEBUG:matplotlib.font_manager:findfont: score(<Font 'Corsiva Hebrew' (Corsiva.ttc) normal normal 400 normal>) = 10.05\n",
      "DEBUG:matplotlib.font_manager:findfont: score(<Font 'Georgia' (Georgia Bold.ttf) normal normal 700 normal>) = 10.335\n",
      "DEBUG:matplotlib.font_manager:findfont: score(<Font 'Arial' (Arial Italic.ttf) italic normal 400 normal>) = 7.413636363636363\n",
      "DEBUG:matplotlib.font_manager:findfont: score(<Font 'STIXSizeFiveSym' (STIXSizFiveSymReg.otf) normal normal 400 normal>) = 10.05\n",
      "DEBUG:matplotlib.font_manager:findfont: score(<Font 'Helvetica Neue' (HelveticaNeue.ttc) normal normal 400 normal>) = 10.05\n",
      "DEBUG:matplotlib.font_manager:findfont: score(<Font '.SF NS Mono' (SFNSMonoItalic.ttf) italic normal 295 normal>) = 11.14975\n",
      "DEBUG:matplotlib.font_manager:findfont: score(<Font 'Big Caslon' (BigCaslon.ttf) normal normal 500 normal>) = 10.145\n",
      "DEBUG:matplotlib.font_manager:findfont: score(<Font 'Khmer MN' (Khmer MN.ttc) normal normal 400 normal>) = 10.05\n",
      "DEBUG:matplotlib.font_manager:findfont: score(<Font 'Party LET' (PartyLET-plain.ttf) normal normal 400 normal>) = 10.05\n",
      "DEBUG:matplotlib.font_manager:findfont: score(<Font 'Tamil Sangam MN' (Tamil Sangam MN.ttc) normal normal 400 normal>) = 10.05\n",
      "DEBUG:matplotlib.font_manager:findfont: score(<Font 'Marker Felt' (MarkerFelt.ttc) normal normal 400 normal>) = 10.05\n",
      "DEBUG:matplotlib.font_manager:findfont: score(<Font 'Geeza Pro' (GeezaPro.ttc) normal normal 400 normal>) = 10.05\n",
      "DEBUG:matplotlib.font_manager:findfont: score(<Font 'Noto Sans Kannada' (NotoSansKannada.ttc) normal normal 900 normal>) = 10.525\n",
      "DEBUG:matplotlib.font_manager:findfont: score(<Font 'Estrangelo TurAbdin' (SyrCOMTurAbdin.otf) normal normal 400 normal>) = 10.05\n",
      "DEBUG:matplotlib.font_manager:findfont: score(<Font 'Optima' (Optima.ttc) normal normal 400 normal>) = 10.05\n",
      "DEBUG:matplotlib.font_manager:findfont: score(<Font '.Arabic UI Text' (ArabicUIText.ttc) normal normal 400 normal>) = 10.05\n",
      "DEBUG:matplotlib.font_manager:findfont: score(<Font 'Noto Sans Lepcha' (NotoSansLepcha-Regular.ttf) normal normal 400 normal>) = 10.05\n",
      "DEBUG:matplotlib.font_manager:findfont: score(<Font 'Arial Rounded MT Bold' (Arial Rounded Bold.ttf) normal normal 400 normal>) = 10.05\n",
      "DEBUG:matplotlib.font_manager:findfont: score(<Font 'Herculanum' (Herculanum.ttf) normal normal 400 normal>) = 10.05\n",
      "DEBUG:matplotlib.font_manager:findfont: score(<Font 'Noto Sans Tai Le' (NotoSansTaiLe-Regular.ttf) normal normal 400 normal>) = 10.05\n",
      "DEBUG:matplotlib.font_manager:findfont: score(<Font 'Skia' (Skia.ttf) normal normal 5 normal>) = 10.42525\n",
      "DEBUG:matplotlib.font_manager:findfont: score(<Font 'KufiStandardGK' (KufiStandardGK.ttc) normal normal 400 normal>) = 10.05\n",
      "DEBUG:matplotlib.font_manager:findfont: score(<Font 'Noto Sans Tifinagh' (NotoSansTifinagh-Regular.ttf) normal normal 400 normal>) = 10.05\n",
      "DEBUG:matplotlib.font_manager:findfont: score(<Font 'PingFang HK' (PingFang.ttc) normal normal 400 normal>) = 10.05\n",
      "DEBUG:matplotlib.font_manager:findfont: score(<Font 'Webdings' (Webdings.ttf) normal normal 400 normal>) = 10.05\n",
      "DEBUG:matplotlib.font_manager:findfont: score(<Font 'Noto Sans Mongolian' (NotoSansMongolian-Regular.ttf) normal normal 400 normal>) = 10.05\n",
      "DEBUG:matplotlib.font_manager:findfont: score(<Font 'Mishafi' (Mishafi.ttf) normal normal 400 normal>) = 10.05\n",
      "DEBUG:matplotlib.font_manager:findfont: score(<Font 'Noto Sans Linear A' (NotoSansLinearA-Regular.ttf) normal normal 400 normal>) = 10.05\n",
      "DEBUG:matplotlib.font_manager:findfont: score(<Font 'STIXNonUnicode' (STIXNonUni.otf) normal normal 400 normal>) = 10.05\n",
      "DEBUG:matplotlib.font_manager:findfont: score(<Font 'Noto Sans Hanifi Rohingya' (NotoSansHanifiRohingya-Regular.ttf) normal normal 400 normal>) = 10.05\n",
      "DEBUG:matplotlib.font_manager:findfont: score(<Font 'Copperplate' (Copperplate.ttc) normal normal 400 normal>) = 10.05\n",
      "DEBUG:matplotlib.font_manager:findfont: score(<Font 'Trattatello' (Trattatello.ttf) normal normal 400 normal>) = 10.05\n",
      "DEBUG:matplotlib.font_manager:findfont: score(<Font 'Myanmar Sangam MN' (Myanmar Sangam MN.ttc) normal normal 400 normal>) = 10.05\n",
      "DEBUG:matplotlib.font_manager:findfont: score(<Font 'Noto Sans Meetei Mayek' (NotoSansMeeteiMayek-Regular.ttf) normal normal 400 normal>) = 10.05\n",
      "DEBUG:matplotlib.font_manager:findfont: score(<Font 'Noto Sans New Tai Lue' (NotoSansNewTaiLue-Regular.ttf) normal normal 400 normal>) = 10.05\n",
      "DEBUG:matplotlib.font_manager:findfont: score(<Font 'Noto Sans Ugaritic' (NotoSansUgaritic-Regular.ttf) normal normal 400 normal>) = 10.05\n",
      "DEBUG:matplotlib.font_manager:findfont: score(<Font 'Serto Urhoy' (SyrCOMUrhoyBold.otf) normal normal 700 normal>) = 10.335\n",
      "DEBUG:matplotlib.font_manager:findfont: score(<Font 'Wingdings 3' (Wingdings 3.ttf) normal normal 400 normal>) = 10.05\n",
      "DEBUG:matplotlib.font_manager:findfont: score(<Font 'Noto Sans Lydian' (NotoSansLydian-Regular.ttf) normal normal 400 normal>) = 10.05\n",
      "DEBUG:matplotlib.font_manager:findfont: score(<Font 'Bitstream Vera Sans' (Vera.ttf) normal normal 400 normal>) = 0.9590909090909092\n",
      "DEBUG:matplotlib.font_manager:findfont: score(<Font 'Beirut' (Beirut.ttc) normal normal 700 normal>) = 10.335\n",
      "DEBUG:matplotlib.font_manager:findfont: score(<Font 'Estrangelo Antioch' (SyrCOMAntioch.otf) normal normal 400 normal>) = 10.05\n",
      "DEBUG:matplotlib.font_manager:findfont: score(<Font 'Lucida Grande' (LucidaGrande.ttc) normal normal 500 normal>) = 2.872272727272727\n",
      "DEBUG:matplotlib.font_manager:findfont: score(<Font 'Hiragino Maru Gothic Pro' (ヒラギノ丸ゴ ProN W4.ttc) normal normal 400 normal>) = 10.05\n",
      "DEBUG:matplotlib.font_manager:findfont: score(<Font 'Arial Black' (Arial Black.ttf) normal normal 900 normal>) = 10.525\n",
      "DEBUG:matplotlib.font_manager:findfont: score(<Font 'Noto Sans Syriac' (NotoSansSyriac-Regular.ttf) normal normal 400 normal>) = 10.05\n",
      "DEBUG:matplotlib.font_manager:findfont: score(<Font 'Tahoma' (Tahoma.ttf) normal normal 400 normal>) = 10.05\n",
      "DEBUG:matplotlib.font_manager:findfont: score(<Font 'Baskerville' (Baskerville.ttc) normal normal 400 normal>) = 10.05\n",
      "DEBUG:matplotlib.font_manager:findfont: score(<Font 'Snell Roundhand' (SnellRoundhand.ttc) normal normal 500 normal>) = 10.145\n",
      "DEBUG:matplotlib.font_manager:findfont: score(<Font 'Helvetica' (Helvetica.ttc) normal normal 400 normal>) = 7.322727272727273\n",
      "DEBUG:matplotlib.font_manager:findfont: score(<Font 'Serto Jerusalem Outline' (SyrCOMJerusalemOutline.otf) normal normal 400 normal>) = 10.05\n",
      "DEBUG:matplotlib.font_manager:findfont: score(<Font 'DIN Alternate' (DIN Alternate Bold.ttf) normal normal 700 normal>) = 10.335\n",
      "DEBUG:matplotlib.font_manager:findfont: score(<Font 'Gujarati Sangam MN' (Gujarati Sangam MN.ttc) normal normal 400 normal>) = 10.05\n",
      "DEBUG:matplotlib.font_manager:findfont: score(<Font 'Serto Batnan' (SyrCOMBatnan.otf) normal normal 400 normal>) = 10.05\n",
      "DEBUG:matplotlib.font_manager:findfont: score(<Font 'Bitstream Vera Serif' (VeraSe.ttf) normal normal 400 normal>) = 10.05\n",
      "DEBUG:matplotlib.font_manager:findfont: score(<Font 'Noto Sans Hanunoo' (NotoSansHanunoo-Regular.ttf) normal normal 400 normal>) = 10.05\n",
      "DEBUG:matplotlib.font_manager:findfont: score(<Font 'Avenir Next Condensed' (Avenir Next Condensed.ttc) normal normal 700 condensed>) = 10.535\n",
      "DEBUG:matplotlib.font_manager:findfont: score(<Font 'Krungthep' (Krungthep.ttf) normal normal 400 normal>) = 10.05\n",
      "DEBUG:matplotlib.font_manager:findfont: score(<Font 'Thonburi' (Thonburi.ttc) normal normal 400 normal>) = 10.05\n",
      "DEBUG:matplotlib.font_manager:findfont: score(<Font 'Noto Sans Armenian' (NotoSansArmenian.ttc) normal normal 900 normal>) = 10.525\n",
      "DEBUG:matplotlib.font_manager:findfont: score(<Font 'Tahoma' (Tahoma Bold.ttf) normal normal 700 normal>) = 10.335\n",
      "DEBUG:matplotlib.font_manager:findfont: score(<Font 'Euphemia UCAS' (EuphemiaCAS.ttc) normal normal 400 normal>) = 10.05\n",
      "DEBUG:matplotlib.font_manager:findfont: score(<Font 'Chalkboard' (Chalkboard.ttc) normal normal 400 normal>) = 10.05\n",
      "DEBUG:matplotlib.font_manager:findfont: score(<Font 'Arial Narrow' (Arial Narrow Italic.ttf) italic normal 400 condensed>) = 11.25\n",
      "DEBUG:matplotlib.font_manager:findfont: score(<Font 'Luxi Serif' (luxirb.ttf) normal normal 700 normal>) = 10.335\n",
      "DEBUG:matplotlib.font_manager:findfont: score(<Font 'Noto Sans Kayah Li' (NotoSansKayahLi-Regular.ttf) normal normal 400 normal>) = 10.05\n",
      "DEBUG:matplotlib.font_manager:findfont: score(<Font 'Andale Mono' (Andale Mono.ttf) normal normal 400 normal>) = 10.05\n",
      "DEBUG:matplotlib.font_manager:findfont: score(<Font 'Galvji' (Galvji.ttc) normal normal 400 normal>) = 10.05\n",
      "DEBUG:matplotlib.font_manager:findfont: score(<Font 'Heiti TC' (STHeiti Medium.ttc) normal normal 400 normal>) = 10.05\n",
      "DEBUG:matplotlib.font_manager:findfont: score(<Font 'STIXIntegralsUpSm' (STIXIntUpSmBol.otf) normal normal 700 normal>) = 10.335\n",
      "DEBUG:matplotlib.font_manager:findfont: score(<Font 'Al Tarikh' (Al Tarikh.ttc) normal normal 400 normal>) = 10.05\n",
      "DEBUG:matplotlib.font_manager:findfont: score(<Font 'Arial' (Arial.ttf) normal normal 400 normal>) = 6.413636363636363\n",
      "DEBUG:matplotlib.font_manager:findfont: score(<Font 'Bitstream Vera Sans Mono' (VeraMoBI.ttf) oblique normal 700 normal>) = 11.335\n",
      "DEBUG:matplotlib.font_manager:findfont: score(<Font 'Mukta Mahee' (MuktaMahee.ttc) normal normal 400 normal>) = 10.05\n",
      "DEBUG:matplotlib.font_manager:findfont: score(<Font '.SF NS Rounded' (SFNSRounded.ttf) normal normal 400 normal>) = 10.05\n",
      "DEBUG:matplotlib.font_manager:findfont: score(<Font 'Noto Sans Bhaiksuki' (NotoSansBhaiksuki-Regular.ttf) normal normal 400 normal>) = 10.05\n",
      "DEBUG:matplotlib.font_manager:findfont: score(<Font 'Kefa' (Kefa.ttc) normal normal 400 normal>) = 10.05\n",
      "DEBUG:matplotlib.font_manager:findfont: score(<Font 'Hiragino Sans GB' (Hiragino Sans GB.ttc) normal normal 300 normal>) = 10.145\n",
      "DEBUG:matplotlib.font_manager:findfont: score(<Font 'Mshtakan' (Mshtakan.ttc) normal normal 400 normal>) = 10.05\n",
      "DEBUG:matplotlib.font_manager:findfont: Matching sans\\-serif:style=normal:variant=normal:weight=normal:stretch=normal:size=10.0 to DejaVu Sans ('/opt/anaconda3/envs/mne/lib/python3.9/site-packages/matplotlib/mpl-data/fonts/ttf/DejaVuSans.ttf') with score of 0.050000.\n",
      "DEBUG:matplotlib.backends.backend_pdf:Assigning font /b'F1' = '/opt/anaconda3/envs/mne/lib/python3.9/site-packages/matplotlib/mpl-data/fonts/ttf/DejaVuSans.ttf'\n",
      "DEBUG:matplotlib.backends.backend_pdf:Embedding font /opt/anaconda3/envs/mne/lib/python3.9/site-packages/matplotlib/mpl-data/fonts/ttf/DejaVuSans.ttf.\n",
      "DEBUG:matplotlib.backends.backend_pdf:Writing TrueType font.\n"
     ]
    },
    {
     "name": "stdout",
     "output_type": "stream",
     "text": [
      "['eeg', 'eeg']\n",
      "Creating RawArray with float64 data, n_channels=64, n_times=10\n",
      "    Range : 0 ... 9 =      0.000 ...     0.070 secs\n",
      "Ready.\n"
     ]
    },
    {
     "name": "stderr",
     "output_type": "stream",
     "text": [
      "/Users/maansidesai/Desktop/git/audiovisual_trailers/analysis/mTRF.py:652: RuntimeWarning: Fiducial point nasion not found, assuming identity unknown to head transformation\n",
      "  raw2.set_montage(montage) #set path for MNE montage file\n",
      "/opt/anaconda3/envs/mne/lib/python3.9/site-packages/mne/viz/topomap.py:469: DeprecationWarning: Please use `Delaunay` from the `scipy.spatial` namespace, the `scipy.spatial.qhull` namespace is deprecated.\n",
      "  from scipy.spatial.qhull import Delaunay\n"
     ]
    },
    {
     "data": {
      "text/plain": [
       "<Figure size 1080x216 with 0 Axes>"
      ]
     },
     "metadata": {},
     "output_type": "display_data"
    },
    {
     "data": {
      "image/png": "[encoded data removed]",
      "text/plain": [
       "<Figure size 720x360 with 3 Axes>"
      ]
     },
     "metadata": {
      "needs_background": "light"
     },
     "output_type": "display_data"
    },
    {
     "data": {
      "image/png": "[encoded data removed]",
      "text/plain": [
       "<Figure size 432x288 with 1 Axes>"
      ]
     },
     "metadata": {
      "needs_background": "light"
     },
     "output_type": "display_data"
    },
    {
     "data": {
      "text/plain": [
       "<Figure size 432x288 with 0 Axes>"
      ]
     },
     "metadata": {},
     "output_type": "display_data"
    },
    {
     "data": {
      "image/png": "[encoded data removed]",
      "text/plain": [
       "<Figure size 1080x216 with 1 Axes>"
      ]
     },
     "metadata": {
      "needs_background": "light"
     },
     "output_type": "display_data"
    },
    {
     "data": {
      "image/png": "[encoded data removed]",
      "text/plain": [
       "<Figure size 360x360 with 1 Axes>"
      ]
     },
     "metadata": {},
     "output_type": "display_data"
    },
    {
     "name": "stderr",
     "output_type": "stream",
     "text": [
      "DEBUG:matplotlib.font_manager:findfont: Matching sans\\-serif:style=normal:variant=normal:weight=normal:stretch=normal:size=12.0.\n",
      "DEBUG:matplotlib.font_manager:findfont: score(<Font 'STIXSizeThreeSym' (STIXSizThreeSymReg.ttf) normal normal 400 normal>) = 10.05\n",
      "DEBUG:matplotlib.font_manager:findfont: score(<Font 'cmb10' (cmb10.ttf) normal normal 400 normal>) = 10.05\n",
      "DEBUG:matplotlib.font_manager:findfont: score(<Font 'cmr10' (cmr10.ttf) normal normal 400 normal>) = 10.05\n",
      "DEBUG:matplotlib.font_manager:findfont: score(<Font 'DejaVu Sans Mono' (DejaVuSansMono.ttf) normal normal 400 normal>) = 10.05\n",
      "DEBUG:matplotlib.font_manager:findfont: score(<Font 'DejaVu Sans Mono' (DejaVuSansMono-Bold.ttf) normal normal 700 normal>) = 10.335\n",
      "DEBUG:matplotlib.font_manager:findfont: score(<Font 'STIXGeneral' (STIXGeneralBol.ttf) normal normal 700 normal>) = 10.335\n",
      "DEBUG:matplotlib.font_manager:findfont: score(<Font 'DejaVu Serif' (DejaVuSerif-Bold.ttf) normal normal 700 normal>) = 10.335\n",
      "DEBUG:matplotlib.font_manager:findfont: score(<Font 'STIXNonUnicode' (STIXNonUni.ttf) normal normal 400 normal>) = 10.05\n",
      "DEBUG:matplotlib.font_manager:findfont: score(<Font 'DejaVu Sans Display' (DejaVuSansDisplay.ttf) normal normal 400 normal>) = 10.05\n",
      "DEBUG:matplotlib.font_manager:findfont: score(<Font 'cmtt10' (cmtt10.ttf) normal normal 400 normal>) = 10.05\n",
      "DEBUG:matplotlib.font_manager:findfont: score(<Font 'STIXSizeOneSym' (STIXSizOneSymReg.ttf) normal normal 400 normal>) = 10.05\n",
      "DEBUG:matplotlib.font_manager:findfont: score(<Font 'DejaVu Sans Mono' (DejaVuSansMono-Oblique.ttf) oblique normal 400 normal>) = 11.05\n",
      "DEBUG:matplotlib.font_manager:findfont: score(<Font 'STIXSizeTwoSym' (STIXSizTwoSymReg.ttf) normal normal 400 normal>) = 10.05\n",
      "DEBUG:matplotlib.font_manager:findfont: score(<Font 'cmsy10' (cmsy10.ttf) normal normal 400 normal>) = 10.05\n",
      "DEBUG:matplotlib.font_manager:findfont: score(<Font 'STIXNonUnicode' (STIXNonUniBolIta.ttf) italic normal 700 normal>) = 11.335\n",
      "DEBUG:matplotlib.font_manager:findfont: score(<Font 'STIXSizeOneSym' (STIXSizOneSymBol.ttf) normal normal 700 normal>) = 10.335\n",
      "DEBUG:matplotlib.font_manager:findfont: score(<Font 'STIXSizeFourSym' (STIXSizFourSymReg.ttf) normal normal 400 normal>) = 10.05\n",
      "DEBUG:matplotlib.font_manager:findfont: score(<Font 'DejaVu Serif' (DejaVuSerif-BoldItalic.ttf) italic normal 700 normal>) = 11.335\n",
      "DEBUG:matplotlib.font_manager:findfont: score(<Font 'STIXSizeTwoSym' (STIXSizTwoSymBol.ttf) normal normal 700 normal>) = 10.335\n",
      "DEBUG:matplotlib.font_manager:findfont: score(<Font 'cmex10' (cmex10.ttf) normal normal 400 normal>) = 10.05\n",
      "DEBUG:matplotlib.font_manager:findfont: score(<Font 'STIXGeneral' (STIXGeneralItalic.ttf) italic normal 400 normal>) = 11.05\n",
      "DEBUG:matplotlib.font_manager:findfont: score(<Font 'STIXNonUnicode' (STIXNonUniBol.ttf) normal normal 700 normal>) = 10.335\n",
      "DEBUG:matplotlib.font_manager:findfont: score(<Font 'DejaVu Serif' (DejaVuSerif-Italic.ttf) italic normal 400 normal>) = 11.05\n",
      "DEBUG:matplotlib.font_manager:findfont: score(<Font 'DejaVu Sans Mono' (DejaVuSansMono-BoldOblique.ttf) oblique normal 700 normal>) = 11.335\n",
      "DEBUG:matplotlib.font_manager:findfont: score(<Font 'cmss10' (cmss10.ttf) normal normal 400 normal>) = 10.05\n",
      "DEBUG:matplotlib.font_manager:findfont: score(<Font 'STIXSizeThreeSym' (STIXSizThreeSymBol.ttf) normal normal 700 normal>) = 10.335\n",
      "DEBUG:matplotlib.font_manager:findfont: score(<Font 'DejaVu Sans' (DejaVuSans-Oblique.ttf) oblique normal 400 normal>) = 1.05\n",
      "DEBUG:matplotlib.font_manager:findfont: score(<Font 'STIXSizeFiveSym' (STIXSizFiveSymReg.ttf) normal normal 400 normal>) = 10.05\n",
      "DEBUG:matplotlib.font_manager:findfont: score(<Font 'DejaVu Sans' (DejaVuSans.ttf) normal normal 400 normal>) = 0.05\n",
      "DEBUG:matplotlib.font_manager:findfont: score(<Font 'DejaVu Sans' (DejaVuSans-BoldOblique.ttf) oblique normal 700 normal>) = 1.335\n",
      "DEBUG:matplotlib.font_manager:findfont: score(<Font 'STIXSizeFourSym' (STIXSizFourSymBol.ttf) normal normal 700 normal>) = 10.335\n",
      "DEBUG:matplotlib.font_manager:findfont: score(<Font 'DejaVu Serif' (DejaVuSerif.ttf) normal normal 400 normal>) = 10.05\n",
      "DEBUG:matplotlib.font_manager:findfont: score(<Font 'STIXGeneral' (STIXGeneral.ttf) normal normal 400 normal>) = 10.05\n",
      "DEBUG:matplotlib.font_manager:findfont: score(<Font 'cmmi10' (cmmi10.ttf) normal normal 400 normal>) = 10.05\n",
      "DEBUG:matplotlib.font_manager:findfont: score(<Font 'DejaVu Serif Display' (DejaVuSerifDisplay.ttf) normal normal 400 normal>) = 10.05\n",
      "DEBUG:matplotlib.font_manager:findfont: score(<Font 'STIXNonUnicode' (STIXNonUniIta.ttf) italic normal 400 normal>) = 11.05\n",
      "DEBUG:matplotlib.font_manager:findfont: score(<Font 'STIXGeneral' (STIXGeneralBolIta.ttf) italic normal 700 normal>) = 11.335\n",
      "DEBUG:matplotlib.font_manager:findfont: score(<Font 'DejaVu Sans' (DejaVuSans-Bold.ttf) normal normal 700 normal>) = 0.33499999999999996\n",
      "DEBUG:matplotlib.font_manager:findfont: score(<Font 'Luxi Sans' (luxisbi.ttf) oblique normal 700 normal>) = 11.335\n",
      "DEBUG:matplotlib.font_manager:findfont: score(<Font 'STIXSizeThreeSym' (STIXSizThreeSymBol.otf) normal normal 700 normal>) = 10.335\n",
      "DEBUG:matplotlib.font_manager:findfont: score(<Font 'Courier New' (Courier New.ttf) normal normal 400 normal>) = 10.05\n",
      "DEBUG:matplotlib.font_manager:findfont: score(<Font 'Noto Sans Miao' (NotoSansMiao-Regular.ttf) normal normal 400 normal>) = 10.05\n",
      "DEBUG:matplotlib.font_manager:findfont: score(<Font 'Heiti TC' (STHeiti Light.ttc) normal normal 300 normal>) = 10.145\n",
      "DEBUG:matplotlib.font_manager:findfont: score(<Font 'Nadeem' (Nadeem.ttc) normal normal 400 normal>) = 10.05\n",
      "DEBUG:matplotlib.font_manager:findfont: score(<Font 'Noto Sans Old South Arabian' (NotoSansOldSouthArabian-Regular.ttf) normal normal 400 normal>) = 10.05\n",
      "DEBUG:matplotlib.font_manager:findfont: score(<Font 'Trebuchet MS' (Trebuchet MS.ttf) normal normal 400 normal>) = 10.05\n",
      "DEBUG:matplotlib.font_manager:findfont: score(<Font 'Bodoni 72 Oldstyle' (Bodoni 72 OS.ttc) normal normal 400 normal>) = 10.05\n",
      "DEBUG:matplotlib.font_manager:findfont: score(<Font 'Telugu MN' (Telugu MN.ttc) normal normal 400 normal>) = 10.05\n",
      "DEBUG:matplotlib.font_manager:findfont: score(<Font 'Noto Sans Javanese' (NotoSansJavanese-Regular.otf) normal normal 400 normal>) = 10.05\n",
      "DEBUG:matplotlib.font_manager:findfont: score(<Font 'Noto Serif Ahom' (NotoSerifAhom-Regular.ttf) normal normal 400 normal>) = 10.05\n",
      "DEBUG:matplotlib.font_manager:findfont: score(<Font 'Comic Sans MS' (Comic Sans MS.ttf) normal normal 400 normal>) = 10.05\n",
      "DEBUG:matplotlib.font_manager:findfont: score(<Font 'Noto Sans Yi' (NotoSansYi-Regular.ttf) normal normal 400 normal>) = 10.05\n",
      "DEBUG:matplotlib.font_manager:findfont: score(<Font 'STIXVariants' (STIXVarBol.otf) normal normal 700 normal>) = 10.335\n",
      "DEBUG:matplotlib.font_manager:findfont: score(<Font 'Apple SD Gothic Neo' (AppleSDGothicNeo.ttc) normal normal 400 normal>) = 10.05\n",
      "DEBUG:matplotlib.font_manager:findfont: score(<Font 'Apple Symbols' (Apple Symbols.ttf) normal normal 400 normal>) = 10.05\n",
      "DEBUG:matplotlib.font_manager:findfont: score(<Font 'Chalkduster' (Chalkduster.ttf) normal normal 400 normal>) = 10.05\n",
      "DEBUG:matplotlib.font_manager:findfont: score(<Font 'STIXSizeFourSym' (STIXSizFourSymReg.otf) normal normal 400 normal>) = 10.05\n",
      "DEBUG:matplotlib.font_manager:findfont: score(<Font 'Kohinoor Telugu' (KohinoorTelugu.ttc) normal normal 400 normal>) = 10.05\n",
      "DEBUG:matplotlib.font_manager:findfont: score(<Font 'Raanana' (Raanana.ttc) normal normal 400 normal>) = 10.05\n",
      "DEBUG:matplotlib.font_manager:findfont: score(<Font 'Noto Sans Mende Kikakui' (NotoSansMendeKikakui-Regular.ttf) normal normal 400 normal>) = 10.05\n",
      "DEBUG:matplotlib.font_manager:findfont: score(<Font 'Farah' (Farah.ttc) normal normal 400 normal>) = 10.05\n",
      "DEBUG:matplotlib.font_manager:findfont: score(<Font 'STIXIntegralsUp' (STIXIntUpReg.otf) normal normal 400 normal>) = 10.05\n",
      "DEBUG:matplotlib.font_manager:findfont: score(<Font 'Noto Sans Old North Arabian' (NotoSansOldNorthArabian-Regular.ttf) normal normal 400 normal>) = 10.05\n",
      "DEBUG:matplotlib.font_manager:findfont: score(<Font 'Gurmukhi Sangam MN' (Gurmukhi Sangam MN.ttc) normal normal 400 normal>) = 10.05\n",
      "DEBUG:matplotlib.font_manager:findfont: score(<Font 'Noto Sans Meroitic' (NotoSansMeroitic-Regular.ttf) normal normal 400 normal>) = 10.05\n"
     ]
    },
    {
     "name": "stdout",
     "output_type": "stream",
     "text": [
      "(1, 1232, 64)\n",
      "Saving file to /Users/maansidesai/Box/MovieTrailersTask/Data/EEG/Participants//MT0028/MT0028_STRF_by_mouthing_phnfeat_AV.hf5\n"
     ]
    },
    {
     "name": "stderr",
     "output_type": "stream",
     "text": [
      "DEBUG:matplotlib.font_manager:findfont: score(<Font 'Verdana' (Verdana Bold Italic.ttf) italic normal 700 normal>) = 4.971363636363637\n",
      "DEBUG:matplotlib.font_manager:findfont: score(<Font 'Noto Nastaliq Urdu' (NotoNastaliq.ttc) normal normal 400 normal>) = 10.05\n",
      "DEBUG:matplotlib.font_manager:findfont: score(<Font 'Hiragino Sans' (ヒラギノ角ゴシック W6.ttc) normal normal 600 normal>) = 10.24\n",
      "DEBUG:matplotlib.font_manager:findfont: score(<Font '.SF Compact Rounded' (SFCompactRounded.ttf) normal normal 400 normal>) = 10.05\n",
      "DEBUG:matplotlib.font_manager:findfont: score(<Font 'Noto Sans Shavian' (NotoSansShavian-Regular.ttf) normal normal 400 normal>) = 10.05\n",
      "DEBUG:matplotlib.font_manager:findfont: score(<Font 'Noto Sans Takri' (NotoSansTakri-Regular.ttf) normal normal 400 normal>) = 10.05\n",
      "DEBUG:matplotlib.font_manager:findfont: score(<Font '.New York' (NewYork.ttf) normal normal 400 normal>) = 10.05\n",
      "DEBUG:matplotlib.font_manager:findfont: score(<Font 'Noto Sans Hatran' (NotoSansHatran-Regular.ttf) normal normal 400 normal>) = 10.05\n",
      "DEBUG:matplotlib.font_manager:findfont: score(<Font 'Times' (Times.ttc) normal normal 400 normal>) = 10.05\n",
      "DEBUG:matplotlib.font_manager:findfont: score(<Font 'Superclarendon' (SuperClarendon.ttc) normal normal 400 normal>) = 10.05\n",
      "DEBUG:matplotlib.font_manager:findfont: score(<Font 'Farisi' (Farisi.ttf) normal normal 400 normal>) = 10.05\n",
      "DEBUG:matplotlib.font_manager:findfont: score(<Font 'PT Sans' (PTSans.ttc) normal normal 400 normal>) = 10.05\n",
      "DEBUG:matplotlib.font_manager:findfont: score(<Font 'Sukhumvit Set' (SukhumvitSet.ttc) normal normal 250 normal>) = 10.1925\n",
      "DEBUG:matplotlib.font_manager:findfont: score(<Font 'Bodoni 72' (Bodoni 72.ttc) normal normal 400 normal>) = 10.05\n",
      "DEBUG:matplotlib.font_manager:findfont: score(<Font 'Serto Batnan' (SyrCOMBatnanBold.otf) normal normal 700 normal>) = 10.335\n",
      "DEBUG:matplotlib.font_manager:findfont: score(<Font 'Noto Sans Warang Citi' (NotoSansWarangCiti-Regular.ttf) normal normal 400 normal>) = 10.05\n",
      "DEBUG:matplotlib.font_manager:findfont: score(<Font 'Noto Sans Tai Viet' (NotoSansTaiViet-Regular.ttf) normal normal 400 normal>) = 10.05\n",
      "DEBUG:matplotlib.font_manager:findfont: score(<Font 'Microsoft Sans Serif' (Microsoft Sans Serif.ttf) normal normal 400 normal>) = 10.05\n",
      "DEBUG:matplotlib.font_manager:findfont: score(<Font 'Luxi Serif' (luxirbi.ttf) oblique normal 700 normal>) = 11.335\n",
      "DEBUG:matplotlib.font_manager:findfont: score(<Font 'Verdana' (Verdana.ttf) normal normal 400 normal>) = 3.6863636363636365\n",
      "DEBUG:matplotlib.font_manager:findfont: score(<Font 'Noto Sans Ogham' (NotoSansOgham-Regular.ttf) normal normal 400 normal>) = 10.05\n",
      "DEBUG:matplotlib.font_manager:findfont: score(<Font 'Zapfino' (Zapfino.ttf) normal normal 400 normal>) = 10.05\n",
      "DEBUG:matplotlib.font_manager:findfont: score(<Font 'Noto Sans Vai' (NotoSansVai-Regular.ttf) normal normal 400 normal>) = 10.05\n",
      "DEBUG:matplotlib.font_manager:findfont: score(<Font 'Noto Sans Duployan' (NotoSansDuployan-Regular.ttf) normal normal 400 normal>) = 10.05\n",
      "DEBUG:matplotlib.font_manager:findfont: score(<Font 'Sathu' (Sathu.ttf) normal normal 400 normal>) = 10.05\n",
      "DEBUG:matplotlib.font_manager:findfont: score(<Font 'Verdana' (Verdana Italic.ttf) italic normal 400 normal>) = 4.6863636363636365\n",
      "DEBUG:matplotlib.font_manager:findfont: score(<Font 'Sana' (Sana.ttc) normal normal 400 normal>) = 10.05\n",
      "DEBUG:matplotlib.font_manager:findfont: score(<Font 'Hoefler Text' (Hoefler Text Ornaments.ttf) normal normal 400 normal>) = 10.05\n",
      "DEBUG:matplotlib.font_manager:findfont: score(<Font 'Songti SC' (Songti.ttc) normal normal 900 normal>) = 10.525\n",
      "DEBUG:matplotlib.font_manager:findfont: score(<Font 'Noto Sans Gothic' (NotoSansGothic-Regular.ttf) normal normal 400 normal>) = 10.05\n",
      "DEBUG:matplotlib.font_manager:findfont: score(<Font 'Arial' (Arial Bold.ttf) normal normal 700 normal>) = 6.698636363636363\n",
      "DEBUG:matplotlib.font_manager:findfont: score(<Font 'Luxi Serif' (luxirri.ttf) oblique normal 400 normal>) = 11.05\n",
      "DEBUG:matplotlib.font_manager:findfont: score(<Font 'STIXGeneral' (STIXGeneral.otf) normal normal 400 normal>) = 10.05\n",
      "DEBUG:matplotlib.font_manager:findfont: score(<Font 'Serto Jerusalem' (SyrCOMJerusalemItalic.otf) italic normal 400 normal>) = 11.05\n",
      "DEBUG:matplotlib.font_manager:findfont: score(<Font 'Noto Sans Khudawadi' (NotoSansKhudawadi-Regular.ttf) normal normal 400 normal>) = 10.05\n",
      "DEBUG:matplotlib.font_manager:findfont: score(<Font 'Bradley Hand' (Bradley Hand Bold.ttf) normal normal 700 normal>) = 10.335\n",
      "DEBUG:matplotlib.font_manager:findfont: score(<Font 'Trebuchet MS' (Trebuchet MS Italic.ttf) italic normal 400 normal>) = 11.05\n",
      "DEBUG:matplotlib.font_manager:findfont: score(<Font 'Noteworthy' (Noteworthy.ttc) normal normal 300 normal>) = 10.145\n",
      "DEBUG:matplotlib.font_manager:findfont: score(<Font 'Athelas' (Athelas.ttc) normal normal 400 normal>) = 10.05\n",
      "DEBUG:matplotlib.font_manager:findfont: score(<Font 'Tamil MN' (Tamil MN.ttc) normal normal 400 normal>) = 10.05\n",
      "DEBUG:matplotlib.font_manager:findfont: score(<Font 'Noto Sans Old Turkic' (NotoSansOldTurkic-Regular.ttf) normal normal 400 normal>) = 10.05\n",
      "DEBUG:matplotlib.font_manager:findfont: score(<Font 'Gurmukhi MT' (Gurmukhi.ttf) normal normal 500 normal>) = 10.145\n",
      "DEBUG:matplotlib.font_manager:findfont: score(<Font 'Noto Sans Newa' (NotoSansNewa-Regular.ttf) normal normal 400 normal>) = 10.05\n",
      "DEBUG:matplotlib.font_manager:findfont: score(<Font 'Hiragino Sans' (ヒラギノ角ゴシック W5.ttc) normal normal 500 normal>) = 10.145\n",
      "DEBUG:matplotlib.font_manager:findfont: score(<Font 'DecoType Naskh' (DecoTypeNaskh.ttc) normal normal 400 normal>) = 10.05\n",
      "DEBUG:matplotlib.font_manager:findfont: score(<Font 'Arial Unicode MS' (Arial Unicode.ttf) normal normal 400 normal>) = 10.05\n",
      "DEBUG:matplotlib.font_manager:findfont: score(<Font 'STIXIntegralsUpD' (STIXIntUpDReg.otf) normal normal 400 normal>) = 10.05\n",
      "DEBUG:matplotlib.font_manager:findfont: score(<Font 'Noto Sans Avestan' (NotoSansAvestan-Regular.ttf) normal normal 400 normal>) = 10.05\n",
      "DEBUG:matplotlib.font_manager:findfont: score(<Font 'Noto Sans Buginese' (NotoSansBuginese-Regular.ttf) normal normal 400 normal>) = 10.05\n",
      "DEBUG:matplotlib.font_manager:findfont: score(<Font 'Luxi Serif' (luxirr.ttf) normal normal 400 normal>) = 10.05\n",
      "DEBUG:matplotlib.font_manager:findfont: score(<Font 'Iowan Old Style' (Iowan Old Style.ttc) normal normal 400 normal>) = 10.05\n",
      "DEBUG:matplotlib.font_manager:findfont: score(<Font 'Serto Jerusalem' (SyrCOMJerusalem.otf) normal normal 400 normal>) = 10.05\n",
      "DEBUG:matplotlib.font_manager:findfont: score(<Font 'Bangla Sangam MN' (Bangla Sangam MN.ttc) normal normal 400 normal>) = 10.05\n",
      "DEBUG:matplotlib.font_manager:findfont: score(<Font 'Noto Sans Imperial Aramaic' (NotoSansImperialAramaic-Regular.ttf) normal normal 400 normal>) = 10.05\n",
      "DEBUG:matplotlib.font_manager:findfont: score(<Font 'Noto Sans Chakma' (NotoSansChakma-Regular.ttf) normal normal 400 normal>) = 10.05\n",
      "DEBUG:matplotlib.font_manager:findfont: score(<Font 'Gurmukhi MN' (Gurmukhi MN.ttc) normal normal 400 normal>) = 10.05\n",
      "DEBUG:matplotlib.font_manager:findfont: score(<Font 'Arial Narrow' (Arial Narrow Bold Italic.ttf) italic normal 700 condensed>) = 11.535\n",
      "DEBUG:matplotlib.font_manager:findfont: score(<Font 'Hiragino Mincho ProN' (ヒラギノ明朝 ProN.ttc) normal normal 300 normal>) = 10.145\n",
      "DEBUG:matplotlib.font_manager:findfont: score(<Font 'Sinhala Sangam MN' (Sinhala Sangam MN.ttc) normal normal 400 normal>) = 10.05\n",
      "DEBUG:matplotlib.font_manager:findfont: score(<Font 'STIXIntegralsUpSm' (STIXIntUpSmReg.otf) normal normal 400 normal>) = 10.05\n",
      "DEBUG:matplotlib.font_manager:findfont: score(<Font 'Arial Narrow' (Arial Narrow.ttf) normal normal 400 condensed>) = 10.25\n",
      "DEBUG:matplotlib.font_manager:findfont: score(<Font 'STIXGeneral' (STIXGeneralBolIta.otf) italic normal 700 normal>) = 11.335\n",
      "DEBUG:matplotlib.font_manager:findfont: score(<Font 'STIXSizeTwoSym' (STIXSizTwoSymBol.otf) normal normal 700 normal>) = 10.335\n",
      "DEBUG:matplotlib.font_manager:findfont: score(<Font 'New Peninim MT' (NewPeninimMT.ttc) normal normal 400 normal>) = 10.05\n",
      "DEBUG:matplotlib.font_manager:findfont: score(<Font 'Noto Sans Modi' (NotoSansModi-Regular.ttf) normal normal 400 normal>) = 10.05\n",
      "DEBUG:matplotlib.font_manager:findfont: score(<Font 'Noto Sans Mandaic' (NotoSansMandaic-Regular.ttf) normal normal 400 normal>) = 10.05\n",
      "DEBUG:matplotlib.font_manager:findfont: score(<Font 'System Font' (SFNSItalic.ttf) italic normal 400 normal>) = 11.05\n",
      "DEBUG:matplotlib.font_manager:findfont: score(<Font 'InaiMathi' (InaiMathi-MN.ttc) normal normal 400 normal>) = 10.05\n",
      "DEBUG:matplotlib.font_manager:findfont: score(<Font 'Verdana' (Verdana Bold.ttf) normal normal 700 normal>) = 3.9713636363636367\n",
      "DEBUG:matplotlib.font_manager:findfont: score(<Font 'Bodoni Ornaments' (Bodoni Ornaments.ttf) normal normal 400 normal>) = 10.05\n",
      "DEBUG:matplotlib.font_manager:findfont: score(<Font 'Academy Engraved LET' (Academy Engraved LET Fonts.ttf) normal normal 400 normal>) = 10.05\n",
      "DEBUG:matplotlib.font_manager:findfont: score(<Font 'Noto Sans PhagsPa' (NotoSansPhagsPa-Regular.ttf) normal normal 400 normal>) = 10.05\n",
      "DEBUG:matplotlib.font_manager:findfont: score(<Font 'Courier New' (Courier New Bold Italic.ttf) italic normal 700 normal>) = 11.335\n",
      "DEBUG:matplotlib.font_manager:findfont: score(<Font 'Futura' (Futura.ttc) normal normal 500 normal>) = 10.145\n",
      "DEBUG:matplotlib.font_manager:findfont: score(<Font 'Marion' (Marion.ttc) normal normal 400 normal>) = 10.05\n",
      "DEBUG:matplotlib.font_manager:findfont: score(<Font 'Noto Sans Egyptian Hieroglyphs' (NotoSansEgyptianHieroglyphs-Regular.ttf) normal normal 400 normal>) = 10.05\n",
      "DEBUG:matplotlib.font_manager:findfont: score(<Font 'Sinhala MN' (Sinhala MN.ttc) normal normal 400 normal>) = 10.05\n",
      "DEBUG:matplotlib.font_manager:findfont: score(<Font 'Myanmar MN' (Myanmar MN.ttc) normal normal 400 normal>) = 10.05\n",
      "DEBUG:matplotlib.font_manager:findfont: score(<Font 'Hiragino Sans' (ヒラギノ角ゴシック W7.ttc) normal normal 700 normal>) = 10.335\n",
      "DEBUG:matplotlib.font_manager:findfont: score(<Font 'Noto Sans Old Hungarian' (NotoSansOldHungarian-Regular.ttf) normal normal 400 normal>) = 10.05\n",
      "DEBUG:matplotlib.font_manager:findfont: score(<Font 'Al Nile' (Al Nile.ttc) normal normal 400 normal>) = 10.05\n",
      "DEBUG:matplotlib.font_manager:findfont: score(<Font 'Gill Sans' (GillSans.ttc) normal normal 400 normal>) = 10.05\n",
      "DEBUG:matplotlib.font_manager:findfont: score(<Font 'Times New Roman' (Times New Roman.ttf) normal normal 400 normal>) = 10.05\n",
      "DEBUG:matplotlib.font_manager:findfont: score(<Font 'Noto Sans Manichaean' (NotoSansManichaean-Regular.ttf) normal normal 400 normal>) = 10.05\n",
      "DEBUG:matplotlib.font_manager:findfont: score(<Font 'Bitstream Vera Sans Mono' (VeraMoIt.ttf) oblique normal 400 normal>) = 11.05\n",
      "DEBUG:matplotlib.font_manager:findfont: score(<Font 'Muna' (Muna.ttc) normal normal 400 normal>) = 10.05\n",
      "DEBUG:matplotlib.font_manager:findfont: score(<Font 'Noto Sans Sora Sompeng' (NotoSansSoraSompeng-Regular.ttf) normal normal 400 normal>) = 10.05\n",
      "DEBUG:matplotlib.font_manager:findfont: score(<Font 'STIXSizeFourSym' (STIXSizFourSymBol.otf) normal normal 700 normal>) = 10.335\n",
      "DEBUG:matplotlib.font_manager:findfont: score(<Font 'Hiragino Sans' (ヒラギノ角ゴシック W3.ttc) normal normal 300 normal>) = 10.145\n",
      "DEBUG:matplotlib.font_manager:findfont: score(<Font 'Arial Hebrew' (ArialHB.ttc) normal normal 400 normal>) = 10.05\n",
      "DEBUG:matplotlib.font_manager:findfont: score(<Font 'Luxi Sans' (luxisb.ttf) normal normal 700 normal>) = 10.335\n",
      "DEBUG:matplotlib.font_manager:findfont: score(<Font 'Times New Roman' (Times New Roman Bold Italic.ttf) italic normal 700 normal>) = 11.335\n",
      "DEBUG:matplotlib.font_manager:findfont: score(<Font 'PT Mono' (PTMono.ttc) normal normal 700 normal>) = 10.335\n",
      "DEBUG:matplotlib.font_manager:findfont: score(<Font 'Noto Sans Pau Cin Hau' (NotoSansPauCinHau-Regular.ttf) normal normal 400 normal>) = 10.05\n",
      "DEBUG:matplotlib.font_manager:findfont: score(<Font 'Devanagari MT' (DevanagariMT.ttc) normal normal 400 normal>) = 10.05\n",
      "DEBUG:matplotlib.font_manager:findfont: score(<Font 'Noto Sans Old Italic' (NotoSansOldItalic-Regular.ttf) italic normal 400 normal>) = 11.05\n",
      "DEBUG:matplotlib.font_manager:findfont: score(<Font 'Serto Urhoy' (SyrCOMUrhoy.otf) normal normal 400 normal>) = 10.05\n",
      "DEBUG:matplotlib.font_manager:findfont: score(<Font 'Serto Malankara' (SyrCOMMalankara.otf) normal normal 400 normal>) = 10.05\n",
      "DEBUG:matplotlib.font_manager:findfont: score(<Font 'Noto Sans Old Persian' (NotoSansOldPersian-Regular.ttf) normal normal 400 normal>) = 10.05\n",
      "DEBUG:matplotlib.font_manager:findfont: score(<Font 'Lao MN' (Lao MN.ttc) normal normal 400 normal>) = 10.05\n",
      "DEBUG:matplotlib.font_manager:findfont: score(<Font 'Rockwell' (Rockwell.ttc) normal normal 400 normal>) = 10.05\n",
      "DEBUG:matplotlib.font_manager:findfont: score(<Font 'ITF Devanagari' (ITFDevanagari.ttc) normal normal 400 normal>) = 10.05\n",
      "DEBUG:matplotlib.font_manager:findfont: score(<Font 'Noto Serif Myanmar' (NotoSerifMyanmar.ttc) normal normal 900 normal>) = 10.525\n",
      "DEBUG:matplotlib.font_manager:findfont: score(<Font 'Noto Sans Phoenician' (NotoSansPhoenician-Regular.ttf) normal normal 400 normal>) = 10.05\n",
      "DEBUG:matplotlib.font_manager:findfont: score(<Font 'Noto Sans Limbu' (NotoSansLimbu-Regular.ttf) normal normal 400 normal>) = 10.05\n",
      "DEBUG:matplotlib.font_manager:findfont: score(<Font 'Malayalam MN' (Malayalam MN.ttc) normal normal 400 normal>) = 10.05\n",
      "DEBUG:matplotlib.font_manager:findfont: score(<Font 'Noto Sans Syloti Nagri' (NotoSansSylotiNagri-Regular.ttf) normal normal 400 normal>) = 10.05\n",
      "DEBUG:matplotlib.font_manager:findfont: score(<Font 'STIXVariants' (STIXVar.otf) normal normal 400 normal>) = 10.05\n",
      "DEBUG:matplotlib.font_manager:findfont: score(<Font 'American Typewriter' (AmericanTypewriter.ttc) normal normal 400 normal>) = 10.05\n",
      "DEBUG:matplotlib.font_manager:findfont: score(<Font 'Luxi Mono' (luximbi.ttf) oblique normal 700 normal>) = 11.335\n",
      "DEBUG:matplotlib.font_manager:findfont: score(<Font 'East Syriac Adiabene' (SyrCOMAdiabene.otf) normal normal 400 normal>) = 10.05\n",
      "DEBUG:matplotlib.font_manager:findfont: score(<Font '.Aqua Kana' (AquaKana.ttc) normal normal 300 normal>) = 10.145\n",
      "DEBUG:matplotlib.font_manager:findfont: score(<Font 'Hiragino Sans' (ヒラギノ角ゴシック W8.ttc) normal normal 800 normal>) = 10.43\n",
      "DEBUG:matplotlib.font_manager:findfont: score(<Font 'Noto Sans NKo' (NotoSansNKo-Regular.ttf) normal normal 400 normal>) = 10.05\n",
      "DEBUG:matplotlib.font_manager:findfont: score(<Font 'Noto Sans Cypriot' (NotoSansCypriot-Regular.ttf) normal normal 400 normal>) = 10.05\n",
      "DEBUG:matplotlib.font_manager:findfont: score(<Font 'PT Serif Caption' (PTSerifCaption.ttc) normal normal 400 normal>) = 10.05\n",
      "DEBUG:matplotlib.font_manager:findfont: score(<Font 'Noto Serif Balinese' (NotoSerifBalinese-Regular.ttf) normal normal 400 normal>) = 10.05\n",
      "DEBUG:matplotlib.font_manager:findfont: score(<Font 'Noto Sans Thaana' (NotoSansThaana-Regular.ttf) normal normal 400 normal>) = 10.05\n",
      "DEBUG:matplotlib.font_manager:findfont: score(<Font 'Savoye LET' (Savoye LET.ttc) normal normal 400 normal>) = 10.05\n",
      "DEBUG:matplotlib.font_manager:findfont: score(<Font 'Avenir Next' (Avenir Next.ttc) normal normal 700 normal>) = 10.335\n",
      "DEBUG:matplotlib.font_manager:findfont: score(<Font 'Noto Sans Wancho' (NotoSansWancho-Regular.ttf) normal normal 400 normal>) = 10.05\n",
      "DEBUG:matplotlib.font_manager:findfont: score(<Font 'Zapf Dingbats' (ZapfDingbats.ttf) normal normal 400 normal>) = 10.05\n",
      "DEBUG:matplotlib.font_manager:findfont: score(<Font 'Plantagenet Cherokee' (PlantagenetCherokee.ttf) normal normal 400 normal>) = 10.05\n",
      "DEBUG:matplotlib.font_manager:findfont: score(<Font 'STIXIntegralsSm' (STIXIntSmBol.otf) normal normal 700 normal>) = 10.335\n",
      "DEBUG:matplotlib.font_manager:findfont: score(<Font 'Ayuthaya' (Ayuthaya.ttf) normal normal 400 normal>) = 10.05\n",
      "DEBUG:matplotlib.font_manager:findfont: score(<Font 'Noto Sans Mahajani' (NotoSansMahajani-Regular.ttf) normal normal 400 normal>) = 10.05\n",
      "DEBUG:matplotlib.font_manager:findfont: score(<Font 'Noto Sans Runic' (NotoSansRunic-Regular.ttf) normal normal 400 normal>) = 10.05\n",
      "DEBUG:matplotlib.font_manager:findfont: score(<Font 'Serto Mardin' (SyrCOMMardin.otf) normal normal 400 normal>) = 10.05\n",
      "DEBUG:matplotlib.font_manager:findfont: score(<Font 'Gujarati MT' (GujaratiMT.ttc) normal normal 400 normal>) = 10.05\n",
      "DEBUG:matplotlib.font_manager:findfont: score(<Font 'Apple Chancery' (Apple Chancery.ttf) normal normal 0 normal>) = 10.43\n",
      "DEBUG:matplotlib.font_manager:findfont: score(<Font 'Bitstream Vera Sans' (VeraIt.ttf) oblique normal 400 normal>) = 1.9590909090909092\n",
      "DEBUG:matplotlib.font_manager:findfont: score(<Font 'Trebuchet MS' (Trebuchet MS Bold Italic.ttf) italic normal 700 normal>) = 11.335\n",
      "DEBUG:matplotlib.font_manager:findfont: score(<Font 'Bitstream Vera Sans' (VeraBI.ttf) oblique normal 700 normal>) = 2.244090909090909\n",
      "DEBUG:matplotlib.font_manager:findfont: score(<Font 'STIXGeneral' (STIXGeneralBol.otf) normal normal 700 normal>) = 10.335\n",
      "DEBUG:matplotlib.font_manager:findfont: score(<Font 'Bodoni 72 Smallcaps' (Bodoni 72 Smallcaps Book.ttf) normal normal 400 normal>) = 10.05\n",
      "DEBUG:matplotlib.font_manager:findfont: score(<Font 'Noto Sans Myanmar' (NotoSansMyanmar.ttc) normal normal 900 normal>) = 10.525\n",
      "DEBUG:matplotlib.font_manager:findfont: score(<Font 'Devanagari Sangam MN' (Devanagari Sangam MN.ttc) normal normal 400 normal>) = 10.05\n",
      "DEBUG:matplotlib.font_manager:findfont: score(<Font 'DIN Condensed' (DIN Condensed Bold.ttf) normal normal 700 condensed>) = 10.535\n",
      "DEBUG:matplotlib.font_manager:findfont: score(<Font '.New York' (NewYorkItalic.ttf) italic normal 400 normal>) = 11.05\n",
      "DEBUG:matplotlib.font_manager:findfont: score(<Font 'Noto Sans Ol Chiki' (NotoSansOlChiki-Regular.ttf) normal normal 400 normal>) = 10.05\n",
      "DEBUG:matplotlib.font_manager:findfont: score(<Font 'Cochin' (Cochin.ttc) normal normal 500 normal>) = 10.145\n",
      "DEBUG:matplotlib.font_manager:findfont: score(<Font 'Avenir' (Avenir.ttc) normal normal 400 normal>) = 10.05\n",
      "DEBUG:matplotlib.font_manager:findfont: score(<Font 'STIXIntegralsSm' (STIXIntSmReg.otf) normal normal 400 normal>) = 10.05\n",
      "DEBUG:matplotlib.font_manager:findfont: score(<Font 'Waseem' (Waseem.ttc) normal normal 400 normal>) = 10.05\n",
      "DEBUG:matplotlib.font_manager:findfont: score(<Font 'Damascus' (Damascus.ttc) normal normal 400 normal>) = 10.05\n",
      "DEBUG:matplotlib.font_manager:findfont: score(<Font 'Estrangelo Edessa' (SyrCOMEdessa.otf) normal normal 400 normal>) = 10.05\n",
      "DEBUG:matplotlib.font_manager:findfont: score(<Font 'Impact' (Impact.ttf) normal normal 400 normal>) = 10.05\n",
      "DEBUG:matplotlib.font_manager:findfont: score(<Font 'STIXIntegralsD' (STIXIntDBol.otf) normal normal 700 normal>) = 10.335\n",
      "DEBUG:matplotlib.font_manager:findfont: score(<Font 'Goha-Tibeb Zemen' (GohaTibebZemen.otf) normal normal 500 normal>) = 10.145\n",
      "DEBUG:matplotlib.font_manager:findfont: score(<Font 'Noto Sans Multani' (NotoSansMultani-Regular.ttf) normal normal 400 normal>) = 10.05\n",
      "DEBUG:matplotlib.font_manager:findfont: score(<Font 'Charter' (Charter.ttc) normal normal 400 normal>) = 10.05\n",
      "DEBUG:matplotlib.font_manager:findfont: score(<Font 'Malayalam Sangam MN' (Malayalam Sangam MN.ttc) normal normal 400 normal>) = 10.05\n",
      "DEBUG:matplotlib.font_manager:findfont: score(<Font 'Oriya MN' (Oriya MN.ttc) normal normal 400 normal>) = 10.05\n",
      "DEBUG:matplotlib.font_manager:findfont: score(<Font 'Phosphate' (Phosphate.ttc) normal normal 400 normal>) = 10.05\n",
      "DEBUG:matplotlib.font_manager:findfont: score(<Font 'Noto Sans Cham' (NotoSansCham-Regular.ttf) normal normal 400 normal>) = 10.05\n",
      "DEBUG:matplotlib.font_manager:findfont: score(<Font 'STIXIntegralsUp' (STIXIntUpBol.otf) normal normal 700 normal>) = 10.335\n",
      "DEBUG:matplotlib.font_manager:findfont: score(<Font 'Telugu Sangam MN' (Telugu Sangam MN.ttc) normal normal 400 normal>) = 10.05\n",
      "DEBUG:matplotlib.font_manager:findfont: score(<Font 'Times New Roman' (Times New Roman Bold.ttf) normal normal 700 normal>) = 10.335\n",
      "DEBUG:matplotlib.font_manager:findfont: score(<Font 'Noto Sans Mro' (NotoSansMro-Regular.ttf) normal normal 400 normal>) = 10.05\n",
      "DEBUG:matplotlib.font_manager:findfont: score(<Font 'Noto Sans Osmanya' (NotoSansOsmanya-Regular.ttf) normal normal 400 normal>) = 10.05\n",
      "DEBUG:matplotlib.font_manager:findfont: score(<Font 'Noto Sans Rejang' (NotoSansRejang-Regular.ttf) normal normal 400 normal>) = 10.05\n",
      "DEBUG:matplotlib.font_manager:findfont: score(<Font 'Noto Sans Psalter Pahlavi' (NotoSansPsalterPahlavi-Regular.ttf) normal normal 400 normal>) = 10.05\n",
      "DEBUG:matplotlib.font_manager:findfont: score(<Font 'Mishafi Gold' (Mishafi Gold.ttf) normal normal 400 normal>) = 10.05\n",
      "DEBUG:matplotlib.font_manager:findfont: score(<Font 'Noto Sans Elbasan' (NotoSansElbasan-Regular.ttf) normal normal 400 normal>) = 10.05\n",
      "DEBUG:matplotlib.font_manager:findfont: score(<Font 'Arial Narrow' (Arial Narrow Bold.ttf) normal normal 700 condensed>) = 10.535\n",
      "DEBUG:matplotlib.font_manager:findfont: score(<Font 'Noto Sans Caucasian Albanian' (NotoSansCaucasianAlbanian-Regular.ttf) normal normal 400 normal>) = 10.05\n",
      "DEBUG:matplotlib.font_manager:findfont: score(<Font 'Noto Sans Bamum' (NotoSansBamum-Regular.ttf) normal normal 400 normal>) = 10.05\n",
      "DEBUG:matplotlib.font_manager:findfont: score(<Font 'Apple Braille' (Apple Braille Pinpoint 6 Dot.ttf) normal normal 400 normal>) = 10.05\n",
      "DEBUG:matplotlib.font_manager:findfont: score(<Font 'Noto Sans Tagbanwa' (NotoSansTagbanwa-Regular.ttf) normal normal 400 normal>) = 10.05\n",
      "DEBUG:matplotlib.font_manager:findfont: score(<Font 'Noto Sans Coptic' (NotoSansCoptic-Regular.ttf) normal normal 400 normal>) = 10.05\n",
      "DEBUG:matplotlib.font_manager:findfont: score(<Font 'Lao Sangam MN' (Lao Sangam MN.ttf) normal normal 400 normal>) = 10.05\n",
      "DEBUG:matplotlib.font_manager:findfont: score(<Font 'STIXNonUnicode' (STIXNonUniBolIta.otf) italic normal 700 normal>) = 11.335\n",
      "DEBUG:matplotlib.font_manager:findfont: score(<Font 'Palatino' (Palatino.ttc) normal normal 400 normal>) = 10.05\n",
      "DEBUG:matplotlib.font_manager:findfont: score(<Font 'Diwan Kufi' (Diwan Kufi.ttc) normal normal 400 normal>) = 10.05\n",
      "DEBUG:matplotlib.font_manager:findfont: score(<Font 'Al Bayan' (AlBayan.ttc) normal normal 400 normal>) = 10.05\n",
      "DEBUG:matplotlib.font_manager:findfont: score(<Font 'Luxi Mono' (luximb.ttf) normal normal 700 normal>) = 10.335\n",
      "DEBUG:matplotlib.font_manager:findfont: score(<Font 'Georgia' (Georgia.ttf) normal normal 400 normal>) = 10.05\n",
      "DEBUG:matplotlib.font_manager:findfont: score(<Font 'Brush Script MT' (Brush Script.ttf) italic normal 400 normal>) = 11.05\n",
      "DEBUG:matplotlib.font_manager:findfont: score(<Font 'Kannada MN' (Kannada MN.ttc) normal normal 400 normal>) = 10.05\n",
      "DEBUG:matplotlib.font_manager:findfont: score(<Font 'Hoefler Text' (Hoefler Text.ttc) normal normal 400 normal>) = 10.05\n",
      "DEBUG:matplotlib.font_manager:findfont: score(<Font 'AppleMyungjo' (AppleMyungjo.ttf) normal normal 400 normal>) = 10.05\n",
      "DEBUG:matplotlib.font_manager:findfont: score(<Font 'Estrangelo Midyat' (SyrCOMMidyat.otf) normal normal 400 normal>) = 10.05\n",
      "DEBUG:matplotlib.font_manager:findfont: score(<Font 'Bitstream Vera Serif' (VeraSeBd.ttf) normal normal 700 normal>) = 10.335\n",
      "DEBUG:matplotlib.font_manager:findfont: score(<Font 'Kokonor' (Kokonor.ttf) normal normal 400 normal>) = 10.05\n",
      "DEBUG:matplotlib.font_manager:findfont: score(<Font 'System Font' (SFNS.ttf) normal normal 400 normal>) = 10.05\n",
      "DEBUG:matplotlib.font_manager:findfont: score(<Font 'Luxi Sans' (luxisri.ttf) oblique normal 400 normal>) = 11.05\n",
      "DEBUG:matplotlib.font_manager:findfont: score(<Font 'Bitstream Vera Sans' (VeraBd.ttf) normal normal 700 normal>) = 1.2440909090909091\n",
      "DEBUG:matplotlib.font_manager:findfont: score(<Font 'Hiragino Sans' (ヒラギノ角ゴシック W4.ttc) normal normal 400 normal>) = 10.05\n",
      "DEBUG:matplotlib.font_manager:findfont: score(<Font 'Serto Mardin' (SyrCOMMardinBold.otf) normal normal 700 normal>) = 10.335\n",
      "DEBUG:matplotlib.font_manager:findfont: score(<Font '.Arabic UI Display' (ArabicUIDisplay.ttc) normal normal 900 normal>) = 10.525\n",
      "DEBUG:matplotlib.font_manager:findfont: score(<Font 'East Syriac Ctesiphon' (SyrCOMCtesiphon.otf) normal normal 400 normal>) = 10.05\n",
      "DEBUG:matplotlib.font_manager:findfont: score(<Font 'Hiragino Sans' (ヒラギノ角ゴシック W0.ttc) normal normal 100 normal>) = 10.335\n",
      "DEBUG:matplotlib.font_manager:findfont: score(<Font 'Arial' (Arial Bold Italic.ttf) italic normal 700 normal>) = 7.698636363636363\n",
      "DEBUG:matplotlib.font_manager:findfont: score(<Font 'Noto Sans Batak' (NotoSansBatak-Regular.ttf) normal normal 400 normal>) = 10.05\n",
      "DEBUG:matplotlib.font_manager:findfont: score(<Font '.SF Compact' (SFCompact.ttf) normal normal 1000 normal>) = 10.62\n",
      "DEBUG:matplotlib.font_manager:findfont: score(<Font 'Khmer Sangam MN' (Khmer Sangam MN.ttf) normal normal 400 normal>) = 10.05\n",
      "DEBUG:matplotlib.font_manager:findfont: score(<Font 'Noto Sans Bassa Vah' (NotoSansBassaVah-Regular.ttf) normal normal 400 normal>) = 10.05\n",
      "DEBUG:matplotlib.font_manager:findfont: score(<Font 'Noto Sans Nabataean' (NotoSansNabataean-Regular.ttf) normal normal 400 normal>) = 10.05\n",
      "DEBUG:matplotlib.font_manager:findfont: score(<Font 'Noto Sans Sharada' (NotoSansSharada-Regular.ttf) normal normal 400 normal>) = 10.05\n",
      "DEBUG:matplotlib.font_manager:findfont: score(<Font 'Noto Sans Tai Tham' (NotoSansTaiTham-Regular.ttf) normal normal 400 normal>) = 10.05\n",
      "DEBUG:matplotlib.font_manager:findfont: score(<Font 'Seravek' (Seravek.ttc) normal normal 400 normal>) = 10.05\n",
      "DEBUG:matplotlib.font_manager:findfont: score(<Font 'Luxi Mono' (luximri.ttf) oblique normal 400 normal>) = 11.05\n",
      "DEBUG:matplotlib.font_manager:findfont: score(<Font 'Kannada Sangam MN' (Kannada Sangam MN.ttc) normal normal 400 normal>) = 10.05\n",
      "DEBUG:matplotlib.font_manager:findfont: score(<Font 'Didot' (Didot.ttc) normal normal 400 normal>) = 10.05\n",
      "DEBUG:matplotlib.font_manager:findfont: score(<Font 'Bitstream Vera Sans Mono' (VeraMono.ttf) normal normal 400 normal>) = 10.05\n",
      "DEBUG:matplotlib.font_manager:findfont: score(<Font 'Shree Devanagari 714' (Shree714.ttc) normal normal 400 normal>) = 10.05\n",
      "DEBUG:matplotlib.font_manager:findfont: score(<Font 'Kohinoor Bangla' (KohinoorBangla.ttc) normal normal 400 normal>) = 10.05\n",
      "DEBUG:matplotlib.font_manager:findfont: score(<Font 'Trebuchet MS' (Trebuchet MS Bold.ttf) normal normal 700 normal>) = 10.335\n",
      "DEBUG:matplotlib.font_manager:findfont: score(<Font 'Kohinoor Gujarati' (KohinoorGujarati.ttc) normal normal 700 normal>) = 10.335\n",
      "DEBUG:matplotlib.font_manager:findfont: score(<Font 'Symbol' (Symbol.ttf) normal normal 400 normal>) = 10.05\n",
      "DEBUG:matplotlib.font_manager:findfont: score(<Font 'Hiragino Sans' (ヒラギノ角ゴシック W9.ttc) normal normal 900 normal>) = 10.525\n",
      "DEBUG:matplotlib.font_manager:findfont: score(<Font 'Papyrus' (Papyrus.ttc) normal normal 400 condensed>) = 10.25\n",
      "DEBUG:matplotlib.font_manager:findfont: score(<Font 'STIXSizeThreeSym' (STIXSizThreeSymReg.otf) normal normal 400 normal>) = 10.05\n",
      "DEBUG:matplotlib.font_manager:findfont: score(<Font 'Apple Braille' (Apple Braille.ttf) normal normal 400 normal>) = 10.05\n",
      "DEBUG:matplotlib.font_manager:findfont: score(<Font 'Noto Sans Lycian' (NotoSansLycian-Regular.ttf) normal normal 400 normal>) = 10.05\n",
      "DEBUG:matplotlib.font_manager:findfont: score(<Font 'Estrangelo Talada' (SyrCOMTalada.otf) normal normal 400 normal>) = 10.05\n",
      "DEBUG:matplotlib.font_manager:findfont: score(<Font 'Noto Sans Kharoshthi' (NotoSansKharoshthi-Regular.ttf) normal normal 400 normal>) = 10.05\n",
      "DEBUG:matplotlib.font_manager:findfont: score(<Font 'Goha-Tibeb Zemen' (GohaTibebZemen.ttf) normal normal 500 normal>) = 10.145\n",
      "DEBUG:matplotlib.font_manager:findfont: score(<Font 'STIXNonUnicode' (STIXNonUniBol.otf) normal normal 700 normal>) = 10.335\n",
      "DEBUG:matplotlib.font_manager:findfont: score(<Font 'Noto Sans Siddham' (NotoSansSiddham-Regular.ttf) normal normal 400 normal>) = 10.05\n",
      "DEBUG:matplotlib.font_manager:findfont: score(<Font 'STIXSizeOneSym' (STIXSizOneSymReg.otf) normal normal 400 normal>) = 10.05\n",
      "DEBUG:matplotlib.font_manager:findfont: score(<Font 'STIXGeneral' (STIXGeneralItalic.otf) italic normal 400 normal>) = 11.05\n",
      "DEBUG:matplotlib.font_manager:findfont: score(<Font 'Menlo' (Menlo.ttc) normal normal 400 normal>) = 10.05\n",
      "DEBUG:matplotlib.font_manager:findfont: score(<Font 'Apple Braille' (Apple Braille Outline 8 Dot.ttf) normal normal 400 normal>) = 10.05\n",
      "DEBUG:matplotlib.font_manager:findfont: score(<Font 'Noto Sans Brahmi' (NotoSansBrahmi-Regular.ttf) normal normal 400 normal>) = 10.05\n",
      "DEBUG:matplotlib.font_manager:findfont: score(<Font 'Noto Sans Sundanese' (NotoSansSundanese-Regular.ttf) normal normal 400 normal>) = 10.05\n",
      "DEBUG:matplotlib.font_manager:findfont: score(<Font 'Baghdad' (Baghdad.ttc) normal normal 400 normal>) = 10.05\n",
      "DEBUG:matplotlib.font_manager:findfont: score(<Font 'Noto Sans Saurashtra' (NotoSansSaurashtra-Regular.ttf) normal normal 400 normal>) = 10.05\n",
      "DEBUG:matplotlib.font_manager:findfont: score(<Font 'Apple Braille' (Apple Braille Outline 6 Dot.ttf) normal normal 400 normal>) = 10.05\n",
      "DEBUG:matplotlib.font_manager:findfont: score(<Font 'Wingdings 2' (Wingdings 2.ttf) normal normal 400 normal>) = 10.05\n",
      "DEBUG:matplotlib.font_manager:findfont: score(<Font 'Noto Sans Adlam' (NotoSansAdlam-Regular.ttf) normal normal 400 normal>) = 10.05\n",
      "DEBUG:matplotlib.font_manager:findfont: score(<Font 'Noto Sans Cuneiform' (NotoSansCuneiform-Regular.ttf) normal normal 400 normal>) = 10.05\n",
      "DEBUG:matplotlib.font_manager:findfont: score(<Font 'Kailasa' (Kailasa.ttc) normal normal 400 normal>) = 10.05\n",
      "DEBUG:matplotlib.font_manager:findfont: score(<Font 'Hiragino Sans' (ヒラギノ角ゴシック W1.ttc) normal normal 200 normal>) = 10.24\n",
      "DEBUG:matplotlib.font_manager:findfont: score(<Font 'Comic Sans MS' (Comic Sans MS Bold.ttf) normal normal 700 normal>) = 10.335\n",
      "DEBUG:matplotlib.font_manager:findfont: score(<Font 'Noto Sans Palmyrene' (NotoSansPalmyrene-Regular.ttf) normal normal 400 normal>) = 10.05\n",
      "DEBUG:matplotlib.font_manager:findfont: score(<Font 'STIXSizeTwoSym' (STIXSizTwoSymReg.otf) normal normal 400 normal>) = 10.05\n",
      "DEBUG:matplotlib.font_manager:findfont: score(<Font 'AppleGothic' (AppleGothic.ttf) normal normal 400 normal>) = 10.05\n",
      "DEBUG:matplotlib.font_manager:findfont: score(<Font 'Noto Sans Pahawh Hmong' (NotoSansPahawhHmong-Regular.ttf) normal normal 400 normal>) = 10.05\n",
      "DEBUG:matplotlib.font_manager:findfont: score(<Font 'Wingdings' (Wingdings.ttf) normal normal 400 normal>) = 10.05\n",
      "DEBUG:matplotlib.font_manager:findfont: score(<Font 'Courier New' (Courier New Italic.ttf) italic normal 400 normal>) = 11.05\n",
      "DEBUG:matplotlib.font_manager:findfont: score(<Font 'STIXNonUnicode' (STIXNonUniIta.otf) italic normal 400 normal>) = 11.05\n",
      "DEBUG:matplotlib.font_manager:findfont: score(<Font 'Luminari' (Luminari.ttf) normal normal 400 normal>) = 10.05\n",
      "DEBUG:matplotlib.font_manager:findfont: score(<Font 'Chalkboard SE' (ChalkboardSE.ttc) normal normal 400 normal>) = 10.05\n",
      "DEBUG:matplotlib.font_manager:findfont: score(<Font 'SignPainter' (SignPainter.ttc) normal normal 400 normal>) = 10.05\n",
      "DEBUG:matplotlib.font_manager:findfont: score(<Font 'Georgia' (Georgia Italic.ttf) italic normal 400 normal>) = 11.05\n",
      "DEBUG:matplotlib.font_manager:findfont: score(<Font 'Noto Sans Linear B' (NotoSansLinearB-Regular.ttf) normal normal 400 normal>) = 10.05\n",
      "DEBUG:matplotlib.font_manager:findfont: score(<Font 'Serto Jerusalem' (SyrCOMJerusalemBold.otf) normal normal 700 normal>) = 10.335\n",
      "DEBUG:matplotlib.font_manager:findfont: score(<Font 'Noto Sans Osage' (NotoSansOsage-Regular.ttf) normal normal 400 normal>) = 10.05\n",
      "DEBUG:matplotlib.font_manager:findfont: score(<Font 'Diwan Thuluth' (Diwan Thuluth.ttf) normal normal 400 normal>) = 10.05\n",
      "DEBUG:matplotlib.font_manager:findfont: score(<Font 'STIXIntegralsD' (STIXIntDReg.otf) normal normal 400 normal>) = 10.05\n",
      "DEBUG:matplotlib.font_manager:findfont: score(<Font 'STIXSizeOneSym' (STIXSizOneSymBol.otf) normal normal 700 normal>) = 10.335\n",
      "DEBUG:matplotlib.font_manager:findfont: score(<Font 'Noto Sans Glagolitic' (NotoSansGlagolitic-Regular.ttf) normal normal 400 normal>) = 10.05\n",
      "DEBUG:matplotlib.font_manager:findfont: score(<Font 'Georgia' (Georgia Bold Italic.ttf) italic normal 700 normal>) = 11.335\n",
      "DEBUG:matplotlib.font_manager:findfont: score(<Font 'Oriya Sangam MN' (Oriya Sangam MN.ttc) normal normal 400 normal>) = 10.05\n",
      "DEBUG:matplotlib.font_manager:findfont: score(<Font 'Serto Kharput' (SyrCOMKharput.otf) normal normal 400 normal>) = 10.05\n",
      "DEBUG:matplotlib.font_manager:findfont: score(<Font 'STIXIntegralsUpD' (STIXIntUpDBol.otf) normal normal 700 normal>) = 10.335\n",
      "DEBUG:matplotlib.font_manager:findfont: score(<Font 'Luxi Sans' (luxisr.ttf) normal normal 400 normal>) = 10.05\n",
      "DEBUG:matplotlib.font_manager:findfont: score(<Font '.SF Compact' (SFCompactItalic.ttf) italic normal 1000 normal>) = 11.62\n",
      "DEBUG:matplotlib.font_manager:findfont: score(<Font 'Noto Sans Kaithi' (NotoSansKaithi-Regular.ttf) normal normal 400 normal>) = 10.05\n",
      "DEBUG:matplotlib.font_manager:findfont: score(<Font 'Apple Braille' (Apple Braille Pinpoint 8 Dot.ttf) normal normal 400 normal>) = 10.05\n",
      "DEBUG:matplotlib.font_manager:findfont: score(<Font 'Bitstream Vera Sans Mono' (VeraMoBd.ttf) normal normal 700 normal>) = 10.335\n",
      "DEBUG:matplotlib.font_manager:findfont: score(<Font 'Bangla MN' (Bangla MN.ttc) normal normal 400 normal>) = 10.05\n",
      "DEBUG:matplotlib.font_manager:findfont: score(<Font 'Noto Sans Inscriptional Pahlavi' (NotoSansInscriptionalPahlavi-Regular.ttf) normal normal 400 normal>) = 10.05\n",
      "DEBUG:matplotlib.font_manager:findfont: score(<Font 'Noto Sans Tagalog' (NotoSansTagalog-Regular.ttf) normal normal 400 normal>) = 10.05\n",
      "DEBUG:matplotlib.font_manager:findfont: score(<Font 'Luxi Mono' (luximr.ttf) normal normal 400 normal>) = 10.05\n",
      "DEBUG:matplotlib.font_manager:findfont: score(<Font 'Courier New' (Courier New Bold.ttf) normal normal 700 normal>) = 10.335\n",
      "DEBUG:matplotlib.font_manager:findfont: score(<Font 'Noto Sans Tirhuta' (NotoSansTirhuta-Regular.ttf) normal normal 400 normal>) = 10.05\n",
      "DEBUG:matplotlib.font_manager:findfont: score(<Font 'Noto Sans Lisu' (NotoSansLisu-Regular.ttf) normal normal 400 normal>) = 10.05\n",
      "DEBUG:matplotlib.font_manager:findfont: score(<Font '.Keyboard' (Keyboard.ttf) normal normal 100 normal>) = 10.335\n",
      "DEBUG:matplotlib.font_manager:findfont: score(<Font 'Noto Sans Khojki' (NotoSansKhojki-Regular.ttf) normal normal 400 normal>) = 10.05\n",
      "DEBUG:matplotlib.font_manager:findfont: score(<Font 'Noto Sans Oriya' (NotoSansOriya.ttc) normal normal 400 normal>) = 10.05\n",
      "DEBUG:matplotlib.font_manager:findfont: score(<Font 'Estrangelo Nisibin' (SyrCOMNisibin.otf) normal normal 400 normal>) = 10.05\n",
      "DEBUG:matplotlib.font_manager:findfont: score(<Font 'Noto Sans Marchen' (NotoSansMarchen-Regular.ttf) normal normal 400 normal>) = 10.05\n",
      "DEBUG:matplotlib.font_manager:findfont: score(<Font 'Noto Sans Old Permic' (NotoSansOldPermic-Regular.ttf) normal normal 400 normal>) = 10.05\n",
      "DEBUG:matplotlib.font_manager:findfont: score(<Font 'Noto Sans Carian' (NotoSansCarian-Regular.ttf) normal normal 400 normal>) = 10.05\n",
      "DEBUG:matplotlib.font_manager:findfont: score(<Font 'Times New Roman' (Times New Roman Italic.ttf) italic normal 400 normal>) = 11.05\n",
      "DEBUG:matplotlib.font_manager:findfont: score(<Font 'Noto Sans Buhid' (NotoSansBuhid-Regular.ttf) normal normal 400 normal>) = 10.05\n",
      "DEBUG:matplotlib.font_manager:findfont: score(<Font 'Noto Sans Inscriptional Parthian' (NotoSansInscriptionalParthian-Regular.ttf) normal normal 400 normal>) = 10.05\n",
      "DEBUG:matplotlib.font_manager:findfont: score(<Font 'Hiragino Sans' (ヒラギノ角ゴシック W2.ttc) normal normal 250 normal>) = 10.1925\n",
      "DEBUG:matplotlib.font_manager:findfont: score(<Font 'PT Serif' (PTSerif.ttc) normal normal 400 normal>) = 10.05\n",
      "DEBUG:matplotlib.font_manager:findfont: score(<Font '.SF NS Mono' (SFNSMono.ttf) normal normal 295 normal>) = 10.14975\n",
      "DEBUG:matplotlib.font_manager:findfont: score(<Font 'Silom' (Silom.ttf) normal normal 400 normal>) = 10.05\n",
      "DEBUG:matplotlib.font_manager:findfont: score(<Font 'Estrangelo Quenneshrin' (SyrCOMQenNeshrin.otf) normal normal 400 normal>) = 10.05\n",
      "DEBUG:matplotlib.font_manager:findfont: score(<Font 'Kohinoor Devanagari' (Kohinoor.ttc) normal normal 400 normal>) = 10.05\n",
      "DEBUG:matplotlib.font_manager:findfont: score(<Font 'Arial Unicode MS' (Arial Unicode.ttf) normal normal 400 normal>) = 10.05\n",
      "DEBUG:matplotlib.font_manager:findfont: score(<Font 'Estrangelo Nisibin Outline' (SyrCOMNisibinOutline.otf) normal normal 400 normal>) = 10.05\n",
      "DEBUG:matplotlib.font_manager:findfont: score(<Font 'Noto Sans Samaritan' (NotoSansSamaritan-Regular.ttf) normal normal 400 normal>) = 10.05\n",
      "DEBUG:matplotlib.font_manager:findfont: score(<Font 'Corsiva Hebrew' (Corsiva.ttc) normal normal 400 normal>) = 10.05\n",
      "DEBUG:matplotlib.font_manager:findfont: score(<Font 'Georgia' (Georgia Bold.ttf) normal normal 700 normal>) = 10.335\n",
      "DEBUG:matplotlib.font_manager:findfont: score(<Font 'Arial' (Arial Italic.ttf) italic normal 400 normal>) = 7.413636363636363\n",
      "DEBUG:matplotlib.font_manager:findfont: score(<Font 'STIXSizeFiveSym' (STIXSizFiveSymReg.otf) normal normal 400 normal>) = 10.05\n",
      "DEBUG:matplotlib.font_manager:findfont: score(<Font 'Helvetica Neue' (HelveticaNeue.ttc) normal normal 400 normal>) = 10.05\n",
      "DEBUG:matplotlib.font_manager:findfont: score(<Font '.SF NS Mono' (SFNSMonoItalic.ttf) italic normal 295 normal>) = 11.14975\n",
      "DEBUG:matplotlib.font_manager:findfont: score(<Font 'Big Caslon' (BigCaslon.ttf) normal normal 500 normal>) = 10.145\n",
      "DEBUG:matplotlib.font_manager:findfont: score(<Font 'Khmer MN' (Khmer MN.ttc) normal normal 400 normal>) = 10.05\n",
      "DEBUG:matplotlib.font_manager:findfont: score(<Font 'Party LET' (PartyLET-plain.ttf) normal normal 400 normal>) = 10.05\n",
      "DEBUG:matplotlib.font_manager:findfont: score(<Font 'Tamil Sangam MN' (Tamil Sangam MN.ttc) normal normal 400 normal>) = 10.05\n",
      "DEBUG:matplotlib.font_manager:findfont: score(<Font 'Marker Felt' (MarkerFelt.ttc) normal normal 400 normal>) = 10.05\n",
      "DEBUG:matplotlib.font_manager:findfont: score(<Font 'Geeza Pro' (GeezaPro.ttc) normal normal 400 normal>) = 10.05\n",
      "DEBUG:matplotlib.font_manager:findfont: score(<Font 'Noto Sans Kannada' (NotoSansKannada.ttc) normal normal 900 normal>) = 10.525\n",
      "DEBUG:matplotlib.font_manager:findfont: score(<Font 'Estrangelo TurAbdin' (SyrCOMTurAbdin.otf) normal normal 400 normal>) = 10.05\n",
      "DEBUG:matplotlib.font_manager:findfont: score(<Font 'Optima' (Optima.ttc) normal normal 400 normal>) = 10.05\n",
      "DEBUG:matplotlib.font_manager:findfont: score(<Font '.Arabic UI Text' (ArabicUIText.ttc) normal normal 400 normal>) = 10.05\n",
      "DEBUG:matplotlib.font_manager:findfont: score(<Font 'Noto Sans Lepcha' (NotoSansLepcha-Regular.ttf) normal normal 400 normal>) = 10.05\n",
      "DEBUG:matplotlib.font_manager:findfont: score(<Font 'Arial Rounded MT Bold' (Arial Rounded Bold.ttf) normal normal 400 normal>) = 10.05\n",
      "DEBUG:matplotlib.font_manager:findfont: score(<Font 'Herculanum' (Herculanum.ttf) normal normal 400 normal>) = 10.05\n",
      "DEBUG:matplotlib.font_manager:findfont: score(<Font 'Noto Sans Tai Le' (NotoSansTaiLe-Regular.ttf) normal normal 400 normal>) = 10.05\n",
      "DEBUG:matplotlib.font_manager:findfont: score(<Font 'Skia' (Skia.ttf) normal normal 5 normal>) = 10.42525\n",
      "DEBUG:matplotlib.font_manager:findfont: score(<Font 'KufiStandardGK' (KufiStandardGK.ttc) normal normal 400 normal>) = 10.05\n",
      "DEBUG:matplotlib.font_manager:findfont: score(<Font 'Noto Sans Tifinagh' (NotoSansTifinagh-Regular.ttf) normal normal 400 normal>) = 10.05\n",
      "DEBUG:matplotlib.font_manager:findfont: score(<Font 'PingFang HK' (PingFang.ttc) normal normal 400 normal>) = 10.05\n",
      "DEBUG:matplotlib.font_manager:findfont: score(<Font 'Webdings' (Webdings.ttf) normal normal 400 normal>) = 10.05\n",
      "DEBUG:matplotlib.font_manager:findfont: score(<Font 'Noto Sans Mongolian' (NotoSansMongolian-Regular.ttf) normal normal 400 normal>) = 10.05\n",
      "DEBUG:matplotlib.font_manager:findfont: score(<Font 'Mishafi' (Mishafi.ttf) normal normal 400 normal>) = 10.05\n",
      "DEBUG:matplotlib.font_manager:findfont: score(<Font 'Noto Sans Linear A' (NotoSansLinearA-Regular.ttf) normal normal 400 normal>) = 10.05\n",
      "DEBUG:matplotlib.font_manager:findfont: score(<Font 'STIXNonUnicode' (STIXNonUni.otf) normal normal 400 normal>) = 10.05\n",
      "DEBUG:matplotlib.font_manager:findfont: score(<Font 'Noto Sans Hanifi Rohingya' (NotoSansHanifiRohingya-Regular.ttf) normal normal 400 normal>) = 10.05\n",
      "DEBUG:matplotlib.font_manager:findfont: score(<Font 'Copperplate' (Copperplate.ttc) normal normal 400 normal>) = 10.05\n",
      "DEBUG:matplotlib.font_manager:findfont: score(<Font 'Trattatello' (Trattatello.ttf) normal normal 400 normal>) = 10.05\n",
      "DEBUG:matplotlib.font_manager:findfont: score(<Font 'Myanmar Sangam MN' (Myanmar Sangam MN.ttc) normal normal 400 normal>) = 10.05\n",
      "DEBUG:matplotlib.font_manager:findfont: score(<Font 'Noto Sans Meetei Mayek' (NotoSansMeeteiMayek-Regular.ttf) normal normal 400 normal>) = 10.05\n",
      "DEBUG:matplotlib.font_manager:findfont: score(<Font 'Noto Sans New Tai Lue' (NotoSansNewTaiLue-Regular.ttf) normal normal 400 normal>) = 10.05\n",
      "DEBUG:matplotlib.font_manager:findfont: score(<Font 'Noto Sans Ugaritic' (NotoSansUgaritic-Regular.ttf) normal normal 400 normal>) = 10.05\n",
      "DEBUG:matplotlib.font_manager:findfont: score(<Font 'Serto Urhoy' (SyrCOMUrhoyBold.otf) normal normal 700 normal>) = 10.335\n",
      "DEBUG:matplotlib.font_manager:findfont: score(<Font 'Wingdings 3' (Wingdings 3.ttf) normal normal 400 normal>) = 10.05\n",
      "DEBUG:matplotlib.font_manager:findfont: score(<Font 'Noto Sans Lydian' (NotoSansLydian-Regular.ttf) normal normal 400 normal>) = 10.05\n",
      "DEBUG:matplotlib.font_manager:findfont: score(<Font 'Bitstream Vera Sans' (Vera.ttf) normal normal 400 normal>) = 0.9590909090909092\n",
      "DEBUG:matplotlib.font_manager:findfont: score(<Font 'Beirut' (Beirut.ttc) normal normal 700 normal>) = 10.335\n",
      "DEBUG:matplotlib.font_manager:findfont: score(<Font 'Estrangelo Antioch' (SyrCOMAntioch.otf) normal normal 400 normal>) = 10.05\n",
      "DEBUG:matplotlib.font_manager:findfont: score(<Font 'Lucida Grande' (LucidaGrande.ttc) normal normal 500 normal>) = 2.872272727272727\n",
      "DEBUG:matplotlib.font_manager:findfont: score(<Font 'Hiragino Maru Gothic Pro' (ヒラギノ丸ゴ ProN W4.ttc) normal normal 400 normal>) = 10.05\n",
      "DEBUG:matplotlib.font_manager:findfont: score(<Font 'Arial Black' (Arial Black.ttf) normal normal 900 normal>) = 10.525\n",
      "DEBUG:matplotlib.font_manager:findfont: score(<Font 'Noto Sans Syriac' (NotoSansSyriac-Regular.ttf) normal normal 400 normal>) = 10.05\n",
      "DEBUG:matplotlib.font_manager:findfont: score(<Font 'Tahoma' (Tahoma.ttf) normal normal 400 normal>) = 10.05\n",
      "DEBUG:matplotlib.font_manager:findfont: score(<Font 'Baskerville' (Baskerville.ttc) normal normal 400 normal>) = 10.05\n",
      "DEBUG:matplotlib.font_manager:findfont: score(<Font 'Snell Roundhand' (SnellRoundhand.ttc) normal normal 500 normal>) = 10.145\n",
      "DEBUG:matplotlib.font_manager:findfont: score(<Font 'Helvetica' (Helvetica.ttc) normal normal 400 normal>) = 7.322727272727273\n",
      "DEBUG:matplotlib.font_manager:findfont: score(<Font 'Serto Jerusalem Outline' (SyrCOMJerusalemOutline.otf) normal normal 400 normal>) = 10.05\n",
      "DEBUG:matplotlib.font_manager:findfont: score(<Font 'DIN Alternate' (DIN Alternate Bold.ttf) normal normal 700 normal>) = 10.335\n",
      "DEBUG:matplotlib.font_manager:findfont: score(<Font 'Gujarati Sangam MN' (Gujarati Sangam MN.ttc) normal normal 400 normal>) = 10.05\n",
      "DEBUG:matplotlib.font_manager:findfont: score(<Font 'Serto Batnan' (SyrCOMBatnan.otf) normal normal 400 normal>) = 10.05\n",
      "DEBUG:matplotlib.font_manager:findfont: score(<Font 'Bitstream Vera Serif' (VeraSe.ttf) normal normal 400 normal>) = 10.05\n",
      "DEBUG:matplotlib.font_manager:findfont: score(<Font 'Noto Sans Hanunoo' (NotoSansHanunoo-Regular.ttf) normal normal 400 normal>) = 10.05\n",
      "DEBUG:matplotlib.font_manager:findfont: score(<Font 'Avenir Next Condensed' (Avenir Next Condensed.ttc) normal normal 700 condensed>) = 10.535\n",
      "DEBUG:matplotlib.font_manager:findfont: score(<Font 'Krungthep' (Krungthep.ttf) normal normal 400 normal>) = 10.05\n",
      "DEBUG:matplotlib.font_manager:findfont: score(<Font 'Thonburi' (Thonburi.ttc) normal normal 400 normal>) = 10.05\n",
      "DEBUG:matplotlib.font_manager:findfont: score(<Font 'Noto Sans Armenian' (NotoSansArmenian.ttc) normal normal 900 normal>) = 10.525\n",
      "DEBUG:matplotlib.font_manager:findfont: score(<Font 'Tahoma' (Tahoma Bold.ttf) normal normal 700 normal>) = 10.335\n",
      "DEBUG:matplotlib.font_manager:findfont: score(<Font 'Euphemia UCAS' (EuphemiaCAS.ttc) normal normal 400 normal>) = 10.05\n",
      "DEBUG:matplotlib.font_manager:findfont: score(<Font 'Chalkboard' (Chalkboard.ttc) normal normal 400 normal>) = 10.05\n",
      "DEBUG:matplotlib.font_manager:findfont: score(<Font 'Arial Narrow' (Arial Narrow Italic.ttf) italic normal 400 condensed>) = 11.25\n",
      "DEBUG:matplotlib.font_manager:findfont: score(<Font 'Luxi Serif' (luxirb.ttf) normal normal 700 normal>) = 10.335\n",
      "DEBUG:matplotlib.font_manager:findfont: score(<Font 'Noto Sans Kayah Li' (NotoSansKayahLi-Regular.ttf) normal normal 400 normal>) = 10.05\n",
      "DEBUG:matplotlib.font_manager:findfont: score(<Font 'Andale Mono' (Andale Mono.ttf) normal normal 400 normal>) = 10.05\n",
      "DEBUG:matplotlib.font_manager:findfont: score(<Font 'Galvji' (Galvji.ttc) normal normal 400 normal>) = 10.05\n",
      "DEBUG:matplotlib.font_manager:findfont: score(<Font 'Heiti TC' (STHeiti Medium.ttc) normal normal 400 normal>) = 10.05\n",
      "DEBUG:matplotlib.font_manager:findfont: score(<Font 'STIXIntegralsUpSm' (STIXIntUpSmBol.otf) normal normal 700 normal>) = 10.335\n",
      "DEBUG:matplotlib.font_manager:findfont: score(<Font 'Al Tarikh' (Al Tarikh.ttc) normal normal 400 normal>) = 10.05\n",
      "DEBUG:matplotlib.font_manager:findfont: score(<Font 'Arial' (Arial.ttf) normal normal 400 normal>) = 6.413636363636363\n",
      "DEBUG:matplotlib.font_manager:findfont: score(<Font 'Bitstream Vera Sans Mono' (VeraMoBI.ttf) oblique normal 700 normal>) = 11.335\n",
      "DEBUG:matplotlib.font_manager:findfont: score(<Font 'Mukta Mahee' (MuktaMahee.ttc) normal normal 400 normal>) = 10.05\n",
      "DEBUG:matplotlib.font_manager:findfont: score(<Font '.SF NS Rounded' (SFNSRounded.ttf) normal normal 400 normal>) = 10.05\n",
      "DEBUG:matplotlib.font_manager:findfont: score(<Font 'Noto Sans Bhaiksuki' (NotoSansBhaiksuki-Regular.ttf) normal normal 400 normal>) = 10.05\n",
      "DEBUG:matplotlib.font_manager:findfont: score(<Font 'Kefa' (Kefa.ttc) normal normal 400 normal>) = 10.05\n",
      "DEBUG:matplotlib.font_manager:findfont: score(<Font 'Hiragino Sans GB' (Hiragino Sans GB.ttc) normal normal 300 normal>) = 10.145\n",
      "DEBUG:matplotlib.font_manager:findfont: score(<Font 'Mshtakan' (Mshtakan.ttc) normal normal 400 normal>) = 10.05\n",
      "DEBUG:matplotlib.font_manager:findfont: Matching sans\\-serif:style=normal:variant=normal:weight=normal:stretch=normal:size=12.0 to DejaVu Sans ('/opt/anaconda3/envs/mne/lib/python3.9/site-packages/matplotlib/mpl-data/fonts/ttf/DejaVuSans.ttf') with score of 0.050000.\n",
      "DEBUG:matplotlib.backends.backend_pdf:Assigning font /b'F1' = '/opt/anaconda3/envs/mne/lib/python3.9/site-packages/matplotlib/mpl-data/fonts/ttf/DejaVuSans.ttf'\n",
      "DEBUG:matplotlib.backends.backend_pdf:Embedding font /opt/anaconda3/envs/mne/lib/python3.9/site-packages/matplotlib/mpl-data/fonts/ttf/DejaVuSans.ttf.\n",
      "DEBUG:matplotlib.backends.backend_pdf:Writing TrueType font.\n"
     ]
    },
    {
     "data": {
      "image/png": "[encoded data removed]",
      "text/plain": [
       "<Figure size 432x288 with 1 Axes>"
      ]
     },
     "metadata": {
      "needs_background": "light"
     },
     "output_type": "display_data"
    }
   ],
   "source": [
    "#Condition must be Audiovisual or Visual only\n",
    "\n",
    "wt, corrs, valphas, allRcorrs, all_corrs_shuff = strf_features(subject, block, data_dir, condition, mouthUphnfeat=True, \n",
    "                                                               delay_max=0.6, delay_min=0.0, fs=128., wt_pad=0.0)"
   ]
  },
  {
   "cell_type": "code",
   "execution_count": null,
   "id": "c84ac08a",
   "metadata": {},
   "outputs": [],
   "source": []
  }
 ],
 "metadata": {
  "kernelspec": {
   "display_name": "Python 3.9.4 ('mne')",
   "language": "python",
   "name": "python3"
  },
  "language_info": {
   "codemirror_mode": {
    "name": "ipython",
    "version": 3
   },
   "file_extension": ".py",
   "mimetype": "text/x-python",
   "name": "python",
   "nbconvert_exporter": "python",
   "pygments_lexer": "ipython3",
   "version": "3.9.4"
  },
  "vscode": {
   "interpreter": {
    "hash": "b1787852c5ebc8a234d5dd588a6827f96e36f4f06bf273e126457c4ca6738dba"
   }
  }
 },
 "nbformat": 4,
 "nbformat_minor": 5
}
